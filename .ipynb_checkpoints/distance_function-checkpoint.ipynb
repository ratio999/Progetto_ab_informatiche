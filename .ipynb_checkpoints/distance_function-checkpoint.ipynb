{
 "cells": [
  {
   "cell_type": "markdown",
   "id": "3353bdd8",
   "metadata": {},
   "source": [
    "# Le seguenti celle fanno il calcolo della distanza di una coordinata sul file SPT-CL_J2344-4243_band3_combined.dat.im.image.fits"
   ]
  },
  {
   "cell_type": "markdown",
   "id": "6a28c658",
   "metadata": {},
   "source": [
    "La prima cella fa un import dei package necessari. La seconda definisce una funzione con tutte le eccezioni del caso e restituisce 3 distanze: [distanza in pixel, distanza in gradi, distanza in radianti]. \n",
    "\n",
    "Gli argomenti della funzione sono: il file fits su cui basarsi, le coordinate x e y dei due punti (per il secondo punto ci sono dei valori di default che sono quelli del reference point nell'header del file) di cui calcolare la distanza, l'unità di misura con cui sono espresse queste coordinate. Quest'ultima può essere in pixel ('pixel'), gradi sessagesimali ('angle_deg') o radianti ('angle_rad')."
   ]
  },
  {
   "cell_type": "code",
   "execution_count": 1,
   "id": "6bdae024",
   "metadata": {},
   "outputs": [],
   "source": [
    "from astropy.io import fits\n",
    "import numpy as np\n",
    "import matplotlib.pyplot as plt\n",
    "fil='SPT-CL_J2344-4243_band3_combined.dat.im.image.fits'"
   ]
  },
  {
   "cell_type": "code",
   "execution_count": 2,
   "id": "09e5840b",
   "metadata": {},
   "outputs": [],
   "source": [
    "sci=fits.open(fil)[0]\n",
    "hdr=sci.header\n",
    "dat=sci.data\n",
    "len_1=hdr['NAXIS1']\n",
    "len_2=hdr['NAXIS2']\n",
    "delt_1=hdr['CDELT1']\n",
    "delt_2=hdr['CDELT2']\n",
    "crval_1=hdr['CRVAL1']\n",
    "crval_2=hdr['CRVAL2']\n",
    "crpix_1=hdr['CRPIX1']\n",
    "crpix_2=hdr['CRPIX2']\n",
    "array_fil=[len_1, len_2, delt_1, delt_2, crval_1, crval_2, crpix_1, crpix_2]\n",
    "\n",
    "def distance_calc(ak, x_1 , y_1 , x_0, y_0 , scale='pixel'):\n",
    "    if scale in ['pixel' , 'angle_rad' , 'angle_deg']:\n",
    "        if scale=='pixel':\n",
    "            if x_1 in np.arange (0, ak[0]) and y_1 in np.arange (0, ak[1]):\n",
    "                if x_0 in np.arange (0, ak[0]) and y_0 in np.arange (0, ak[1]):\n",
    "                    dist_x = x_1 - x_0\n",
    "                    dist_y = y_1 - y_0\n",
    "                    dist_pix = np.sqrt((1.0*dist_x)**2 + (1.0*dist_y)**2)\n",
    "                    dist_deg = np.sqrt((ak[2]*dist_x)**2 + (ak[3]*dist_y)**2)\n",
    "                    dist_rad = dist_deg*np.pi/180.0\n",
    "                    dist = [dist_pix , dist_deg , dist_rad]\n",
    "                else:\n",
    "                    print(\"Centre coordinates are out of range. \")\n",
    "                    dist=[np.nan , np.nan , np.nan]\n",
    "            else:\n",
    "                print(\"Given point's coordinates are out of range. \")\n",
    "                print(x_1 , y_1)\n",
    "                dist=[np.nan , np.nan , np.nan]\n",
    "        elif scale=='angle_deg':                \n",
    "            if x_1 in np.arange (ak[4] - ak[6]*ak[2] , ak[4] + (ak[0] - ak[6])*ak[2]) and y_1 in np.arange (ak[5] - ak[7]*ak[3] , ak[5] + (ak[1] - ak[7])*ak[3]):                \n",
    "                if x_0 in np.arange (ak[4] - ak[6]*ak[2] , ak[4] + (ak[0] - ak[6])*ak[2]) and y_0 in np.arange (ak[5] - ak[7]*ak[3] , ak[5] + (ak[1] - ak[7])*ak[3]):\n",
    "                    dist_x = x_1 - x_0\n",
    "                    dist_y = y_1 - y_0\n",
    "                    dist_deg = np.sqrt((1.0*dist_x)**2 + (1.0*dist_y)**2)\n",
    "                    dist_pix = np.sqrt((dist_x/ak[2])**2 + (dist_y/ak[3])**2)\n",
    "                    dist_rad = dist_deg*np.pi/180.0\n",
    "                    dist = [dist_pix , dist_deg , dist_rad]\n",
    "                else:\n",
    "                    print(\"Centre coordinates are out of range. \")\n",
    "                    dist=[np.nan , np.nan , np.nan]\n",
    "            else:\n",
    "                print(\"Given point's coordinates are out of range. \")\n",
    "                dist=[np.nan , np.nan , np.nan]     \n",
    "        elif scale=='angle_rad':\n",
    "  \n",
    "            if x_1 in np.arange ((ak[4] - ak[6]*ak[2])*np.pi/180.0 , (ak[4] + (ak[0] - ak[6])*ak[2])*np.pi/180.0) and y_1 in np.arange ((ak[5] - ak[7]*ak[3])*np.pi/180.0 , (ak[5] + (ak[1] - ak[7])*ak[3])*np.pi/180.0):                \n",
    "                if x_0 in np.arange ((ak[4] - ak[6]*ak[2])*np.pi/180.0 , (ak[4] + (ak[0] - ak[6])*ak[2])*np.pi/180.0) and y_0 in np.arange ((ak[5] - ak[7]*ak[3])*np.pi/180.0 , (ak[5] + (ak[1] - ak[7])*ak[3])*np.pi/180.0):               \n",
    "                    dist_x = x_1 - x_0\n",
    "                    dist_y = y_1 - y_0\n",
    "                    dist_rad = np.sqrt((1.0*dist_x)**2 + (1.0*dist_y)**2)\n",
    "                    dist_pix = np.sqrt((dist_x/ak[2])**2 + (dist_y/ak[3])**2)*180.0/np.pi\n",
    "                    dist_deg = dist_rad*180.0/np.pi\n",
    "                    dist = [dist_pix , dist_deg , dist_rad]    \n",
    "                else:\n",
    "                    print(\"Centre coordinates are out of range. \")\n",
    "                    dist=[np.nan , np.nan , np.nan]\n",
    "            else:\n",
    "                print(\"Given point's coordinates are out of range. \")\n",
    "                dist=[np.nan , np.nan , np.nan]   \n",
    "                    \n",
    "                    \n",
    "                    \n",
    "                \n",
    "               \n",
    "    else:\n",
    "        print('Can not work with those units. ')\n",
    "        print('**'*20)\n",
    "        print('Scale can be \"pixel\" (default), \"angle_deg\" or \"angle_rad\". ')\n",
    "        dist=[np.nan, np.nan, np.nan]\n",
    "    \n",
    "    return dist"
   ]
  },
  {
   "cell_type": "markdown",
   "id": "25d2d964",
   "metadata": {},
   "source": [
    "La cella seguente chiama la function facendole calcolare una distanza fra la coordinata (1000.0, 1000.0) e la coordinata di reference espressa nell'header del file"
   ]
  },
  {
   "cell_type": "code",
   "execution_count": 3,
   "id": "4c82b3e9",
   "metadata": {},
   "outputs": [
    {
     "data": {
      "text/plain": [
       "[1131.370849898476, 0.047140452079106936, 0.0008227560996590225]"
      ]
     },
     "execution_count": 3,
     "metadata": {},
     "output_type": "execute_result"
    }
   ],
   "source": [
    "distance_calc(array_fil , 1000.0 , 1000.0 , 200 , 200 , 'pixel')"
   ]
  },
  {
   "cell_type": "code",
   "execution_count": 4,
   "id": "f8fb55af",
   "metadata": {},
   "outputs": [],
   "source": [
    "\n",
    "files=fits.open(fil)[0].data\n",
    "sci1=fits.open(fil)[0]\n",
    "pixels=np.array(np.where(files==files[:]))\n",
    "length=len(list(pixels[0]))\n",
    "data_row=[]\n",
    "\n",
    "\n",
    "angle_degs0=[]\n",
    "angle_rads0=[]\n",
    "angle_degs1=[]\n",
    "angle_rads1=[]\n",
    "\n",
    "for i in range (0, length ):\n",
    "    data_row.append(files[pixels[0][i]][pixels[1][i]])\n",
    "    angle_degs0.append(float((pixels[0][i] - sci1.header['CRPIX1']))*float(sci1.header['CDELT1']))\n",
    "    \n",
    "    angle_degs1.append(float((pixels[1][i] - sci1.header['CRPIX2']))*float(sci1.header['CDELT2']))\n",
    "    angle_rads0.append(float((pixels[0][i] - sci1.header['CRPIX1']))*float(sci1.header['CDELT1'])*np.pi/180.0)\n",
    "    angle_rads1.append(float((pixels[1][i] - sci1.header['CRPIX2']))*float(sci1.header['CDELT2'])*np.pi/180.0)\n",
    "data_row =np.array(data_row)\n",
    "angle_degs0=np.array(angle_degs0)\n",
    "angle_degs1=np.array(angle_degs1)\n",
    "angle_rads0=np.array(angle_rads0)\n",
    "angle_rads1=np.array(angle_rads1)\n",
    "\n",
    "dati_arr0=np.vstack([pixels, angle_degs0 , angle_degs1 , angle_rads0 , angle_rads1 , data_row])"
   ]
  },
  {
   "cell_type": "code",
   "execution_count": 6,
   "id": "4adbefff",
   "metadata": {},
   "outputs": [
    {
     "name": "stdout",
     "output_type": "stream",
     "text": [
      "[[ 5.10000000e+02  5.10000000e+02  5.10000000e+02 ...  1.53800000e+03\n",
      "   1.53800000e+03  1.53800000e+03]\n",
      " [ 1.00200000e+03  1.00300000e+03  1.00400000e+03 ...  1.04100000e+03\n",
      "   1.04200000e+03  1.04300000e+03]\n",
      " [ 2.14583333e-02  2.14583333e-02  2.14583333e-02 ... -2.13750000e-02\n",
      "  -2.13750000e-02 -2.13750000e-02]\n",
      " ...\n",
      " [ 3.74518569e-04  3.74518569e-04  3.74518569e-04 ... -3.73064128e-04\n",
      "  -3.73064128e-04 -3.73064128e-04]\n",
      " [-1.67260720e-05 -1.59988515e-05 -1.52716310e-05 ...  1.16355283e-05\n",
      "   1.23627489e-05  1.30899694e-05]\n",
      " [ 9.25668428e-06  7.31922910e-06  5.41111467e-06 ...  1.84322780e-05\n",
      "   1.76167141e-05  1.63296900e-05]]\n",
      "(7, 803859)\n",
      "9.256684279534966e-06\n"
     ]
    }
   ],
   "source": [
    "print(dati_arr0)\n",
    "print(dati_arr0.shape)\n",
    "print(dati_arr0[6][0])"
   ]
  },
  {
   "cell_type": "markdown",
   "id": "50839116",
   "metadata": {},
   "source": [
    "La cella seguente definisce una funzione che crea un array con valori di distanza (calcolati umplementando la funzione precedentemente definita) per ogni pixel di un file fits, con tutte le eccezioni del caso. In particolare è ancora un po' ridondante il modo in cui è definita questa funzione rispetto alla precedente (distance_calc)\n",
    "\n",
    "I vari print() servono semplicemente a tenere traccia del lavoro svolto dalla funzione, e sono usati per controllare che tutto funzioni correttamente.\n"
   ]
  },
  {
   "cell_type": "code",
   "execution_count": 7,
   "id": "077bdd6e",
   "metadata": {
    "scrolled": true
   },
   "outputs": [
    {
     "name": "stdout",
     "output_type": "stream",
     "text": [
      "[[5.15513336e+02 5.15469689e+02 5.15427978e+02 ... 5.13249452e+02\n",
      "  5.13281599e+02 5.13315692e+02]\n",
      " [2.14797223e-02 2.14779037e-02 2.14761657e-02 ... 2.13853938e-02\n",
      "  2.13867333e-02 2.13881538e-02]\n",
      " [3.74891877e-04 3.74860136e-04 3.74829803e-04 ... 3.73245534e-04\n",
      "  3.73268912e-04 3.73293706e-04]]\n",
      "(3, 803859)\n",
      "[[ 5.10000000e+02  5.10000000e+02  5.10000000e+02 ...  1.53800000e+03\n",
      "   1.53800000e+03  1.53800000e+03]\n",
      " [ 1.00200000e+03  1.00300000e+03  1.00400000e+03 ...  1.04100000e+03\n",
      "   1.04200000e+03  1.04300000e+03]\n",
      " [ 2.14583333e-02  2.14583333e-02  2.14583333e-02 ... -2.13750000e-02\n",
      "  -2.13750000e-02 -2.13750000e-02]\n",
      " ...\n",
      " [ 3.74518569e-04  3.74518569e-04  3.74518569e-04 ... -3.73064128e-04\n",
      "  -3.73064128e-04 -3.73064128e-04]\n",
      " [-1.67260720e-05 -1.59988515e-05 -1.52716310e-05 ...  1.16355283e-05\n",
      "   1.23627489e-05  1.30899694e-05]\n",
      " [ 9.25668428e-06  7.31922910e-06  5.41111467e-06 ...  1.84322780e-05\n",
      "   1.76167141e-05  1.63296900e-05]]\n"
     ]
    }
   ],
   "source": [
    "\n",
    "def r_finder_new(array_dati , akk ,centre_1='centre_1',centre_2='centre_2',scale='pixel'):\n",
    "    \n",
    "    coord_pix=[]\n",
    "    arr0_list=list(array_dati[0])\n",
    "    l=len(arr0_list)\n",
    "    \n",
    "    if scale in ['pixel' , 'angle_deg' , 'angle_rad']:\n",
    "        \n",
    "        if scale=='pixel':\n",
    "            if (centre_1 , centre_2)==('centre_1' , 'centre_2'):\n",
    "                centre_coord=[akk[6] , akk[7]] \n",
    "            else:\n",
    "                centre_coord=[centre_1 , centre_2]\n",
    "            if centre_coord[0] in np.arange (0 , akk[0]) and centre_coord[1] in np.arange (0, akk[1]):\n",
    "                for i in range (0, l):\n",
    "                    coord_pix.append(distance_calc(akk, array_dati[0][i] , array_dati[1][i] , centre_coord[0] , centre_coord[1] , scale))\n",
    "                    \n",
    "            else:\n",
    "                coord_pix=np.zeros_like(array_dati[0])\n",
    "                coord_pix[:]=np.nan\n",
    "        elif scale=='angle_deg':\n",
    "            if (centre_1 , centre_2)==('centre_1' , 'centre_2'):\n",
    "                centre_coord=[akk[4] , akk[5]]\n",
    "            else:\n",
    "                centre_coord=[centre_1 , centre_2]\n",
    "            if centre_coord[0] in np.arange (akk[4] - akk[6]*akk[2] , akk[4] + (akk[0] - akk[6])*akk[2]) and centre_coord[1] in np.arange (akk[5] - akk[7]*akk[3] , akk[5] + (akk[1] - akk[7])*akk[3]):     \n",
    "                for i in range (0, l):\n",
    "                    coord_pix.append(distance_calc(akk, array_dati[2][:] , array_dati[3][:] , centre_coord[0] , centre_coord[1] , scale)[0])\n",
    "            else:\n",
    "                coord_pix=np.zeros_like(array_dati[0])\n",
    "                coord_pix[:]=np.nan\n",
    "                \n",
    "        elif scale=='angle_rad':\n",
    "            if (centre_1 , centre_2)==('centre_1' , 'centre_2'):\n",
    "                centre_coord=[akk[4]*np.pi/180.0 , akk[5]*np.pi/180.0]\n",
    "            else:\n",
    "                centre_coord=[centre_1 , centre_2]\n",
    "            if centre_coord[0] in np.arange ((akk[4] - akk[6]*akk[2])*np.pi/180.0 , (akk[4] + (akk[0] - akk[6])*akk[2])*np.pi/180.0) and centre_coord[1] in np.arange ((akk[5] - akk[7]*akk[3])*np.pi/180.0 , (akk[5] + (akk[1] - akk[7])*akk[3])*np.pi/180.0):\n",
    "                   for i in range (0, l ): \n",
    "                    coord_pix.append(distance_calc(akk, array_dati[4][:] , array_dati[5][:] , centre_coord[0] , centre_coord[1] , scale)[0])\n",
    "            else:\n",
    "                coord_pix=np.zeros_like(array_dati[0])\n",
    "                coord_pix[:]=np.nan\n",
    "    \n",
    "    else:\n",
    "            coord_pix=np.zeros_like(array_dati[0])\n",
    "            coord_pix[:]=np.nan\n",
    "    return coord_pix\n",
    "\n",
    "r_new=r_finder_new(dati_arr0, array_fil)               \n",
    "r_new=np.transpose(np.array(r_new))\n",
    "print(r_new)\n",
    "print(r_new.shape)\n",
    "print(dati_arr0)"
   ]
  },
  {
   "cell_type": "code",
   "execution_count": 8,
   "id": "32824b5e",
   "metadata": {},
   "outputs": [
    {
     "name": "stdout",
     "output_type": "stream",
     "text": [
      "(10, 803859)\n"
     ]
    }
   ],
   "source": [
    "\n",
    "\n",
    "dati_arr1=np.vstack([dati_arr0, r_new])\n",
    "print(dati_arr1.shape)"
   ]
  },
  {
   "cell_type": "markdown",
   "id": "f5481614",
   "metadata": {},
   "source": [
    "# La cella che segue fa una stima del segnale di fondo dal file SPT-CL_J2344-4243_band3_combined.jac.im.image.fits e della sua varianza."
   ]
  },
  {
   "cell_type": "markdown",
   "id": "989e8ef3",
   "metadata": {},
   "source": [
    "In particolare viene fatto un plot per verificare la gaussianità del rumore. Successivamente il segnale di fondo viene sottratto ad ogni pixel nel file dei dati, e l'errore si può quindi scrivere come:\n",
    "\n",
    "$\\sqrt{(\\sigma_{noise}^{2} + \\frac{\\sigma_{noise}^{2}}{N})}$\n",
    "\n",
    "dove il secondo termine è dovuto al fatto che ai dati sottraiamo un segnale di fondo stimato su $n$ pixel del file relativo al solo rumore. Siccome $n \\approx 8 \\cdot 10^{5}$ questo termine risulta trascurabile rispetto al primo."
   ]
  },
  {
   "cell_type": "code",
   "execution_count": 10,
   "id": "447dd4a8",
   "metadata": {},
   "outputs": [
    {
     "name": "stdout",
     "output_type": "stream",
     "text": [
      "Il rumore è mediato su  803859.0  valori.\n"
     ]
    },
    {
     "data": {
      "image/png": "[encoded data removed]",
      "text/plain": [
       "<Figure size 864x576 with 1 Axes>"
      ]
     },
     "metadata": {
      "needs_background": "light"
     },
     "output_type": "display_data"
    }
   ],
   "source": [
    "sci_noise=fits.open('SPT-CL_J2344-4243_band3_combined.jac.im.image.fits')[0]\n",
    "\n",
    "def setup_plot(figsize, xlabel, ylabel):\n",
    "    \"\"\" @brief Initialize basic plot parameters\n",
    "        @param figsize Figure size\n",
    "        @param xlabel X-axis label\n",
    "        @param ylabel Y-axis label\n",
    "    \"\"\"\n",
    "\n",
    "    plt.figure(figsize=figsize)\n",
    "    plt.xlabel(xlabel)\n",
    "    plt.ylabel(ylabel)\n",
    "\n",
    "noise=sci_noise.data\n",
    "noise_m=np.nanmean(noise)\n",
    "noise_var=np.nanvar(noise)\n",
    "noise_min=np.nanmin(noise)\n",
    "noise_max=np.nanmax(noise)\n",
    "noise_size=0.0\n",
    "for i in range (0, 2048):\n",
    "    for j in range(0, 2048):\n",
    "        if not np.isnan(noise[i][j]):\n",
    "            noise_size += 1.0\n",
    "print(\"Il rumore è mediato su \" , noise_size , \" valori.\")\n",
    "\n",
    "bins = np.arange(noise_min, noise_max, 0.000001)\n",
    "x = np.linspace(noise_min, noise_max, 100)\n",
    "def f(x , a , b , c):\n",
    "    noise_gauss = 1./(np.sqrt(2.*np.pi*a)) * np.exp(-np.power((x-b)/np.sqrt(a), 2.)/2)\n",
    "    noise_gauss_norm = noise_gauss * c * 0.000001\n",
    "    return noise_gauss_norm\n",
    "\n",
    "setup_plot((12,8), 'Value', 'Frequency')\n",
    "plt.hist(noise.ravel(), bins=bins, histtype='step', linewidth=0.8, color='r') \n",
    "\n",
    "\n",
    "\n",
    "\n",
    "plt.plot(x, f(x , noise_var , noise_m , noise_size), color='black')\n",
    "plt.show()\n"
   ]
  },
  {
   "cell_type": "code",
   "execution_count": 11,
   "id": "4a81544f",
   "metadata": {},
   "outputs": [
    {
     "name": "stdout",
     "output_type": "stream",
     "text": [
      "[9.30405132e-06 7.36659614e-06 5.45848171e-06 ... 1.84796450e-05\n",
      " 1.76640811e-05 1.63770570e-05] [1.02718342e-05 1.02718342e-05 1.02718342e-05 ... 1.02718342e-05\n",
      " 1.02718342e-05 1.02718342e-05]\n",
      "(803859,)\n",
      "(803859,)\n",
      "[[ 5.10000000e+02  5.10000000e+02  5.10000000e+02 ...  1.53800000e+03\n",
      "   1.53800000e+03  1.53800000e+03]\n",
      " [ 1.00200000e+03  1.00300000e+03  1.00400000e+03 ...  1.04100000e+03\n",
      "   1.04200000e+03  1.04300000e+03]\n",
      " [ 2.14583333e-02  2.14583333e-02  2.14583333e-02 ... -2.13750000e-02\n",
      "  -2.13750000e-02 -2.13750000e-02]\n",
      " ...\n",
      " [ 3.74891877e-04  3.74860136e-04  3.74829803e-04 ...  3.73245534e-04\n",
      "   3.73268912e-04  3.73293706e-04]\n",
      " [ 9.30405132e-06  7.36659614e-06  5.45848171e-06 ...  1.84796450e-05\n",
      "   1.76640811e-05  1.63770570e-05]\n",
      " [ 1.02718342e-05  1.02718342e-05  1.02718342e-05 ...  1.02718342e-05\n",
      "   1.02718342e-05  1.02718342e-05]]\n",
      "(12, 803859)\n"
     ]
    }
   ],
   "source": [
    "y=[]\n",
    "err=[]\n",
    "for i in range (0, int(noise_size)):\n",
    "    y.append(dati_arr1[6][i] - noise_m)\n",
    "    err.append(np.sqrt(noise_var + noise_var/noise_size))\n",
    "y=np.array(y)\n",
    "err=np.array(err)\n",
    "print(y , err)\n",
    "print(y.shape)\n",
    "print(err.shape)\n",
    "dati_arr2=np.vstack([dati_arr1, y, err])\n",
    "print(dati_arr2)\n",
    "print(dati_arr2.shape)"
   ]
  },
  {
   "cell_type": "code",
   "execution_count": 12,
   "id": "e21557fe",
   "metadata": {},
   "outputs": [
    {
     "data": {
      "text/plain": [
       "<ErrorbarContainer object of 3 artists>"
      ]
     },
     "execution_count": 12,
     "metadata": {},
     "output_type": "execute_result"
    },
    {
     "data": {
      "image/png": "[encoded data removed]",
      "text/plain": [
       "<Figure size 864x576 with 1 Axes>"
      ]
     },
     "metadata": {
      "needs_background": "light"
     },
     "output_type": "display_data"
    }
   ],
   "source": [
    "setup_plot((12,8), 'r_pix', 'ADU')\n",
    "plt.errorbar(dati_arr2[7] , dati_arr2[10] , dati_arr2[11], fmt='.')"
   ]
  },
  {
   "cell_type": "code",
   "execution_count": 13,
   "id": "98e2e4a8",
   "metadata": {},
   "outputs": [
    {
     "data": {
      "text/plain": [
       "<ErrorbarContainer object of 3 artists>"
      ]
     },
     "execution_count": 13,
     "metadata": {},
     "output_type": "execute_result"
    },
    {
     "data": {
      "image/png": "[encoded data removed]",
      "text/plain": [
       "<Figure size 864x576 with 1 Axes>"
      ]
     },
     "metadata": {
      "needs_background": "light"
     },
     "output_type": "display_data"
    }
   ],
   "source": [
    "setup_plot((12,8), 'r_deg', 'ADU')\n",
    "plt.errorbar(dati_arr2[8] , dati_arr2[10] , dati_arr2[11], fmt='.')"
   ]
  },
  {
   "cell_type": "code",
   "execution_count": 14,
   "id": "519d59b1",
   "metadata": {},
   "outputs": [
    {
     "data": {
      "text/plain": [
       "<ErrorbarContainer object of 3 artists>"
      ]
     },
     "execution_count": 14,
     "metadata": {},
     "output_type": "execute_result"
    },
    {
     "data": {
      "image/png": "[encoded data removed]",
      "text/plain": [
       "<Figure size 864x576 with 1 Axes>"
      ]
     },
     "metadata": {
      "needs_background": "light"
     },
     "output_type": "display_data"
    }
   ],
   "source": [
    "setup_plot((12,8), 'r_rad', 'ADU')\n",
    "plt.errorbar(dati_arr2[9] , dati_arr2[10] , dati_arr2[11])"
   ]
  },
  {
   "cell_type": "code",
   "execution_count": 18,
   "id": "33660155",
   "metadata": {},
   "outputs": [],
   "source": [
    "r=r_finder_new(dati_arr0, array_fil)\n",
    "r=np.transpose(np.array(r))\n",
    "\n",
    "def flux(theta, dati_0 , dati ,akkk):\n",
    "    \n",
    "    scale='pixel'\n",
    "    beta , norm , r_0  = theta\n",
    "   \n",
    "    if scale=='pixel':\n",
    "\n",
    "        fin_flux=np.zeros_like(dati_0[0])\n",
    "        fin_flux[:]= norm*(10**(-6))*(1+(r[0][:]/r_0)**2)**(-beta*10**(-2))\n",
    "    elif scale=='angle_deg':\n",
    "        fin_flux=np.zeros_like(dati_0[0])\n",
    "        fin_flux[:]= norm*(10**-6)*(1+(r[1][:]/r_0)**2)**(-beta*10**(-2))\n",
    "    elif scale== 'angle_rad':\n",
    "        fin_flux=np.zeros_like(dati_0[0])\n",
    "        fin_flux[:]= norm*(10**-6)*(1+(r[2][:]/r_0)**2)**(-beta*10**(-2))\n",
    "    return fin_flux\n",
    "\n",
    "def log_prior(theta):\n",
    "    beta , norm , r_0 = theta\n",
    "    \n",
    "    if 0.0 < norm < 100.0 and -90.0 < beta < 50.0 and 5 < r_0 < 500.0:\n",
    "        res=0.0\n",
    "    else:\n",
    "        res=-np.inf\n",
    "    return res\n",
    "\n",
    "def log_likelihood(theta , dati_0 , dati , akkk):\n",
    "    \n",
    "\n",
    "    y=dati[10]\n",
    "    err=dati[11]\n",
    "    y_ex = flux(theta, dati_0 , dati , akkk)\n",
    "    logl = np.sum(np.log(1./np.sqrt(2*np.pi**2)) -(y-y_ex)**2/(2.*err**2))\n",
    "    return logl\n",
    "\n",
    "def log_posterior(theta, dati_0 , dati,  akkk ):\n",
    "    centre_1='centre_1'\n",
    "    centre_2='centre_2'\n",
    "    scale='pixel'\n",
    "    lp = log_prior(theta)\n",
    "    if not np.isfinite(lp):\n",
    "        return -np.inf\n",
    "    logl = log_likelihood(theta, dati_0,  dati, akkk)\n",
    "    logpos = logl+lp\n",
    "    if not np.isfinite(logpos):\n",
    "        return -np.inf\n",
    "    return logpos\n",
    "import emcee"
   ]
  },
  {
   "cell_type": "code",
   "execution_count": 23,
   "id": "5a95f7a6",
   "metadata": {},
   "outputs": [
    {
     "name": "stderr",
     "output_type": "stream",
     "text": [
      "100%|██████████| 50000/50000 [1:04:19<00:00, 12.96it/s]\n"
     ]
    }
   ],
   "source": [
    "\n",
    "pos = [-10.0  , 5.0 , 100.0 ] + np.random.randn(6, 3)\n",
    "pos=np.array(pos)\n",
    "nwalkers , ndim = pos.shape\n",
    "sampler3 = emcee.EnsembleSampler(nwalkers, ndim, log_posterior, args=(dati_arr0 , dati_arr2 , array_fil))\n",
    "sampler3.run_mcmc(pos, 50000, progress=True);"
   ]
  },
  {
   "cell_type": "code",
   "execution_count": 26,
   "id": "2353035b",
   "metadata": {},
   "outputs": [
    {
     "name": "stdout",
     "output_type": "stream",
     "text": [
      "50000\n",
      "[188.98498397  25.67808649 342.35096278]\n",
      "(299400, 3)\n",
      "no buono\n"
     ]
    },
    {
     "data": {
      "image/png": "[encoded data removed]",
      "text/plain": [
       "<Figure size 720x504 with 3 Axes>"
      ]
     },
     "metadata": {
      "needs_background": "light"
     },
     "output_type": "display_data"
    }
   ],
   "source": [
    "fig, axes = plt.subplots(3, figsize=(10, 7), sharex=True)\n",
    "samples3 = sampler3.get_chain()\n",
    "print(len(samples3))\n",
    "labels3 = [\"beta\", \"norm\",\"r_0\"]\n",
    "for i in range(ndim):\n",
    "    ax = axes[i]\n",
    "    ax.plot(samples3[:, :, i], \"k\", alpha=0.3)\n",
    "    ax.set_xlim(0, len(samples3))\n",
    "    ax.set_ylabel(labels3[i])\n",
    "    ax.yaxis.set_label_coords(-0.1, 0.5)\n",
    "\n",
    "axes[-1].set_xlabel(\"step number\");\n",
    "\n",
    "tau3 = sampler3.get_autocorr_time()\n",
    "print(tau3)\n",
    "flat_samples3 = sampler3.get_chain(discard=100, flat=True)\n",
    "print(flat_samples3.shape)\n",
    "print(\"no buono\")\n",
    "\n"
   ]
  },
  {
   "cell_type": "code",
   "execution_count": null,
   "id": "b5e33a15",
   "metadata": {},
   "outputs": [],
   "source": []
  }
 ],
 "metadata": {
  "kernelspec": {
   "display_name": "Python 3",
   "language": "python",
   "name": "python3"
  },
  "language_info": {
   "codemirror_mode": {
    "name": "ipython",
    "version": 3
   },
   "file_extension": ".py",
   "mimetype": "text/x-python",
   "name": "python",
   "nbconvert_exporter": "python",
   "pygments_lexer": "ipython3",
   "version": "3.8.8"
  }
 },
 "nbformat": 4,
 "nbformat_minor": 5
}
