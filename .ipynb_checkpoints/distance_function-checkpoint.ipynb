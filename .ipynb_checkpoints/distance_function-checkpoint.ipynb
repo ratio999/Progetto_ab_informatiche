{
 "cells": [
  {
   "cell_type": "markdown",
   "id": "3353bdd8",
   "metadata": {},
   "source": [
    "# Le seguenti 3 celle fanno il calcolo della distanza di una coordinata sul file SPT-CL_J2344-4243_band3_combined.dat.im.image.fits"
   ]
  },
  {
   "cell_type": "markdown",
   "id": "6a28c658",
   "metadata": {},
   "source": [
    "La prima cella fa un import dei package necessari. La seconda definisce una funzione con tutte le eccezioni del caso e restituisce 3 distanze: [distanza in pixel, distanza in gradi, distanza in radianti]. \n",
    "\n",
    "Gli argomenti della funzione sono: il file fits su cui basarsi, le coordinate x e y dei due punti (per il secondo punto ci sono dei valori di default che sono quelli del reference point nell'header del file) di cui calcolare la distanza, l'unità di misura con cui sono espresse queste coordinate. Quest'ultima può essere in pixel ('pixel'), gradi sessagesimali ('angle_deg') o radianti ('angle_rad')."
   ]
  },
  {
   "cell_type": "code",
   "execution_count": 2,
   "id": "6bdae024",
   "metadata": {},
   "outputs": [],
   "source": [
    "from astropy.io import fits\n",
    "import numpy as np\n",
    "import matplotlib.pyplot as plt"
   ]
  },
  {
   "cell_type": "code",
   "execution_count": 6,
   "id": "09e5840b",
   "metadata": {},
   "outputs": [],
   "source": [
    "def distance_calc(fil, x_1 , y_1 , x_0=-9999999.9 , y_0=-9999999.9 , scale='pixel'):\n",
    "    if scale in ['pixel' , 'angle_rad' , 'angle_deg']:\n",
    "        \n",
    "        sci=fits.open(fil)[0]\n",
    "        hdr=sci.header\n",
    "        dat=sci.data\n",
    "        if scale=='pixel':\n",
    "            if (x_0 , y_0)==(-9999999.9 , -9999999.9):\n",
    "                x_0 = hdr['CRPIX1']\n",
    "                y_0 = hdr['CRPIX2']\n",
    "        \n",
    "            if x_1 in np.arange (0, float(hdr['NAXIS1'])) and y_1 in np.arange (0, float(hdr['NAXIS2'])):\n",
    "                \n",
    "                    \n",
    "                if x_0 in np.arange (0, float(hdr['NAXIS1'])) and y_0 in np.arange (0, float(hdr['NAXIS2'])):\n",
    "                    \n",
    "                        \n",
    "                    dist_x = float(x_1) - float(x_0)\n",
    "                    dist_y = float(y_1) - float(y_0)\n",
    "                    dist_pix = np.sqrt((1.0*dist_x)**2 + (1.0*dist_y)**2)\n",
    "                    dist_deg = np.sqrt((float(hdr['CDELT1'])*dist_x)**2 + (float(hdr['CDELT2'])*dist_y)**2)\n",
    "                    dist_rad = dist_deg*np.pi/180.0\n",
    "                    dist = [dist_pix , dist_deg , dist_rad]\n",
    "                else:\n",
    "                    print(\"Centre coordinates are out of range. \")\n",
    "                    dist=[np.nan , np.nan , np.nan]\n",
    "            else:\n",
    "                print(\"Given point's coordinates are out of range. \")\n",
    "                dist==[np.nan , np.nan , np.nan]\n",
    "        elif scale=='angle_deg':\n",
    "            if (x_0 , y_0)==(-9999999.9 , -9999999.9):\n",
    "                x_0 = hdr['CRVAL1']\n",
    "                x_0 = hdr['CRVAL2']\n",
    "                \n",
    "            if x_1 in np.arange (float(hdr['CRVAL1']) - float(hdr['CRPIX1'])*float(hdr['CDELT1']) , float(hdr['CRVAL1']) + (float(hdr['NAXIS1']) - float(hdr['CRPIX1']))*float(hdr['CDELT1'])) and y_1 in np.arange (float(hdr['CRVAL2']) - float(hdr['CRPIX2'])*float(hdr['CDELT2']) , float(hdr['CRVAL2']) + (float(hdr['NAXIS2']) - float(hdr['CRPIX2']))*float(hdr['CDELT2'])):                \n",
    "                if x_0 in np.arange (float(hdr['CRVAL1']) - float(hdr['CRPIX1'])*float(hdr['CDELT1']) , float(hdr['CRVAL1']) + (float(hdr['NAXIS1']) - float(hdr['CRPIX1']))*float(hdr['CDELT1'])) and y_0 in np.arange (float(hdr['CRVAL2']) - float(hdr['CRPIX2'])*float(hdr['CDELT2']) , float(hdr['CRVAL2']) + (float(hdr['NAXIS2']) - float(hdr['CRPIX2']))*float(hdr['CDELT2'])):\n",
    "                    dist_x = float(x_1) - float(x_0)\n",
    "                    dist_y = float(y_1) - float(y_0)\n",
    "                    dist_deg = np.sqrt((1.0*dist_x)**2 + (1.0*dist_y)**2)\n",
    "                    dist_pix = np.sqrt((dist_x/float(hdr['CDELT1']))**2 + (dist_y/float(hdr['CDELT2']))**2)\n",
    "                    dist_rad = dist_deg*np.pi/180.0\n",
    "                    dist = [dist_pix , dist_deg , dist_rad]\n",
    "                else:\n",
    "                    print(\"Centre coordinates are out of range. \")\n",
    "                    dist=[np.nan , np.nan , np.nan]\n",
    "            else:\n",
    "                print(\"Given point's coordinates are aout of range. \")\n",
    "                dist==[np.nan , np.nan , np.nan]     \n",
    "        elif scale=='angle_rad':\n",
    "            if (x_0 , y_0)==(-9999999.9 , -9999999.9):\n",
    "                x_0 = hdr['CRVAL1']*np.pi/180.0\n",
    "                x_0 = hdr['CRVAL2']*np.pi/180.0\n",
    "                \n",
    "            if x_1 in range (float(hdr['CRVAL1'])*np.pi/180.0 - float(hdr['CRPIX1'])*float(hdr['CDELT1'])*np.pi/180.0 , float(hdr['CRVAL1'])*np.pi/180.0 + (float(hdr['NAXIS1']) - float(hdr['CRPIX1']))*float(hdr['CDELT1'])*np.pi/180.0) and y_1 in np.arange (float(hdr['CRVAL2'])*np.pi/180.0 - float(hdr['CRPIX2'])*float(hdr['CDELT2'])*np.pi/180.0 , float(hdr['CRVAL2'])*np.pi/180.0 + (float(hdr['NAXIS2']) - float(hdr['CRPIX2']))*float(hdr['CDELT2'])*np.pi/180.0):                \n",
    "                if x_0 in range (float(hdr['CRVAL1'])*np.pi/180.0 - float(hdr['CRPIX1'])*float(hdr['CDELT1'])*np.pi/180.0 , float(hdr['CRVAL1'])*np.pi/180.0 + (float(hdr['NAXIS1']) - float(hdr['CRPIX1']))*float(hdr['CDELT1'])*np.pi/180.0) and y_0 in np.arange (float(hdr['CRVAL2'])*np.pi/180.0 - float(hdr['CRPIX2'])*float(hdr['CDELT2'])*np.pi/180.0 , float(hdr['CRVAL2'])*np.pi/180.0 + (float(hdr['NAXIS2']) - float(hdr['CRPIX2']))*float(hdr['CDELT2'])*np.pi/180.0):               \n",
    "                    dist_x = float(x_1) - float(x_0)\n",
    "                    dist_y = float(y_1) - float(y_0)\n",
    "                    dist_rad = np.sqrt((1.0*dist_x)**2 + (1.0*dist_y)**2)\n",
    "                    dist_pix = np.sqrt((dist_x/float(hdr['CDELT1']))**2 + (dist_y/float(hdr['CDELT2']))**2)*180.0/np.pi\n",
    "                    dist_deg = dist_rad*180.0/np.pi\n",
    "                    dist = [dist_pix , dist_deg , dist_rad]    \n",
    "                else:\n",
    "                    print(\"Centre coordinates are out of range. \")\n",
    "                    dist=[np.nan , np.nan , np.nan]\n",
    "            else:\n",
    "                print(\"Given point's coordinates are aout of range. \")\n",
    "                dist==[np.nan , np.nan , np.nan]   \n",
    "                    \n",
    "                    \n",
    "                    \n",
    "                \n",
    "               \n",
    "    else:\n",
    "        print('Can not work with those units. ')\n",
    "        print('**'*20)\n",
    "        print('Scale can be \"pixel\" (default), \"angle_deg\" or \"angle_rad\". ')\n",
    "        dist=np.nan\n",
    "    return dist"
   ]
  },
  {
   "cell_type": "markdown",
   "id": "25d2d964",
   "metadata": {},
   "source": [
    "La cella seguente chiama la function facendole calcolare una distanza fra la coordinata (1000.0, 1000.0) e la coordinata di reference espressa nell'header del file"
   ]
  },
  {
   "cell_type": "code",
   "execution_count": 7,
   "id": "4c82b3e9",
   "metadata": {},
   "outputs": [
    {
     "data": {
      "text/plain": [
       "[35.35533905932738, 0.0014731391274720917, 2.5711128114344452e-05]"
      ]
     },
     "execution_count": 7,
     "metadata": {},
     "output_type": "execute_result"
    }
   ],
   "source": [
    "distance_calc('SPT-CL_J2344-4243_band3_combined.dat.im.image.fits' , 1000.0 , 1000.0)"
   ]
  },
  {
   "cell_type": "code",
   "execution_count": null,
   "id": "07af044a",
   "metadata": {},
   "outputs": [],
   "source": []
  }
 ],
 "metadata": {
  "kernelspec": {
   "display_name": "Python 3",
   "language": "python",
   "name": "python3"
  },
  "language_info": {
   "codemirror_mode": {
    "name": "ipython",
    "version": 3
   },
   "file_extension": ".py",
   "mimetype": "text/x-python",
   "name": "python",
   "nbconvert_exporter": "python",
   "pygments_lexer": "ipython3",
   "version": "3.8.8"
  }
 },
 "nbformat": 4,
 "nbformat_minor": 5
}
