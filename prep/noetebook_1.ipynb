{
 "cells": [
  {
   "cell_type": "code",
   "execution_count": 43,
   "id": "775cedce",
   "metadata": {},
   "outputs": [
    {
     "data": {
      "text/plain": [
       "'/mnt/c/Users/giuse/onedrive/desktop/cupani_folder/sci_total'"
      ]
     },
     "execution_count": 43,
     "metadata": {},
     "output_type": "execute_result"
    }
   ],
   "source": [
    "pwd"
   ]
  },
  {
   "cell_type": "code",
   "execution_count": 44,
   "id": "5c5751c3",
   "metadata": {},
   "outputs": [
    {
     "name": "stdout",
     "output_type": "stream",
     "text": [
      "ciao\n"
     ]
    }
   ],
   "source": [
    "print('ciao')"
   ]
  },
  {
   "cell_type": "code",
   "execution_count": 45,
   "id": "db254673",
   "metadata": {},
   "outputs": [
    {
     "name": "stdout",
     "output_type": "stream",
     "text": [
      "\u001b[0m\u001b[01;32mbias-0001.fit\u001b[0m*      \u001b[01;32mdark-0004_15s.fit\u001b[0m*  \u001b[01;32mdark-0010_30s.fit\u001b[0m*  \u001b[01;32mflat-0006_V.fit\u001b[0m*\r\n",
      "\u001b[01;32mbias-0002.fit\u001b[0m*      \u001b[01;32mdark-0004_30s.fit\u001b[0m*  \u001b[01;32mdark-0010_7s.fit\u001b[0m*   \u001b[01;32mflat-0007_B.fit\u001b[0m*\r\n",
      "\u001b[01;32mbias-0003.fit\u001b[0m*      \u001b[01;32mdark-0004_7s.fit\u001b[0m*   \u001b[01;32mflat-0001_B.fit\u001b[0m*    \u001b[01;32mflat-0007_R.fit\u001b[0m*\r\n",
      "\u001b[01;32mbias-0004.fit\u001b[0m*      \u001b[01;32mdark-0005_15s.fit\u001b[0m*  \u001b[01;32mflat-0001_R.fit\u001b[0m*    \u001b[01;32mflat-0007_V.fit\u001b[0m*\r\n",
      "\u001b[01;32mbias-0005.fit\u001b[0m*      \u001b[01;32mdark-0005_30s.fit\u001b[0m*  \u001b[01;32mflat-0001_V.fit\u001b[0m*    \u001b[01;32mflat-0008_B.fit\u001b[0m*\r\n",
      "\u001b[01;32mbias-0006.fit\u001b[0m*      \u001b[01;32mdark-0005_7s.fit\u001b[0m*   \u001b[01;32mflat-0002_B.fit\u001b[0m*    \u001b[01;32mflat-0008_R.fit\u001b[0m*\r\n",
      "\u001b[01;32mbias-0007.fit\u001b[0m*      \u001b[01;32mdark-0006_15s.fit\u001b[0m*  \u001b[01;32mflat-0002_R.fit\u001b[0m*    \u001b[01;32mflat-0008_V.fit\u001b[0m*\r\n",
      "\u001b[01;32mbias-0008.fit\u001b[0m*      \u001b[01;32mdark-0006_30s.fit\u001b[0m*  \u001b[01;32mflat-0002_V.fit\u001b[0m*    \u001b[01;32mflat-0009_B.fit\u001b[0m*\r\n",
      "\u001b[01;32mbias-0009.fit\u001b[0m*      \u001b[01;32mdark-0006_7s.fit\u001b[0m*   \u001b[01;32mflat-0003_B.fit\u001b[0m*    \u001b[01;32mflat-0009_R.fit\u001b[0m*\r\n",
      "\u001b[01;32mbias-0010.fit\u001b[0m*      \u001b[01;32mdark-0007_15s.fit\u001b[0m*  \u001b[01;32mflat-0003_R.fit\u001b[0m*    \u001b[01;32mflat-0009_V.fit\u001b[0m*\r\n",
      "\u001b[01;32mdark-0001_15s.fit\u001b[0m*  \u001b[01;32mdark-0007_30s.fit\u001b[0m*  \u001b[01;32mflat-0003_V.fit\u001b[0m*    \u001b[01;32mflat-0010_B.fit\u001b[0m*\r\n",
      "\u001b[01;32mdark-0001_30s.fit\u001b[0m*  \u001b[01;32mdark-0007_7s.fit\u001b[0m*   \u001b[01;32mflat-0004_B.fit\u001b[0m*    \u001b[01;32mflat-0010_R.fit\u001b[0m*\r\n",
      "\u001b[01;32mdark-0001_7s.fit\u001b[0m*   \u001b[01;32mdark-0008_15s.fit\u001b[0m*  \u001b[01;32mflat-0004_R.fit\u001b[0m*    \u001b[01;32mflat-0010_V.fit\u001b[0m*\r\n",
      "\u001b[01;32mdark-0002_15s.fit\u001b[0m*  \u001b[01;32mdark-0008_30s.fit\u001b[0m*  \u001b[01;32mflat-0004_V.fit\u001b[0m*    \u001b[34;42mreduced\u001b[0m/\r\n",
      "\u001b[01;32mdark-0002_30s.fit\u001b[0m*  \u001b[01;32mdark-0008_7s.fit\u001b[0m*   \u001b[01;32mflat-0005_B.fit\u001b[0m*    \u001b[01;32msci.py\u001b[0m*\r\n",
      "\u001b[01;32mdark-0002_7s.fit\u001b[0m*   \u001b[01;32mdark-0009_15s.fit\u001b[0m*  \u001b[01;32mflat-0005_R.fit\u001b[0m*    \u001b[34;42mscience\u001b[0m/\r\n",
      "\u001b[01;32mdark-0003_15s.fit\u001b[0m*  \u001b[01;32mdark-0009_30s.fit\u001b[0m*  \u001b[01;32mflat-0005_V.fit\u001b[0m*\r\n",
      "\u001b[01;32mdark-0003_30s.fit\u001b[0m*  \u001b[01;32mdark-0009_7s.fit\u001b[0m*   \u001b[01;32mflat-0006_B.fit\u001b[0m*\r\n",
      "\u001b[01;32mdark-0003_7s.fit\u001b[0m*   \u001b[01;32mdark-0010_15s.fit\u001b[0m*  \u001b[01;32mflat-0006_R.fit\u001b[0m*\r\n"
     ]
    }
   ],
   "source": [
    "ls\n"
   ]
  },
  {
   "cell_type": "code",
   "execution_count": 46,
   "id": "084c2480",
   "metadata": {},
   "outputs": [
    {
     "name": "stdout",
     "output_type": "stream",
     "text": [
      "[Errno 2] No such file or directory: 'sci_total'\n",
      "/mnt/c/Users/giuse/onedrive/desktop/cupani_folder/sci_total\n"
     ]
    }
   ],
   "source": [
    "cd sci_total\n"
   ]
  },
  {
   "cell_type": "code",
   "execution_count": 47,
   "id": "4c187c74",
   "metadata": {},
   "outputs": [
    {
     "name": "stdout",
     "output_type": "stream",
     "text": [
      "total 574004\r\n",
      "-rwxrwxrwx 1 el_bardo el_bardo 8395200 May  4 14:21 \u001b[0m\u001b[01;32mbias-0001.fit\u001b[0m*\r\n",
      "-rwxrwxrwx 1 el_bardo el_bardo 8395200 May  4 14:21 \u001b[01;32mbias-0002.fit\u001b[0m*\r\n",
      "-rwxrwxrwx 1 el_bardo el_bardo 8395200 May  4 14:21 \u001b[01;32mbias-0003.fit\u001b[0m*\r\n",
      "-rwxrwxrwx 1 el_bardo el_bardo 8395200 May  4 14:21 \u001b[01;32mbias-0004.fit\u001b[0m*\r\n",
      "-rwxrwxrwx 1 el_bardo el_bardo 8395200 May  4 14:21 \u001b[01;32mbias-0005.fit\u001b[0m*\r\n",
      "-rwxrwxrwx 1 el_bardo el_bardo 8395200 May  4 14:21 \u001b[01;32mbias-0006.fit\u001b[0m*\r\n",
      "-rwxrwxrwx 1 el_bardo el_bardo 8395200 May  4 14:21 \u001b[01;32mbias-0007.fit\u001b[0m*\r\n",
      "-rwxrwxrwx 1 el_bardo el_bardo 8395200 May  4 14:21 \u001b[01;32mbias-0008.fit\u001b[0m*\r\n",
      "-rwxrwxrwx 1 el_bardo el_bardo 8395200 May  4 14:21 \u001b[01;32mbias-0009.fit\u001b[0m*\r\n",
      "-rwxrwxrwx 1 el_bardo el_bardo 8395200 May  4 14:21 \u001b[01;32mbias-0010.fit\u001b[0m*\r\n",
      "-rwxrwxrwx 1 el_bardo el_bardo 8395200 May  4 14:21 \u001b[01;32mdark-0001_15s.fit\u001b[0m*\r\n",
      "-rwxrwxrwx 1 el_bardo el_bardo 8395200 May  4 14:21 \u001b[01;32mdark-0001_30s.fit\u001b[0m*\r\n",
      "-rwxrwxrwx 1 el_bardo el_bardo 8395200 May  4 14:21 \u001b[01;32mdark-0001_7s.fit\u001b[0m*\r\n",
      "-rwxrwxrwx 1 el_bardo el_bardo 8395200 May  4 14:21 \u001b[01;32mdark-0002_15s.fit\u001b[0m*\r\n",
      "-rwxrwxrwx 1 el_bardo el_bardo 8395200 May  4 14:21 \u001b[01;32mdark-0002_30s.fit\u001b[0m*\r\n",
      "-rwxrwxrwx 1 el_bardo el_bardo 8395200 May  4 14:21 \u001b[01;32mdark-0002_7s.fit\u001b[0m*\r\n",
      "-rwxrwxrwx 1 el_bardo el_bardo 8395200 May  4 14:21 \u001b[01;32mdark-0003_15s.fit\u001b[0m*\r\n",
      "-rwxrwxrwx 1 el_bardo el_bardo 8395200 May  4 14:21 \u001b[01;32mdark-0003_30s.fit\u001b[0m*\r\n",
      "-rwxrwxrwx 1 el_bardo el_bardo 8395200 May  4 14:21 \u001b[01;32mdark-0003_7s.fit\u001b[0m*\r\n",
      "-rwxrwxrwx 1 el_bardo el_bardo 8395200 May  4 14:21 \u001b[01;32mdark-0004_15s.fit\u001b[0m*\r\n",
      "-rwxrwxrwx 1 el_bardo el_bardo 8395200 May  4 14:21 \u001b[01;32mdark-0004_30s.fit\u001b[0m*\r\n",
      "-rwxrwxrwx 1 el_bardo el_bardo 8395200 May  4 14:21 \u001b[01;32mdark-0004_7s.fit\u001b[0m*\r\n",
      "-rwxrwxrwx 1 el_bardo el_bardo 8395200 May  4 14:21 \u001b[01;32mdark-0005_15s.fit\u001b[0m*\r\n",
      "-rwxrwxrwx 1 el_bardo el_bardo 8395200 May  4 14:21 \u001b[01;32mdark-0005_30s.fit\u001b[0m*\r\n",
      "-rwxrwxrwx 1 el_bardo el_bardo 8395200 May  4 14:21 \u001b[01;32mdark-0005_7s.fit\u001b[0m*\r\n",
      "-rwxrwxrwx 1 el_bardo el_bardo 8395200 May  4 14:21 \u001b[01;32mdark-0006_15s.fit\u001b[0m*\r\n",
      "-rwxrwxrwx 1 el_bardo el_bardo 8395200 May  4 14:21 \u001b[01;32mdark-0006_30s.fit\u001b[0m*\r\n",
      "-rwxrwxrwx 1 el_bardo el_bardo 8395200 May  4 14:21 \u001b[01;32mdark-0006_7s.fit\u001b[0m*\r\n",
      "-rwxrwxrwx 1 el_bardo el_bardo 8395200 May  4 14:21 \u001b[01;32mdark-0007_15s.fit\u001b[0m*\r\n",
      "-rwxrwxrwx 1 el_bardo el_bardo 8395200 May  4 14:21 \u001b[01;32mdark-0007_30s.fit\u001b[0m*\r\n",
      "-rwxrwxrwx 1 el_bardo el_bardo 8395200 May  4 14:21 \u001b[01;32mdark-0007_7s.fit\u001b[0m*\r\n",
      "-rwxrwxrwx 1 el_bardo el_bardo 8395200 May  4 14:21 \u001b[01;32mdark-0008_15s.fit\u001b[0m*\r\n",
      "-rwxrwxrwx 1 el_bardo el_bardo 8395200 May  4 14:21 \u001b[01;32mdark-0008_30s.fit\u001b[0m*\r\n",
      "-rwxrwxrwx 1 el_bardo el_bardo 8395200 May  4 14:21 \u001b[01;32mdark-0008_7s.fit\u001b[0m*\r\n",
      "-rwxrwxrwx 1 el_bardo el_bardo 8395200 May  4 14:21 \u001b[01;32mdark-0009_15s.fit\u001b[0m*\r\n",
      "-rwxrwxrwx 1 el_bardo el_bardo 8395200 May  4 14:21 \u001b[01;32mdark-0009_30s.fit\u001b[0m*\r\n",
      "-rwxrwxrwx 1 el_bardo el_bardo 8395200 May  4 14:21 \u001b[01;32mdark-0009_7s.fit\u001b[0m*\r\n",
      "-rwxrwxrwx 1 el_bardo el_bardo 8395200 May  4 14:21 \u001b[01;32mdark-0010_15s.fit\u001b[0m*\r\n",
      "-rwxrwxrwx 1 el_bardo el_bardo 8395200 May  4 14:21 \u001b[01;32mdark-0010_30s.fit\u001b[0m*\r\n",
      "-rwxrwxrwx 1 el_bardo el_bardo 8395200 May  4 14:21 \u001b[01;32mdark-0010_7s.fit\u001b[0m*\r\n",
      "-rwxrwxrwx 1 el_bardo el_bardo 8395200 May  4 14:21 \u001b[01;32mflat-0001_B.fit\u001b[0m*\r\n",
      "-rwxrwxrwx 1 el_bardo el_bardo 8395200 May  4 14:21 \u001b[01;32mflat-0001_R.fit\u001b[0m*\r\n",
      "-rwxrwxrwx 1 el_bardo el_bardo 8395200 May  4 14:21 \u001b[01;32mflat-0001_V.fit\u001b[0m*\r\n",
      "-rwxrwxrwx 1 el_bardo el_bardo 8395200 May  4 14:21 \u001b[01;32mflat-0002_B.fit\u001b[0m*\r\n",
      "-rwxrwxrwx 1 el_bardo el_bardo 8395200 May  4 14:21 \u001b[01;32mflat-0002_R.fit\u001b[0m*\r\n",
      "-rwxrwxrwx 1 el_bardo el_bardo 8395200 May  4 14:21 \u001b[01;32mflat-0002_V.fit\u001b[0m*\r\n",
      "-rwxrwxrwx 1 el_bardo el_bardo 8395200 May  4 14:21 \u001b[01;32mflat-0003_B.fit\u001b[0m*\r\n",
      "-rwxrwxrwx 1 el_bardo el_bardo 8395200 May  4 14:21 \u001b[01;32mflat-0003_R.fit\u001b[0m*\r\n",
      "-rwxrwxrwx 1 el_bardo el_bardo 8395200 May  4 14:21 \u001b[01;32mflat-0003_V.fit\u001b[0m*\r\n",
      "-rwxrwxrwx 1 el_bardo el_bardo 8395200 May  4 14:21 \u001b[01;32mflat-0004_B.fit\u001b[0m*\r\n",
      "-rwxrwxrwx 1 el_bardo el_bardo 8395200 May  4 14:21 \u001b[01;32mflat-0004_R.fit\u001b[0m*\r\n",
      "-rwxrwxrwx 1 el_bardo el_bardo 8395200 May  4 14:21 \u001b[01;32mflat-0004_V.fit\u001b[0m*\r\n",
      "-rwxrwxrwx 1 el_bardo el_bardo 8395200 May  4 14:21 \u001b[01;32mflat-0005_B.fit\u001b[0m*\r\n",
      "-rwxrwxrwx 1 el_bardo el_bardo 8395200 May  4 14:21 \u001b[01;32mflat-0005_R.fit\u001b[0m*\r\n",
      "-rwxrwxrwx 1 el_bardo el_bardo 8395200 May  4 14:21 \u001b[01;32mflat-0005_V.fit\u001b[0m*\r\n",
      "-rwxrwxrwx 1 el_bardo el_bardo 8395200 May  4 14:21 \u001b[01;32mflat-0006_B.fit\u001b[0m*\r\n",
      "-rwxrwxrwx 1 el_bardo el_bardo 8395200 May  4 14:21 \u001b[01;32mflat-0006_R.fit\u001b[0m*\r\n",
      "-rwxrwxrwx 1 el_bardo el_bardo 8395200 May  4 14:21 \u001b[01;32mflat-0006_V.fit\u001b[0m*\r\n",
      "-rwxrwxrwx 1 el_bardo el_bardo 8395200 May  4 14:21 \u001b[01;32mflat-0007_B.fit\u001b[0m*\r\n",
      "-rwxrwxrwx 1 el_bardo el_bardo 8395200 May  4 14:21 \u001b[01;32mflat-0007_R.fit\u001b[0m*\r\n",
      "-rwxrwxrwx 1 el_bardo el_bardo 8395200 May  4 14:21 \u001b[01;32mflat-0007_V.fit\u001b[0m*\r\n",
      "-rwxrwxrwx 1 el_bardo el_bardo 8395200 May  4 14:21 \u001b[01;32mflat-0008_B.fit\u001b[0m*\r\n",
      "-rwxrwxrwx 1 el_bardo el_bardo 8395200 May  4 14:21 \u001b[01;32mflat-0008_R.fit\u001b[0m*\r\n",
      "-rwxrwxrwx 1 el_bardo el_bardo 8395200 May  4 14:21 \u001b[01;32mflat-0008_V.fit\u001b[0m*\r\n",
      "-rwxrwxrwx 1 el_bardo el_bardo 8395200 May  4 14:21 \u001b[01;32mflat-0009_B.fit\u001b[0m*\r\n",
      "-rwxrwxrwx 1 el_bardo el_bardo 8395200 May  4 14:21 \u001b[01;32mflat-0009_R.fit\u001b[0m*\r\n",
      "-rwxrwxrwx 1 el_bardo el_bardo 8395200 May  4 14:21 \u001b[01;32mflat-0009_V.fit\u001b[0m*\r\n",
      "-rwxrwxrwx 1 el_bardo el_bardo 8395200 May  4 14:21 \u001b[01;32mflat-0010_B.fit\u001b[0m*\r\n",
      "-rwxrwxrwx 1 el_bardo el_bardo 8395200 May  4 14:21 \u001b[01;32mflat-0010_R.fit\u001b[0m*\r\n",
      "-rwxrwxrwx 1 el_bardo el_bardo 8395200 May  4 14:21 \u001b[01;32mflat-0010_V.fit\u001b[0m*\r\n",
      "drwxrwxrwx 1 el_bardo el_bardo     512 May 17 13:56 \u001b[34;42mreduced\u001b[0m/\r\n",
      "-rwxrwxrwx 1 el_bardo el_bardo    1914 May  9 19:16 \u001b[01;32msci.py\u001b[0m*\r\n",
      "drwxrwxrwx 1 el_bardo el_bardo     512 May 11 14:25 \u001b[34;42mscience\u001b[0m/\r\n"
     ]
    }
   ],
   "source": [
    "ls -l"
   ]
  },
  {
   "cell_type": "code",
   "execution_count": 48,
   "id": "6b5b550f",
   "metadata": {},
   "outputs": [
    {
     "name": "stdout",
     "output_type": "stream",
     "text": [
      "/mnt/c/Users/giuse/onedrive/desktop/cupani_folder/sci_total/science\n"
     ]
    }
   ],
   "source": [
    "cd science\n"
   ]
  },
  {
   "cell_type": "code",
   "execution_count": 49,
   "id": "1c92825c",
   "metadata": {},
   "outputs": [
    {
     "name": "stdout",
     "output_type": "stream",
     "text": [
      "total 8036000\r\n",
      "-rwxrwxrwx 1 el_bardo el_bardo 8395200 May  4 14:21 \u001b[0m\u001b[01;32mSZ_Lyn-0001_B.fit\u001b[0m*\r\n",
      "-rwxrwxrwx 1 el_bardo el_bardo 8395200 May  4 14:21 \u001b[01;32mSZ_Lyn-0001_R.fit\u001b[0m*\r\n",
      "-rwxrwxrwx 1 el_bardo el_bardo 8395200 May  4 14:21 \u001b[01;32mSZ_Lyn-0001_V.fit\u001b[0m*\r\n",
      "-rwxrwxrwx 1 el_bardo el_bardo 8395200 May  4 14:21 \u001b[01;32mSZ_Lyn-0001_luminance.fit\u001b[0m*\r\n",
      "-rwxrwxrwx 1 el_bardo el_bardo 8395200 May  4 14:21 \u001b[01;32mSZ_Lyn-0002_B.fit\u001b[0m*\r\n",
      "-rwxrwxrwx 1 el_bardo el_bardo 8395200 May  4 14:21 \u001b[01;32mSZ_Lyn-0002_R.fit\u001b[0m*\r\n",
      "-rwxrwxrwx 1 el_bardo el_bardo 8395200 May  4 14:20 \u001b[01;32mSZ_Lyn-0002_V.fit\u001b[0m*\r\n",
      "-rwxrwxrwx 1 el_bardo el_bardo 8395200 May  4 14:21 \u001b[01;32mSZ_Lyn-0002_luminance.fit\u001b[0m*\r\n",
      "-rwxrwxrwx 1 el_bardo el_bardo 8395200 May  4 14:21 \u001b[01;32mSZ_Lyn-0003_B.fit\u001b[0m*\r\n",
      "-rwxrwxrwx 1 el_bardo el_bardo 8395200 May  4 14:21 \u001b[01;32mSZ_Lyn-0003_R.fit\u001b[0m*\r\n",
      "-rwxrwxrwx 1 el_bardo el_bardo 8395200 May  4 14:21 \u001b[01;32mSZ_Lyn-0003_V.fit\u001b[0m*\r\n",
      "-rwxrwxrwx 1 el_bardo el_bardo 8395200 May  4 14:21 \u001b[01;32mSZ_Lyn-0003_luminance.fit\u001b[0m*\r\n",
      "-rwxrwxrwx 1 el_bardo el_bardo 8395200 May  4 14:21 \u001b[01;32mSZ_Lyn-0004_B.fit\u001b[0m*\r\n",
      "-rwxrwxrwx 1 el_bardo el_bardo 8395200 May  4 14:21 \u001b[01;32mSZ_Lyn-0004_R.fit\u001b[0m*\r\n",
      "-rwxrwxrwx 1 el_bardo el_bardo 8395200 May  4 14:21 \u001b[01;32mSZ_Lyn-0004_V.fit\u001b[0m*\r\n",
      "-rwxrwxrwx 1 el_bardo el_bardo 8395200 May  4 14:20 \u001b[01;32mSZ_Lyn-0004_luminance.fit\u001b[0m*\r\n",
      "-rwxrwxrwx 1 el_bardo el_bardo 8395200 May  4 14:21 \u001b[01;32mSZ_Lyn-0005_B.fit\u001b[0m*\r\n",
      "-rwxrwxrwx 1 el_bardo el_bardo 8395200 May  4 14:21 \u001b[01;32mSZ_Lyn-0005_R.fit\u001b[0m*\r\n",
      "-rwxrwxrwx 1 el_bardo el_bardo 8395200 May  4 14:21 \u001b[01;32mSZ_Lyn-0005_V.fit\u001b[0m*\r\n",
      "-rwxrwxrwx 1 el_bardo el_bardo 8395200 May  4 14:21 \u001b[01;32mSZ_Lyn-0005_luminance.fit\u001b[0m*\r\n",
      "-rwxrwxrwx 1 el_bardo el_bardo 8395200 May  4 14:21 \u001b[01;32mSZ_Lyn-0006_B.fit\u001b[0m*\r\n",
      "-rwxrwxrwx 1 el_bardo el_bardo 8395200 May  4 14:21 \u001b[01;32mSZ_Lyn-0006_R.fit\u001b[0m*\r\n",
      "-rwxrwxrwx 1 el_bardo el_bardo 8395200 May  4 14:21 \u001b[01;32mSZ_Lyn-0006_V.fit\u001b[0m*\r\n",
      "-rwxrwxrwx 1 el_bardo el_bardo 8395200 May  4 14:21 \u001b[01;32mSZ_Lyn-0006_luminance.fit\u001b[0m*\r\n",
      "-rwxrwxrwx 1 el_bardo el_bardo 8395200 May  4 14:21 \u001b[01;32mSZ_Lyn-0007_B.fit\u001b[0m*\r\n",
      "-rwxrwxrwx 1 el_bardo el_bardo 8395200 May  4 14:21 \u001b[01;32mSZ_Lyn-0007_R.fit\u001b[0m*\r\n",
      "-rwxrwxrwx 1 el_bardo el_bardo 8395200 May  4 14:21 \u001b[01;32mSZ_Lyn-0007_V.fit\u001b[0m*\r\n",
      "-rwxrwxrwx 1 el_bardo el_bardo 8395200 May  4 14:21 \u001b[01;32mSZ_Lyn-0007_luminance.fit\u001b[0m*\r\n",
      "-rwxrwxrwx 1 el_bardo el_bardo 8395200 May  4 14:21 \u001b[01;32mSZ_Lyn-0008_B.fit\u001b[0m*\r\n",
      "-rwxrwxrwx 1 el_bardo el_bardo 8395200 May  4 14:21 \u001b[01;32mSZ_Lyn-0008_R.fit\u001b[0m*\r\n",
      "-rwxrwxrwx 1 el_bardo el_bardo 8395200 May  4 14:21 \u001b[01;32mSZ_Lyn-0008_V.fit\u001b[0m*\r\n",
      "-rwxrwxrwx 1 el_bardo el_bardo 8395200 May  4 14:21 \u001b[01;32mSZ_Lyn-0008_luminance.fit\u001b[0m*\r\n",
      "-rwxrwxrwx 1 el_bardo el_bardo 8395200 May  4 14:21 \u001b[01;32mSZ_Lyn-0009_B.fit\u001b[0m*\r\n",
      "-rwxrwxrwx 1 el_bardo el_bardo 8395200 May  4 14:21 \u001b[01;32mSZ_Lyn-0009_R.fit\u001b[0m*\r\n",
      "-rwxrwxrwx 1 el_bardo el_bardo 8395200 May  4 14:21 \u001b[01;32mSZ_Lyn-0009_V.fit\u001b[0m*\r\n",
      "-rwxrwxrwx 1 el_bardo el_bardo 8395200 May  4 14:21 \u001b[01;32mSZ_Lyn-0009_luminance.fit\u001b[0m*\r\n",
      "-rwxrwxrwx 1 el_bardo el_bardo 8395200 May  4 14:21 \u001b[01;32mSZ_Lyn-0010_B.fit\u001b[0m*\r\n",
      "-rwxrwxrwx 1 el_bardo el_bardo 8395200 May  4 14:21 \u001b[01;32mSZ_Lyn-0010_R.fit\u001b[0m*\r\n",
      "-rwxrwxrwx 1 el_bardo el_bardo 8395200 May  4 14:21 \u001b[01;32mSZ_Lyn-0010_V.fit\u001b[0m*\r\n",
      "-rwxrwxrwx 1 el_bardo el_bardo 8395200 May  4 14:21 \u001b[01;32mSZ_Lyn-0010_luminance.fit\u001b[0m*\r\n",
      "-rwxrwxrwx 1 el_bardo el_bardo 8395200 May  4 14:21 \u001b[01;32mSZ_Lyn-0011_B.fit\u001b[0m*\r\n",
      "-rwxrwxrwx 1 el_bardo el_bardo 8395200 May  4 14:21 \u001b[01;32mSZ_Lyn-0011_R.fit\u001b[0m*\r\n",
      "-rwxrwxrwx 1 el_bardo el_bardo 8395200 May  4 14:20 \u001b[01;32mSZ_Lyn-0011_V.fit\u001b[0m*\r\n",
      "-rwxrwxrwx 1 el_bardo el_bardo 8395200 May  4 14:21 \u001b[01;32mSZ_Lyn-0011_luminance.fit\u001b[0m*\r\n",
      "-rwxrwxrwx 1 el_bardo el_bardo 8395200 May  4 14:21 \u001b[01;32mSZ_Lyn-0012_B.fit\u001b[0m*\r\n",
      "-rwxrwxrwx 1 el_bardo el_bardo 8395200 May  4 14:21 \u001b[01;32mSZ_Lyn-0012_R.fit\u001b[0m*\r\n",
      "-rwxrwxrwx 1 el_bardo el_bardo 8395200 May  4 14:21 \u001b[01;32mSZ_Lyn-0012_V.fit\u001b[0m*\r\n",
      "-rwxrwxrwx 1 el_bardo el_bardo 8395200 May  4 14:21 \u001b[01;32mSZ_Lyn-0012_luminance.fit\u001b[0m*\r\n",
      "-rwxrwxrwx 1 el_bardo el_bardo 8395200 May  4 14:21 \u001b[01;32mSZ_Lyn-0013_B.fit\u001b[0m*\r\n",
      "-rwxrwxrwx 1 el_bardo el_bardo 8395200 May  4 14:21 \u001b[01;32mSZ_Lyn-0013_R.fit\u001b[0m*\r\n",
      "-rwxrwxrwx 1 el_bardo el_bardo 8395200 May  4 14:21 \u001b[01;32mSZ_Lyn-0013_V.fit\u001b[0m*\r\n",
      "-rwxrwxrwx 1 el_bardo el_bardo 8395200 May  4 14:21 \u001b[01;32mSZ_Lyn-0013_luminance.fit\u001b[0m*\r\n",
      "-rwxrwxrwx 1 el_bardo el_bardo 8395200 May  4 14:21 \u001b[01;32mSZ_Lyn-0014_B.fit\u001b[0m*\r\n",
      "-rwxrwxrwx 1 el_bardo el_bardo 8395200 May  4 14:21 \u001b[01;32mSZ_Lyn-0014_R.fit\u001b[0m*\r\n",
      "-rwxrwxrwx 1 el_bardo el_bardo 8395200 May  4 14:21 \u001b[01;32mSZ_Lyn-0014_V.fit\u001b[0m*\r\n",
      "-rwxrwxrwx 1 el_bardo el_bardo 8395200 May  4 14:21 \u001b[01;32mSZ_Lyn-0014_luminance.fit\u001b[0m*\r\n",
      "-rwxrwxrwx 1 el_bardo el_bardo 8395200 May  4 14:21 \u001b[01;32mSZ_Lyn-0015_B.fit\u001b[0m*\r\n",
      "-rwxrwxrwx 1 el_bardo el_bardo 8395200 May  4 14:21 \u001b[01;32mSZ_Lyn-0015_R.fit\u001b[0m*\r\n",
      "-rwxrwxrwx 1 el_bardo el_bardo 8395200 May  4 14:21 \u001b[01;32mSZ_Lyn-0015_V.fit\u001b[0m*\r\n",
      "-rwxrwxrwx 1 el_bardo el_bardo 8395200 May  4 14:21 \u001b[01;32mSZ_Lyn-0015_luminance.fit\u001b[0m*\r\n",
      "-rwxrwxrwx 1 el_bardo el_bardo 8395200 May  4 14:21 \u001b[01;32mSZ_Lyn-0016_B.fit\u001b[0m*\r\n",
      "-rwxrwxrwx 1 el_bardo el_bardo 8395200 May  4 14:21 \u001b[01;32mSZ_Lyn-0016_R.fit\u001b[0m*\r\n",
      "-rwxrwxrwx 1 el_bardo el_bardo 8395200 May  4 14:21 \u001b[01;32mSZ_Lyn-0016_V.fit\u001b[0m*\r\n",
      "-rwxrwxrwx 1 el_bardo el_bardo 8395200 May  4 14:21 \u001b[01;32mSZ_Lyn-0016_luminance.fit\u001b[0m*\r\n",
      "-rwxrwxrwx 1 el_bardo el_bardo 8395200 May  4 14:21 \u001b[01;32mSZ_Lyn-0017_B.fit\u001b[0m*\r\n",
      "-rwxrwxrwx 1 el_bardo el_bardo 8395200 May  4 14:21 \u001b[01;32mSZ_Lyn-0017_R.fit\u001b[0m*\r\n",
      "-rwxrwxrwx 1 el_bardo el_bardo 8395200 May  4 14:21 \u001b[01;32mSZ_Lyn-0017_V.fit\u001b[0m*\r\n",
      "-rwxrwxrwx 1 el_bardo el_bardo 8395200 May  4 14:21 \u001b[01;32mSZ_Lyn-0017_luminance.fit\u001b[0m*\r\n",
      "-rwxrwxrwx 1 el_bardo el_bardo 8395200 May  4 14:21 \u001b[01;32mSZ_Lyn-0018_B.fit\u001b[0m*\r\n",
      "-rwxrwxrwx 1 el_bardo el_bardo 8395200 May  4 14:21 \u001b[01;32mSZ_Lyn-0018_R.fit\u001b[0m*\r\n",
      "-rwxrwxrwx 1 el_bardo el_bardo 8395200 May  4 14:21 \u001b[01;32mSZ_Lyn-0018_V.fit\u001b[0m*\r\n",
      "-rwxrwxrwx 1 el_bardo el_bardo 8395200 May  4 14:21 \u001b[01;32mSZ_Lyn-0018_luminance.fit\u001b[0m*\r\n",
      "-rwxrwxrwx 1 el_bardo el_bardo 8395200 May  4 14:21 \u001b[01;32mSZ_Lyn-0019_B.fit\u001b[0m*\r\n",
      "-rwxrwxrwx 1 el_bardo el_bardo 8395200 May  4 14:21 \u001b[01;32mSZ_Lyn-0019_R.fit\u001b[0m*\r\n",
      "-rwxrwxrwx 1 el_bardo el_bardo 8395200 May  4 14:21 \u001b[01;32mSZ_Lyn-0019_V.fit\u001b[0m*\r\n",
      "-rwxrwxrwx 1 el_bardo el_bardo 8395200 May  4 14:21 \u001b[01;32mSZ_Lyn-0019_luminance.fit\u001b[0m*\r\n",
      "-rwxrwxrwx 1 el_bardo el_bardo 8395200 May  4 14:21 \u001b[01;32mSZ_Lyn-0020_B.fit\u001b[0m*\r\n",
      "-rwxrwxrwx 1 el_bardo el_bardo 8395200 May  4 14:21 \u001b[01;32mSZ_Lyn-0020_R.fit\u001b[0m*\r\n",
      "-rwxrwxrwx 1 el_bardo el_bardo 8395200 May  4 14:21 \u001b[01;32mSZ_Lyn-0020_V.fit\u001b[0m*\r\n",
      "-rwxrwxrwx 1 el_bardo el_bardo 8395200 May  4 14:21 \u001b[01;32mSZ_Lyn-0020_luminance.fit\u001b[0m*\r\n",
      "-rwxrwxrwx 1 el_bardo el_bardo 8395200 May  4 14:21 \u001b[01;32mSZ_Lyn-0021_B.fit\u001b[0m*\r\n",
      "-rwxrwxrwx 1 el_bardo el_bardo 8395200 May  4 14:21 \u001b[01;32mSZ_Lyn-0021_R.fit\u001b[0m*\r\n",
      "-rwxrwxrwx 1 el_bardo el_bardo 8395200 May  4 14:21 \u001b[01;32mSZ_Lyn-0021_V.fit\u001b[0m*\r\n",
      "-rwxrwxrwx 1 el_bardo el_bardo 8395200 May  4 14:21 \u001b[01;32mSZ_Lyn-0021_luminance.fit\u001b[0m*\r\n",
      "-rwxrwxrwx 1 el_bardo el_bardo 8395200 May  4 14:21 \u001b[01;32mSZ_Lyn-0022_B.fit\u001b[0m*\r\n",
      "-rwxrwxrwx 1 el_bardo el_bardo 8395200 May  4 14:21 \u001b[01;32mSZ_Lyn-0022_R.fit\u001b[0m*\r\n",
      "-rwxrwxrwx 1 el_bardo el_bardo 8395200 May  4 14:21 \u001b[01;32mSZ_Lyn-0022_V.fit\u001b[0m*\r\n",
      "-rwxrwxrwx 1 el_bardo el_bardo 8395200 May  4 14:21 \u001b[01;32mSZ_Lyn-0022_luminance.fit\u001b[0m*\r\n",
      "-rwxrwxrwx 1 el_bardo el_bardo 8395200 May  4 14:21 \u001b[01;32mSZ_Lyn-0023_B.fit\u001b[0m*\r\n",
      "-rwxrwxrwx 1 el_bardo el_bardo 8395200 May  4 14:21 \u001b[01;32mSZ_Lyn-0023_R.fit\u001b[0m*\r\n",
      "-rwxrwxrwx 1 el_bardo el_bardo 8395200 May  4 14:21 \u001b[01;32mSZ_Lyn-0023_V.fit\u001b[0m*\r\n",
      "-rwxrwxrwx 1 el_bardo el_bardo 8395200 May  4 14:21 \u001b[01;32mSZ_Lyn-0023_luminance.fit\u001b[0m*\r\n",
      "-rwxrwxrwx 1 el_bardo el_bardo 8395200 May  4 14:21 \u001b[01;32mSZ_Lyn-0024_B.fit\u001b[0m*\r\n",
      "-rwxrwxrwx 1 el_bardo el_bardo 8395200 May  4 14:21 \u001b[01;32mSZ_Lyn-0024_R.fit\u001b[0m*\r\n",
      "-rwxrwxrwx 1 el_bardo el_bardo 8395200 May  4 14:21 \u001b[01;32mSZ_Lyn-0024_V.fit\u001b[0m*\r\n",
      "-rwxrwxrwx 1 el_bardo el_bardo 8395200 May  4 14:21 \u001b[01;32mSZ_Lyn-0024_luminance.fit\u001b[0m*\r\n",
      "-rwxrwxrwx 1 el_bardo el_bardo 8395200 May  4 14:21 \u001b[01;32mSZ_Lyn-0025_B.fit\u001b[0m*\r\n",
      "-rwxrwxrwx 1 el_bardo el_bardo 8395200 May  4 14:21 \u001b[01;32mSZ_Lyn-0025_R.fit\u001b[0m*\r\n",
      "-rwxrwxrwx 1 el_bardo el_bardo 8395200 May  4 14:21 \u001b[01;32mSZ_Lyn-0025_V.fit\u001b[0m*\r\n",
      "-rwxrwxrwx 1 el_bardo el_bardo 8395200 May  4 14:21 \u001b[01;32mSZ_Lyn-0025_luminance.fit\u001b[0m*\r\n",
      "-rwxrwxrwx 1 el_bardo el_bardo 8395200 May  4 14:21 \u001b[01;32mSZ_Lyn-0026_B.fit\u001b[0m*\r\n",
      "-rwxrwxrwx 1 el_bardo el_bardo 8395200 May  4 14:21 \u001b[01;32mSZ_Lyn-0026_R.fit\u001b[0m*\r\n",
      "-rwxrwxrwx 1 el_bardo el_bardo 8395200 May  4 14:21 \u001b[01;32mSZ_Lyn-0026_V.fit\u001b[0m*\r\n",
      "-rwxrwxrwx 1 el_bardo el_bardo 8395200 May  4 14:21 \u001b[01;32mSZ_Lyn-0026_luminance.fit\u001b[0m*\r\n",
      "-rwxrwxrwx 1 el_bardo el_bardo 8395200 May  4 14:21 \u001b[01;32mSZ_Lyn-0027_B.fit\u001b[0m*\r\n",
      "-rwxrwxrwx 1 el_bardo el_bardo 8395200 May  4 14:21 \u001b[01;32mSZ_Lyn-0027_R.fit\u001b[0m*\r\n",
      "-rwxrwxrwx 1 el_bardo el_bardo 8395200 May  4 14:21 \u001b[01;32mSZ_Lyn-0027_V.fit\u001b[0m*\r\n",
      "-rwxrwxrwx 1 el_bardo el_bardo 8395200 May  4 14:21 \u001b[01;32mSZ_Lyn-0027_luminance.fit\u001b[0m*\r\n",
      "-rwxrwxrwx 1 el_bardo el_bardo 8395200 May  4 14:21 \u001b[01;32mSZ_Lyn-0028_B.fit\u001b[0m*\r\n",
      "-rwxrwxrwx 1 el_bardo el_bardo 8395200 May  4 14:21 \u001b[01;32mSZ_Lyn-0028_R.fit\u001b[0m*\r\n",
      "-rwxrwxrwx 1 el_bardo el_bardo 8395200 May  4 14:21 \u001b[01;32mSZ_Lyn-0028_V.fit\u001b[0m*\r\n",
      "-rwxrwxrwx 1 el_bardo el_bardo 8395200 May  4 14:21 \u001b[01;32mSZ_Lyn-0028_luminance.fit\u001b[0m*\r\n",
      "-rwxrwxrwx 1 el_bardo el_bardo 8395200 May  4 14:21 \u001b[01;32mSZ_Lyn-0029_B.fit\u001b[0m*\r\n",
      "-rwxrwxrwx 1 el_bardo el_bardo 8395200 May  4 14:21 \u001b[01;32mSZ_Lyn-0029_R.fit\u001b[0m*\r\n",
      "-rwxrwxrwx 1 el_bardo el_bardo 8395200 May  4 14:21 \u001b[01;32mSZ_Lyn-0029_V.fit\u001b[0m*\r\n",
      "-rwxrwxrwx 1 el_bardo el_bardo 8395200 May  4 14:21 \u001b[01;32mSZ_Lyn-0029_luminance.fit\u001b[0m*\r\n",
      "-rwxrwxrwx 1 el_bardo el_bardo 8395200 May  4 14:21 \u001b[01;32mSZ_Lyn-0030_B.fit\u001b[0m*\r\n",
      "-rwxrwxrwx 1 el_bardo el_bardo 8395200 May  4 14:21 \u001b[01;32mSZ_Lyn-0030_R.fit\u001b[0m*\r\n",
      "-rwxrwxrwx 1 el_bardo el_bardo 8395200 May  4 14:21 \u001b[01;32mSZ_Lyn-0030_V.fit\u001b[0m*\r\n",
      "-rwxrwxrwx 1 el_bardo el_bardo 8395200 May  4 14:21 \u001b[01;32mSZ_Lyn-0030_luminance.fit\u001b[0m*\r\n",
      "-rwxrwxrwx 1 el_bardo el_bardo 8395200 May  4 14:21 \u001b[01;32mSZ_Lyn-0031_B.fit\u001b[0m*\r\n",
      "-rwxrwxrwx 1 el_bardo el_bardo 8395200 May  4 14:21 \u001b[01;32mSZ_Lyn-0031_R.fit\u001b[0m*\r\n",
      "-rwxrwxrwx 1 el_bardo el_bardo 8395200 May  4 14:21 \u001b[01;32mSZ_Lyn-0031_V.fit\u001b[0m*\r\n",
      "-rwxrwxrwx 1 el_bardo el_bardo 8395200 May  4 14:21 \u001b[01;32mSZ_Lyn-0031_luminance.fit\u001b[0m*\r\n",
      "-rwxrwxrwx 1 el_bardo el_bardo 8395200 May  4 14:21 \u001b[01;32mSZ_Lyn-0032_B.fit\u001b[0m*\r\n",
      "-rwxrwxrwx 1 el_bardo el_bardo 8395200 May  4 14:21 \u001b[01;32mSZ_Lyn-0032_R.fit\u001b[0m*\r\n",
      "-rwxrwxrwx 1 el_bardo el_bardo 8395200 May  4 14:21 \u001b[01;32mSZ_Lyn-0032_V.fit\u001b[0m*\r\n",
      "-rwxrwxrwx 1 el_bardo el_bardo 8395200 May  4 14:21 \u001b[01;32mSZ_Lyn-0032_luminance.fit\u001b[0m*\r\n",
      "-rwxrwxrwx 1 el_bardo el_bardo 8395200 May  4 14:21 \u001b[01;32mSZ_Lyn-0033_B.fit\u001b[0m*\r\n",
      "-rwxrwxrwx 1 el_bardo el_bardo 8395200 May  4 14:21 \u001b[01;32mSZ_Lyn-0033_R.fit\u001b[0m*\r\n",
      "-rwxrwxrwx 1 el_bardo el_bardo 8395200 May  4 14:21 \u001b[01;32mSZ_Lyn-0033_V.fit\u001b[0m*\r\n",
      "-rwxrwxrwx 1 el_bardo el_bardo 8395200 May  4 14:21 \u001b[01;32mSZ_Lyn-0033_luminance.fit\u001b[0m*\r\n",
      "-rwxrwxrwx 1 el_bardo el_bardo 8395200 May  4 14:21 \u001b[01;32mSZ_Lyn-0034_B.fit\u001b[0m*\r\n",
      "-rwxrwxrwx 1 el_bardo el_bardo 8395200 May  4 14:21 \u001b[01;32mSZ_Lyn-0034_R.fit\u001b[0m*\r\n",
      "-rwxrwxrwx 1 el_bardo el_bardo 8395200 May  4 14:21 \u001b[01;32mSZ_Lyn-0034_V.fit\u001b[0m*\r\n",
      "-rwxrwxrwx 1 el_bardo el_bardo 8395200 May  4 14:21 \u001b[01;32mSZ_Lyn-0034_luminance.fit\u001b[0m*\r\n",
      "-rwxrwxrwx 1 el_bardo el_bardo 8395200 May  4 14:21 \u001b[01;32mSZ_Lyn-0035_B.fit\u001b[0m*\r\n",
      "-rwxrwxrwx 1 el_bardo el_bardo 8395200 May  4 14:21 \u001b[01;32mSZ_Lyn-0035_R.fit\u001b[0m*\r\n",
      "-rwxrwxrwx 1 el_bardo el_bardo 8395200 May  4 14:21 \u001b[01;32mSZ_Lyn-0035_V.fit\u001b[0m*\r\n",
      "-rwxrwxrwx 1 el_bardo el_bardo 8395200 May  4 14:21 \u001b[01;32mSZ_Lyn-0035_luminance.fit\u001b[0m*\r\n",
      "-rwxrwxrwx 1 el_bardo el_bardo 8395200 May  4 14:21 \u001b[01;32mSZ_Lyn-0036_B.fit\u001b[0m*\r\n",
      "-rwxrwxrwx 1 el_bardo el_bardo 8395200 May  4 14:21 \u001b[01;32mSZ_Lyn-0036_R.fit\u001b[0m*\r\n",
      "-rwxrwxrwx 1 el_bardo el_bardo 8395200 May  4 14:21 \u001b[01;32mSZ_Lyn-0036_V.fit\u001b[0m*\r\n",
      "-rwxrwxrwx 1 el_bardo el_bardo 8395200 May  4 14:21 \u001b[01;32mSZ_Lyn-0036_luminance.fit\u001b[0m*\r\n",
      "-rwxrwxrwx 1 el_bardo el_bardo 8395200 May  4 14:21 \u001b[01;32mSZ_Lyn-0037_B.fit\u001b[0m*\r\n",
      "-rwxrwxrwx 1 el_bardo el_bardo 8395200 May  4 14:21 \u001b[01;32mSZ_Lyn-0037_R.fit\u001b[0m*\r\n",
      "-rwxrwxrwx 1 el_bardo el_bardo 8395200 May  4 14:19 \u001b[01;32mSZ_Lyn-0037_V.fit\u001b[0m*\r\n",
      "-rwxrwxrwx 1 el_bardo el_bardo 8395200 May  4 14:21 \u001b[01;32mSZ_Lyn-0037_luminance.fit\u001b[0m*\r\n",
      "-rwxrwxrwx 1 el_bardo el_bardo 8395200 May  4 14:19 \u001b[01;32mSZ_Lyn-0038_B.fit\u001b[0m*\r\n",
      "-rwxrwxrwx 1 el_bardo el_bardo 8395200 May  4 14:19 \u001b[01;32mSZ_Lyn-0038_R.fit\u001b[0m*\r\n",
      "-rwxrwxrwx 1 el_bardo el_bardo 8395200 May  4 14:21 \u001b[01;32mSZ_Lyn-0038_V.fit\u001b[0m*\r\n",
      "-rwxrwxrwx 1 el_bardo el_bardo 8395200 May  4 14:19 \u001b[01;32mSZ_Lyn-0038_luminance.fit\u001b[0m*\r\n",
      "-rwxrwxrwx 1 el_bardo el_bardo 8395200 May  4 14:19 \u001b[01;32mSZ_Lyn-0039_B.fit\u001b[0m*\r\n",
      "-rwxrwxrwx 1 el_bardo el_bardo 8395200 May  4 14:19 \u001b[01;32mSZ_Lyn-0039_R.fit\u001b[0m*\r\n",
      "-rwxrwxrwx 1 el_bardo el_bardo 8395200 May  4 14:19 \u001b[01;32mSZ_Lyn-0039_V.fit\u001b[0m*\r\n",
      "-rwxrwxrwx 1 el_bardo el_bardo 8395200 May  4 14:19 \u001b[01;32mSZ_Lyn-0039_luminance.fit\u001b[0m*\r\n",
      "-rwxrwxrwx 1 el_bardo el_bardo 8395200 May  4 14:19 \u001b[01;32mSZ_Lyn-0040_B.fit\u001b[0m*\r\n",
      "-rwxrwxrwx 1 el_bardo el_bardo 8395200 May  4 14:19 \u001b[01;32mSZ_Lyn-0040_R.fit\u001b[0m*\r\n",
      "-rwxrwxrwx 1 el_bardo el_bardo 8395200 May  4 14:19 \u001b[01;32mSZ_Lyn-0040_V.fit\u001b[0m*\r\n",
      "-rwxrwxrwx 1 el_bardo el_bardo 8395200 May  4 14:21 \u001b[01;32mSZ_Lyn-0040_luminance.fit\u001b[0m*\r\n",
      "-rwxrwxrwx 1 el_bardo el_bardo 8395200 May  4 14:19 \u001b[01;32mSZ_Lyn-0041_B.fit\u001b[0m*\r\n",
      "-rwxrwxrwx 1 el_bardo el_bardo 8395200 May  4 14:21 \u001b[01;32mSZ_Lyn-0041_R.fit\u001b[0m*\r\n",
      "-rwxrwxrwx 1 el_bardo el_bardo 8395200 May  4 14:19 \u001b[01;32mSZ_Lyn-0041_V.fit\u001b[0m*\r\n",
      "-rwxrwxrwx 1 el_bardo el_bardo 8395200 May  4 14:19 \u001b[01;32mSZ_Lyn-0041_luminance.fit\u001b[0m*\r\n",
      "-rwxrwxrwx 1 el_bardo el_bardo 8395200 May  4 14:19 \u001b[01;32mSZ_Lyn-0042_B.fit\u001b[0m*\r\n",
      "-rwxrwxrwx 1 el_bardo el_bardo 8395200 May  4 14:19 \u001b[01;32mSZ_Lyn-0042_R.fit\u001b[0m*\r\n",
      "-rwxrwxrwx 1 el_bardo el_bardo 8395200 May  4 14:19 \u001b[01;32mSZ_Lyn-0042_V.fit\u001b[0m*\r\n",
      "-rwxrwxrwx 1 el_bardo el_bardo 8395200 May  4 14:20 \u001b[01;32mSZ_Lyn-0042_luminance.fit\u001b[0m*\r\n",
      "-rwxrwxrwx 1 el_bardo el_bardo 8395200 May  4 14:20 \u001b[01;32mSZ_Lyn-0043_B.fit\u001b[0m*\r\n",
      "-rwxrwxrwx 1 el_bardo el_bardo 8395200 May  4 14:19 \u001b[01;32mSZ_Lyn-0043_R.fit\u001b[0m*\r\n",
      "-rwxrwxrwx 1 el_bardo el_bardo 8395200 May  4 14:20 \u001b[01;32mSZ_Lyn-0043_V.fit\u001b[0m*\r\n",
      "-rwxrwxrwx 1 el_bardo el_bardo 8395200 May  4 14:20 \u001b[01;32mSZ_Lyn-0043_luminance.fit\u001b[0m*\r\n",
      "-rwxrwxrwx 1 el_bardo el_bardo 8395200 May  4 14:20 \u001b[01;32mSZ_Lyn-0044_B.fit\u001b[0m*\r\n",
      "-rwxrwxrwx 1 el_bardo el_bardo 8395200 May  4 14:20 \u001b[01;32mSZ_Lyn-0044_R.fit\u001b[0m*\r\n",
      "-rwxrwxrwx 1 el_bardo el_bardo 8395200 May  4 14:20 \u001b[01;32mSZ_Lyn-0044_V.fit\u001b[0m*\r\n",
      "-rwxrwxrwx 1 el_bardo el_bardo 8395200 May  4 14:20 \u001b[01;32mSZ_Lyn-0044_luminance.fit\u001b[0m*\r\n",
      "-rwxrwxrwx 1 el_bardo el_bardo 8395200 May  4 14:20 \u001b[01;32mSZ_Lyn-0045_B.fit\u001b[0m*\r\n",
      "-rwxrwxrwx 1 el_bardo el_bardo 8395200 May  4 14:20 \u001b[01;32mSZ_Lyn-0045_R.fit\u001b[0m*\r\n",
      "-rwxrwxrwx 1 el_bardo el_bardo 8395200 May  4 14:20 \u001b[01;32mSZ_Lyn-0045_V.fit\u001b[0m*\r\n",
      "-rwxrwxrwx 1 el_bardo el_bardo 8395200 May  4 14:20 \u001b[01;32mSZ_Lyn-0045_luminance.fit\u001b[0m*\r\n",
      "-rwxrwxrwx 1 el_bardo el_bardo 8395200 May  4 14:20 \u001b[01;32mSZ_Lyn-0046_B.fit\u001b[0m*\r\n",
      "-rwxrwxrwx 1 el_bardo el_bardo 8395200 May  4 14:19 \u001b[01;32mSZ_Lyn-0046_R.fit\u001b[0m*\r\n",
      "-rwxrwxrwx 1 el_bardo el_bardo 8395200 May  4 14:20 \u001b[01;32mSZ_Lyn-0046_V.fit\u001b[0m*\r\n",
      "-rwxrwxrwx 1 el_bardo el_bardo 8395200 May  4 14:20 \u001b[01;32mSZ_Lyn-0046_luminance.fit\u001b[0m*\r\n",
      "-rwxrwxrwx 1 el_bardo el_bardo 8395200 May  4 14:20 \u001b[01;32mSZ_Lyn-0047_B.fit\u001b[0m*\r\n",
      "-rwxrwxrwx 1 el_bardo el_bardo 8395200 May  4 14:20 \u001b[01;32mSZ_Lyn-0047_R.fit\u001b[0m*\r\n",
      "-rwxrwxrwx 1 el_bardo el_bardo 8395200 May  4 14:20 \u001b[01;32mSZ_Lyn-0047_V.fit\u001b[0m*\r\n",
      "-rwxrwxrwx 1 el_bardo el_bardo 8395200 May  4 14:20 \u001b[01;32mSZ_Lyn-0047_luminance.fit\u001b[0m*\r\n",
      "-rwxrwxrwx 1 el_bardo el_bardo 8395200 May  4 14:20 \u001b[01;32mSZ_Lyn-0048_B.fit\u001b[0m*\r\n",
      "-rwxrwxrwx 1 el_bardo el_bardo 8395200 May  4 14:20 \u001b[01;32mSZ_Lyn-0048_R.fit\u001b[0m*\r\n",
      "-rwxrwxrwx 1 el_bardo el_bardo 8395200 May  4 14:20 \u001b[01;32mSZ_Lyn-0048_V.fit\u001b[0m*\r\n",
      "-rwxrwxrwx 1 el_bardo el_bardo 8395200 May  4 14:20 \u001b[01;32mSZ_Lyn-0048_luminance.fit\u001b[0m*\r\n",
      "-rwxrwxrwx 1 el_bardo el_bardo 8395200 May  4 14:20 \u001b[01;32mSZ_Lyn-0049_B.fit\u001b[0m*\r\n",
      "-rwxrwxrwx 1 el_bardo el_bardo 8395200 May  4 14:20 \u001b[01;32mSZ_Lyn-0049_R.fit\u001b[0m*\r\n",
      "-rwxrwxrwx 1 el_bardo el_bardo 8395200 May  4 14:20 \u001b[01;32mSZ_Lyn-0049_V.fit\u001b[0m*\r\n",
      "-rwxrwxrwx 1 el_bardo el_bardo 8395200 May  4 14:20 \u001b[01;32mSZ_Lyn-0049_luminance.fit\u001b[0m*\r\n",
      "-rwxrwxrwx 1 el_bardo el_bardo 8395200 May  4 14:20 \u001b[01;32mSZ_Lyn-0050_B.fit\u001b[0m*\r\n",
      "-rwxrwxrwx 1 el_bardo el_bardo 8395200 May  4 14:20 \u001b[01;32mSZ_Lyn-0050_R.fit\u001b[0m*\r\n",
      "-rwxrwxrwx 1 el_bardo el_bardo 8395200 May  4 14:20 \u001b[01;32mSZ_Lyn-0050_V.fit\u001b[0m*\r\n",
      "-rwxrwxrwx 1 el_bardo el_bardo 8395200 May  4 14:20 \u001b[01;32mSZ_Lyn-0050_luminance.fit\u001b[0m*\r\n",
      "-rwxrwxrwx 1 el_bardo el_bardo 8395200 May  4 14:20 \u001b[01;32mSZ_Lyn-0051_B.fit\u001b[0m*\r\n",
      "-rwxrwxrwx 1 el_bardo el_bardo 8395200 May  4 14:20 \u001b[01;32mSZ_Lyn-0051_R.fit\u001b[0m*\r\n",
      "-rwxrwxrwx 1 el_bardo el_bardo 8395200 May  4 14:20 \u001b[01;32mSZ_Lyn-0051_V.fit\u001b[0m*\r\n",
      "-rwxrwxrwx 1 el_bardo el_bardo 8395200 May  4 14:20 \u001b[01;32mSZ_Lyn-0051_luminance.fit\u001b[0m*\r\n",
      "-rwxrwxrwx 1 el_bardo el_bardo 8395200 May  4 14:20 \u001b[01;32mSZ_Lyn-0052_B.fit\u001b[0m*\r\n",
      "-rwxrwxrwx 1 el_bardo el_bardo 8395200 May  4 14:20 \u001b[01;32mSZ_Lyn-0052_R.fit\u001b[0m*\r\n",
      "-rwxrwxrwx 1 el_bardo el_bardo 8395200 May  4 14:19 \u001b[01;32mSZ_Lyn-0052_V.fit\u001b[0m*\r\n",
      "-rwxrwxrwx 1 el_bardo el_bardo 8395200 May  4 14:21 \u001b[01;32mSZ_Lyn-0052_luminance.fit\u001b[0m*\r\n",
      "-rwxrwxrwx 1 el_bardo el_bardo 8395200 May  4 14:20 \u001b[01;32mSZ_Lyn-0053_B.fit\u001b[0m*\r\n",
      "-rwxrwxrwx 1 el_bardo el_bardo 8395200 May  4 14:20 \u001b[01;32mSZ_Lyn-0053_R.fit\u001b[0m*\r\n",
      "-rwxrwxrwx 1 el_bardo el_bardo 8395200 May  4 14:20 \u001b[01;32mSZ_Lyn-0053_V.fit\u001b[0m*\r\n",
      "-rwxrwxrwx 1 el_bardo el_bardo 8395200 May  4 14:21 \u001b[01;32mSZ_Lyn-0053_luminance.fit\u001b[0m*\r\n",
      "-rwxrwxrwx 1 el_bardo el_bardo 8395200 May  4 14:21 \u001b[01;32mSZ_Lyn-0054_B.fit\u001b[0m*\r\n",
      "-rwxrwxrwx 1 el_bardo el_bardo 8395200 May  4 14:21 \u001b[01;32mSZ_Lyn-0054_R.fit\u001b[0m*\r\n",
      "-rwxrwxrwx 1 el_bardo el_bardo 8395200 May  4 14:20 \u001b[01;32mSZ_Lyn-0054_V.fit\u001b[0m*\r\n",
      "-rwxrwxrwx 1 el_bardo el_bardo 8395200 May  4 14:21 \u001b[01;32mSZ_Lyn-0054_luminance.fit\u001b[0m*\r\n",
      "-rwxrwxrwx 1 el_bardo el_bardo 8395200 May  4 14:21 \u001b[01;32mSZ_Lyn-0055_B.fit\u001b[0m*\r\n",
      "-rwxrwxrwx 1 el_bardo el_bardo 8395200 May  4 14:20 \u001b[01;32mSZ_Lyn-0055_R.fit\u001b[0m*\r\n",
      "-rwxrwxrwx 1 el_bardo el_bardo 8395200 May  4 14:20 \u001b[01;32mSZ_Lyn-0055_V.fit\u001b[0m*\r\n",
      "-rwxrwxrwx 1 el_bardo el_bardo 8395200 May  4 14:20 \u001b[01;32mSZ_Lyn-0055_luminance.fit\u001b[0m*\r\n",
      "-rwxrwxrwx 1 el_bardo el_bardo 8395200 May  4 14:21 \u001b[01;32mSZ_Lyn-0056_B.fit\u001b[0m*\r\n",
      "-rwxrwxrwx 1 el_bardo el_bardo 8395200 May  4 14:20 \u001b[01;32mSZ_Lyn-0056_R.fit\u001b[0m*\r\n",
      "-rwxrwxrwx 1 el_bardo el_bardo 8395200 May  4 14:20 \u001b[01;32mSZ_Lyn-0056_V.fit\u001b[0m*\r\n",
      "-rwxrwxrwx 1 el_bardo el_bardo 8395200 May  4 14:20 \u001b[01;32mSZ_Lyn-0056_luminance.fit\u001b[0m*\r\n",
      "-rwxrwxrwx 1 el_bardo el_bardo 8395200 May  4 14:20 \u001b[01;32mSZ_Lyn-0057_B.fit\u001b[0m*\r\n",
      "-rwxrwxrwx 1 el_bardo el_bardo 8395200 May  4 14:20 \u001b[01;32mSZ_Lyn-0057_R.fit\u001b[0m*\r\n",
      "-rwxrwxrwx 1 el_bardo el_bardo 8395200 May  4 14:20 \u001b[01;32mSZ_Lyn-0057_V.fit\u001b[0m*\r\n",
      "-rwxrwxrwx 1 el_bardo el_bardo 8395200 May  4 14:20 \u001b[01;32mSZ_Lyn-0057_luminance.fit\u001b[0m*\r\n",
      "-rwxrwxrwx 1 el_bardo el_bardo 8395200 May  4 14:19 \u001b[01;32mSZ_Lyn-0058_B.fit\u001b[0m*\r\n",
      "-rwxrwxrwx 1 el_bardo el_bardo 8395200 May  4 14:21 \u001b[01;32mSZ_Lyn-0058_R.fit\u001b[0m*\r\n",
      "-rwxrwxrwx 1 el_bardo el_bardo 8395200 May  4 14:21 \u001b[01;32mSZ_Lyn-0058_V.fit\u001b[0m*\r\n",
      "-rwxrwxrwx 1 el_bardo el_bardo 8395200 May  4 14:20 \u001b[01;32mSZ_Lyn-0058_luminance.fit\u001b[0m*\r\n",
      "-rwxrwxrwx 1 el_bardo el_bardo 8395200 May  4 14:21 \u001b[01;32mSZ_Lyn-0059_B.fit\u001b[0m*\r\n",
      "-rwxrwxrwx 1 el_bardo el_bardo 8395200 May  4 14:21 \u001b[01;32mSZ_Lyn-0059_R.fit\u001b[0m*\r\n",
      "-rwxrwxrwx 1 el_bardo el_bardo 8395200 May  4 14:21 \u001b[01;32mSZ_Lyn-0059_V.fit\u001b[0m*\r\n",
      "-rwxrwxrwx 1 el_bardo el_bardo 8395200 May  4 14:21 \u001b[01;32mSZ_Lyn-0059_luminance.fit\u001b[0m*\r\n",
      "-rwxrwxrwx 1 el_bardo el_bardo 8395200 May  4 14:21 \u001b[01;32mSZ_Lyn-0060_B.fit\u001b[0m*\r\n",
      "-rwxrwxrwx 1 el_bardo el_bardo 8395200 May  4 14:21 \u001b[01;32mSZ_Lyn-0060_R.fit\u001b[0m*\r\n",
      "-rwxrwxrwx 1 el_bardo el_bardo 8395200 May  4 14:21 \u001b[01;32mSZ_Lyn-0060_V.fit\u001b[0m*\r\n",
      "-rwxrwxrwx 1 el_bardo el_bardo 8395200 May  4 14:21 \u001b[01;32mSZ_Lyn-0060_luminance.fit\u001b[0m*\r\n",
      "-rwxrwxrwx 1 el_bardo el_bardo 8395200 May  4 14:21 \u001b[01;32mSZ_Lyn-0061_B.fit\u001b[0m*\r\n",
      "-rwxrwxrwx 1 el_bardo el_bardo 8395200 May  4 14:21 \u001b[01;32mSZ_Lyn-0061_R.fit\u001b[0m*\r\n",
      "-rwxrwxrwx 1 el_bardo el_bardo 8395200 May  4 14:21 \u001b[01;32mSZ_Lyn-0061_V.fit\u001b[0m*\r\n",
      "-rwxrwxrwx 1 el_bardo el_bardo 8395200 May  4 14:21 \u001b[01;32mSZ_Lyn-0061_luminance.fit\u001b[0m*\r\n",
      "-rwxrwxrwx 1 el_bardo el_bardo 8395200 May  4 14:21 \u001b[01;32mSZ_Lyn-0062_B.fit\u001b[0m*\r\n",
      "-rwxrwxrwx 1 el_bardo el_bardo 8395200 May  4 14:21 \u001b[01;32mSZ_Lyn-0062_R.fit\u001b[0m*\r\n",
      "-rwxrwxrwx 1 el_bardo el_bardo 8395200 May  4 14:21 \u001b[01;32mSZ_Lyn-0062_V.fit\u001b[0m*\r\n",
      "-rwxrwxrwx 1 el_bardo el_bardo 8395200 May  4 14:21 \u001b[01;32mSZ_Lyn-0062_luminance.fit\u001b[0m*\r\n",
      "-rwxrwxrwx 1 el_bardo el_bardo 8395200 May  4 14:21 \u001b[01;32mSZ_Lyn-0063_B.fit\u001b[0m*\r\n",
      "-rwxrwxrwx 1 el_bardo el_bardo 8395200 May  4 14:21 \u001b[01;32mSZ_Lyn-0063_R.fit\u001b[0m*\r\n",
      "-rwxrwxrwx 1 el_bardo el_bardo 8395200 May  4 14:21 \u001b[01;32mSZ_Lyn-0063_V.fit\u001b[0m*\r\n",
      "-rwxrwxrwx 1 el_bardo el_bardo 8395200 May  4 14:21 \u001b[01;32mSZ_Lyn-0063_luminance.fit\u001b[0m*\r\n",
      "-rwxrwxrwx 1 el_bardo el_bardo 8395200 May  4 14:21 \u001b[01;32mSZ_Lyn-0064_B.fit\u001b[0m*\r\n",
      "-rwxrwxrwx 1 el_bardo el_bardo 8395200 May  4 14:21 \u001b[01;32mSZ_Lyn-0064_R.fit\u001b[0m*\r\n",
      "-rwxrwxrwx 1 el_bardo el_bardo 8395200 May  4 14:20 \u001b[01;32mSZ_Lyn-0064_V.fit\u001b[0m*\r\n",
      "-rwxrwxrwx 1 el_bardo el_bardo 8395200 May  4 14:21 \u001b[01;32mSZ_Lyn-0064_luminance.fit\u001b[0m*\r\n",
      "-rwxrwxrwx 1 el_bardo el_bardo 8395200 May  4 14:21 \u001b[01;32mSZ_Lyn-0065_B.fit\u001b[0m*\r\n",
      "-rwxrwxrwx 1 el_bardo el_bardo 8395200 May  4 14:21 \u001b[01;32mSZ_Lyn-0065_R.fit\u001b[0m*\r\n",
      "-rwxrwxrwx 1 el_bardo el_bardo 8395200 May  4 14:21 \u001b[01;32mSZ_Lyn-0065_V.fit\u001b[0m*\r\n",
      "-rwxrwxrwx 1 el_bardo el_bardo 8395200 May  4 14:21 \u001b[01;32mSZ_Lyn-0065_luminance.fit\u001b[0m*\r\n",
      "-rwxrwxrwx 1 el_bardo el_bardo 8395200 May  4 14:20 \u001b[01;32mSZ_Lyn-0066_B.fit\u001b[0m*\r\n",
      "-rwxrwxrwx 1 el_bardo el_bardo 8395200 May  4 14:21 \u001b[01;32mSZ_Lyn-0066_R.fit\u001b[0m*\r\n",
      "-rwxrwxrwx 1 el_bardo el_bardo 8395200 May  4 14:21 \u001b[01;32mSZ_Lyn-0066_V.fit\u001b[0m*\r\n",
      "-rwxrwxrwx 1 el_bardo el_bardo 8395200 May  4 14:21 \u001b[01;32mSZ_Lyn-0066_luminance.fit\u001b[0m*\r\n",
      "-rwxrwxrwx 1 el_bardo el_bardo 8395200 May  4 14:20 \u001b[01;32mSZ_Lyn-0067_B.fit\u001b[0m*\r\n",
      "-rwxrwxrwx 1 el_bardo el_bardo 8395200 May  4 14:21 \u001b[01;32mSZ_Lyn-0067_R.fit\u001b[0m*\r\n",
      "-rwxrwxrwx 1 el_bardo el_bardo 8395200 May  4 14:21 \u001b[01;32mSZ_Lyn-0067_V.fit\u001b[0m*\r\n",
      "-rwxrwxrwx 1 el_bardo el_bardo 8395200 May  4 14:20 \u001b[01;32mSZ_Lyn-0067_luminance.fit\u001b[0m*\r\n",
      "-rwxrwxrwx 1 el_bardo el_bardo 8395200 May  4 14:20 \u001b[01;32mSZ_Lyn-0068_B.fit\u001b[0m*\r\n",
      "-rwxrwxrwx 1 el_bardo el_bardo 8395200 May  4 14:20 \u001b[01;32mSZ_Lyn-0068_R.fit\u001b[0m*\r\n",
      "-rwxrwxrwx 1 el_bardo el_bardo 8395200 May  4 14:20 \u001b[01;32mSZ_Lyn-0068_V.fit\u001b[0m*\r\n",
      "-rwxrwxrwx 1 el_bardo el_bardo 8395200 May  4 14:20 \u001b[01;32mSZ_Lyn-0068_luminance.fit\u001b[0m*\r\n",
      "-rwxrwxrwx 1 el_bardo el_bardo 8395200 May  4 14:20 \u001b[01;32mSZ_Lyn-0069_B.fit\u001b[0m*\r\n",
      "-rwxrwxrwx 1 el_bardo el_bardo 8395200 May  4 14:20 \u001b[01;32mSZ_Lyn-0069_R.fit\u001b[0m*\r\n",
      "-rwxrwxrwx 1 el_bardo el_bardo 8395200 May  4 14:21 \u001b[01;32mSZ_Lyn-0069_V.fit\u001b[0m*\r\n",
      "-rwxrwxrwx 1 el_bardo el_bardo 8395200 May  4 14:20 \u001b[01;32mSZ_Lyn-0069_luminance.fit\u001b[0m*\r\n",
      "-rwxrwxrwx 1 el_bardo el_bardo 8395200 May  4 14:20 \u001b[01;32mSZ_Lyn-0070_B.fit\u001b[0m*\r\n",
      "-rwxrwxrwx 1 el_bardo el_bardo 8395200 May  4 14:20 \u001b[01;32mSZ_Lyn-0070_R.fit\u001b[0m*\r\n",
      "-rwxrwxrwx 1 el_bardo el_bardo 8395200 May  4 14:20 \u001b[01;32mSZ_Lyn-0070_V.fit\u001b[0m*\r\n",
      "-rwxrwxrwx 1 el_bardo el_bardo 8395200 May  4 14:20 \u001b[01;32mSZ_Lyn-0070_luminance.fit\u001b[0m*\r\n",
      "-rwxrwxrwx 1 el_bardo el_bardo 8395200 May  4 14:20 \u001b[01;32mSZ_Lyn-0071_B.fit\u001b[0m*\r\n",
      "-rwxrwxrwx 1 el_bardo el_bardo 8395200 May  4 14:20 \u001b[01;32mSZ_Lyn-0071_R.fit\u001b[0m*\r\n",
      "-rwxrwxrwx 1 el_bardo el_bardo 8395200 May  4 14:20 \u001b[01;32mSZ_Lyn-0071_V.fit\u001b[0m*\r\n",
      "-rwxrwxrwx 1 el_bardo el_bardo 8395200 May  4 14:20 \u001b[01;32mSZ_Lyn-0071_luminance.fit\u001b[0m*\r\n",
      "-rwxrwxrwx 1 el_bardo el_bardo 8395200 May  4 14:20 \u001b[01;32mSZ_Lyn-0072_B.fit\u001b[0m*\r\n",
      "-rwxrwxrwx 1 el_bardo el_bardo 8395200 May  4 14:20 \u001b[01;32mSZ_Lyn-0072_R.fit\u001b[0m*\r\n",
      "-rwxrwxrwx 1 el_bardo el_bardo 8395200 May  4 14:20 \u001b[01;32mSZ_Lyn-0072_V.fit\u001b[0m*\r\n",
      "-rwxrwxrwx 1 el_bardo el_bardo 8395200 May  4 14:20 \u001b[01;32mSZ_Lyn-0072_luminance.fit\u001b[0m*\r\n",
      "-rwxrwxrwx 1 el_bardo el_bardo 8395200 May  4 14:20 \u001b[01;32mSZ_Lyn-0073_B.fit\u001b[0m*\r\n",
      "-rwxrwxrwx 1 el_bardo el_bardo 8395200 May  4 14:20 \u001b[01;32mSZ_Lyn-0073_R.fit\u001b[0m*\r\n",
      "-rwxrwxrwx 1 el_bardo el_bardo 8395200 May  4 14:20 \u001b[01;32mSZ_Lyn-0073_V.fit\u001b[0m*\r\n",
      "-rwxrwxrwx 1 el_bardo el_bardo 8395200 May  4 14:20 \u001b[01;32mSZ_Lyn-0073_luminance.fit\u001b[0m*\r\n",
      "-rwxrwxrwx 1 el_bardo el_bardo 8395200 May  4 14:20 \u001b[01;32mSZ_Lyn-0074_B.fit\u001b[0m*\r\n",
      "-rwxrwxrwx 1 el_bardo el_bardo 8395200 May  4 14:20 \u001b[01;32mSZ_Lyn-0074_R.fit\u001b[0m*\r\n",
      "-rwxrwxrwx 1 el_bardo el_bardo 8395200 May  4 14:20 \u001b[01;32mSZ_Lyn-0074_V.fit\u001b[0m*\r\n",
      "-rwxrwxrwx 1 el_bardo el_bardo 8395200 May  4 14:20 \u001b[01;32mSZ_Lyn-0074_luminance.fit\u001b[0m*\r\n",
      "-rwxrwxrwx 1 el_bardo el_bardo 8395200 May  4 14:20 \u001b[01;32mSZ_Lyn-0075_B.fit\u001b[0m*\r\n",
      "-rwxrwxrwx 1 el_bardo el_bardo 8395200 May  4 14:20 \u001b[01;32mSZ_Lyn-0075_R.fit\u001b[0m*\r\n",
      "-rwxrwxrwx 1 el_bardo el_bardo 8395200 May  4 14:20 \u001b[01;32mSZ_Lyn-0075_V.fit\u001b[0m*\r\n",
      "-rwxrwxrwx 1 el_bardo el_bardo 8395200 May  4 14:20 \u001b[01;32mSZ_Lyn-0075_luminance.fit\u001b[0m*\r\n",
      "-rwxrwxrwx 1 el_bardo el_bardo 8395200 May  4 14:20 \u001b[01;32mSZ_Lyn-0076_B.fit\u001b[0m*\r\n",
      "-rwxrwxrwx 1 el_bardo el_bardo 8395200 May  4 14:20 \u001b[01;32mSZ_Lyn-0076_R.fit\u001b[0m*\r\n",
      "-rwxrwxrwx 1 el_bardo el_bardo 8395200 May  4 14:20 \u001b[01;32mSZ_Lyn-0076_V.fit\u001b[0m*\r\n",
      "-rwxrwxrwx 1 el_bardo el_bardo 8395200 May  4 14:20 \u001b[01;32mSZ_Lyn-0076_luminance.fit\u001b[0m*\r\n",
      "-rwxrwxrwx 1 el_bardo el_bardo 8395200 May  4 14:19 \u001b[01;32mSZ_Lyn-0077_B.fit\u001b[0m*\r\n",
      "-rwxrwxrwx 1 el_bardo el_bardo 8395200 May  4 14:19 \u001b[01;32mSZ_Lyn-0077_R.fit\u001b[0m*\r\n",
      "-rwxrwxrwx 1 el_bardo el_bardo 8395200 May  4 14:19 \u001b[01;32mSZ_Lyn-0077_V.fit\u001b[0m*\r\n",
      "-rwxrwxrwx 1 el_bardo el_bardo 8395200 May  4 14:20 \u001b[01;32mSZ_Lyn-0077_luminance.fit\u001b[0m*\r\n",
      "-rwxrwxrwx 1 el_bardo el_bardo 8395200 May  4 14:19 \u001b[01;32mSZ_Lyn-0078_B.fit\u001b[0m*\r\n",
      "-rwxrwxrwx 1 el_bardo el_bardo 8395200 May  4 14:19 \u001b[01;32mSZ_Lyn-0078_R.fit\u001b[0m*\r\n",
      "-rwxrwxrwx 1 el_bardo el_bardo 8395200 May  4 14:19 \u001b[01;32mSZ_Lyn-0078_V.fit\u001b[0m*\r\n",
      "-rwxrwxrwx 1 el_bardo el_bardo 8395200 May  4 14:19 \u001b[01;32mSZ_Lyn-0078_luminance.fit\u001b[0m*\r\n",
      "-rwxrwxrwx 1 el_bardo el_bardo 8395200 May  4 14:19 \u001b[01;32mSZ_Lyn-0079_B.fit\u001b[0m*\r\n",
      "-rwxrwxrwx 1 el_bardo el_bardo 8395200 May  4 14:19 \u001b[01;32mSZ_Lyn-0079_R.fit\u001b[0m*\r\n",
      "-rwxrwxrwx 1 el_bardo el_bardo 8395200 May  4 14:20 \u001b[01;32mSZ_Lyn-0079_V.fit\u001b[0m*\r\n",
      "-rwxrwxrwx 1 el_bardo el_bardo 8395200 May  4 14:19 \u001b[01;32mSZ_Lyn-0079_luminance.fit\u001b[0m*\r\n",
      "-rwxrwxrwx 1 el_bardo el_bardo 8395200 May  4 14:19 \u001b[01;32mSZ_Lyn-0080_B.fit\u001b[0m*\r\n",
      "-rwxrwxrwx 1 el_bardo el_bardo 8395200 May  4 14:21 \u001b[01;32mSZ_Lyn-0080_R.fit\u001b[0m*\r\n",
      "-rwxrwxrwx 1 el_bardo el_bardo 8395200 May  4 14:21 \u001b[01;32mSZ_Lyn-0080_V.fit\u001b[0m*\r\n",
      "-rwxrwxrwx 1 el_bardo el_bardo 8395200 May  4 14:21 \u001b[01;32mSZ_Lyn-0080_luminance.fit\u001b[0m*\r\n",
      "-rwxrwxrwx 1 el_bardo el_bardo 8395200 May  4 14:21 \u001b[01;32mSZ_Lyn-0081_B.fit\u001b[0m*\r\n",
      "-rwxrwxrwx 1 el_bardo el_bardo 8395200 May  4 14:21 \u001b[01;32mSZ_Lyn-0081_R.fit\u001b[0m*\r\n",
      "-rwxrwxrwx 1 el_bardo el_bardo 8395200 May  4 14:21 \u001b[01;32mSZ_Lyn-0081_V.fit\u001b[0m*\r\n",
      "-rwxrwxrwx 1 el_bardo el_bardo 8395200 May  4 14:21 \u001b[01;32mSZ_Lyn-0081_luminance.fit\u001b[0m*\r\n",
      "-rwxrwxrwx 1 el_bardo el_bardo 8395200 May  4 14:21 \u001b[01;32mSZ_Lyn-0082_B.fit\u001b[0m*\r\n",
      "-rwxrwxrwx 1 el_bardo el_bardo 8395200 May  4 14:21 \u001b[01;32mSZ_Lyn-0082_R.fit\u001b[0m*\r\n",
      "-rwxrwxrwx 1 el_bardo el_bardo 8395200 May  4 14:21 \u001b[01;32mSZ_Lyn-0082_V.fit\u001b[0m*\r\n",
      "-rwxrwxrwx 1 el_bardo el_bardo 8395200 May  4 14:21 \u001b[01;32mSZ_Lyn-0082_luminance.fit\u001b[0m*\r\n",
      "-rwxrwxrwx 1 el_bardo el_bardo 8395200 May  4 14:21 \u001b[01;32mSZ_Lyn-0083_B.fit\u001b[0m*\r\n",
      "-rwxrwxrwx 1 el_bardo el_bardo 8395200 May  4 14:21 \u001b[01;32mSZ_Lyn-0083_R.fit\u001b[0m*\r\n",
      "-rwxrwxrwx 1 el_bardo el_bardo 8395200 May  4 14:21 \u001b[01;32mSZ_Lyn-0083_V.fit\u001b[0m*\r\n",
      "-rwxrwxrwx 1 el_bardo el_bardo 8395200 May  4 14:21 \u001b[01;32mSZ_Lyn-0083_luminance.fit\u001b[0m*\r\n",
      "-rwxrwxrwx 1 el_bardo el_bardo 8395200 May  4 14:21 \u001b[01;32mSZ_Lyn-0084_B.fit\u001b[0m*\r\n",
      "-rwxrwxrwx 1 el_bardo el_bardo 8395200 May  4 14:21 \u001b[01;32mSZ_Lyn-0084_R.fit\u001b[0m*\r\n",
      "-rwxrwxrwx 1 el_bardo el_bardo 8395200 May  4 14:21 \u001b[01;32mSZ_Lyn-0084_V.fit\u001b[0m*\r\n",
      "-rwxrwxrwx 1 el_bardo el_bardo 8395200 May  4 14:21 \u001b[01;32mSZ_Lyn-0084_luminance.fit\u001b[0m*\r\n",
      "-rwxrwxrwx 1 el_bardo el_bardo 8395200 May  4 14:21 \u001b[01;32mSZ_Lyn-0085_B.fit\u001b[0m*\r\n",
      "-rwxrwxrwx 1 el_bardo el_bardo 8395200 May  4 14:21 \u001b[01;32mSZ_Lyn-0085_R.fit\u001b[0m*\r\n",
      "-rwxrwxrwx 1 el_bardo el_bardo 8395200 May  4 14:21 \u001b[01;32mSZ_Lyn-0085_V.fit\u001b[0m*\r\n",
      "-rwxrwxrwx 1 el_bardo el_bardo 8395200 May  4 14:21 \u001b[01;32mSZ_Lyn-0085_luminance.fit\u001b[0m*\r\n",
      "-rwxrwxrwx 1 el_bardo el_bardo 8395200 May  4 14:21 \u001b[01;32mSZ_Lyn-0086_B.fit\u001b[0m*\r\n",
      "-rwxrwxrwx 1 el_bardo el_bardo 8395200 May  4 14:21 \u001b[01;32mSZ_Lyn-0086_R.fit\u001b[0m*\r\n",
      "-rwxrwxrwx 1 el_bardo el_bardo 8395200 May  4 14:21 \u001b[01;32mSZ_Lyn-0086_V.fit\u001b[0m*\r\n",
      "-rwxrwxrwx 1 el_bardo el_bardo 8395200 May  4 14:21 \u001b[01;32mSZ_Lyn-0086_luminance.fit\u001b[0m*\r\n",
      "-rwxrwxrwx 1 el_bardo el_bardo 8395200 May  4 14:21 \u001b[01;32mSZ_Lyn-0087_B.fit\u001b[0m*\r\n",
      "-rwxrwxrwx 1 el_bardo el_bardo 8395200 May  4 14:21 \u001b[01;32mSZ_Lyn-0087_R.fit\u001b[0m*\r\n",
      "-rwxrwxrwx 1 el_bardo el_bardo 8395200 May  4 14:21 \u001b[01;32mSZ_Lyn-0087_V.fit\u001b[0m*\r\n",
      "-rwxrwxrwx 1 el_bardo el_bardo 8395200 May  4 14:21 \u001b[01;32mSZ_Lyn-0087_luminance.fit\u001b[0m*\r\n",
      "-rwxrwxrwx 1 el_bardo el_bardo 8395200 May  4 14:21 \u001b[01;32mSZ_Lyn-0088_B.fit\u001b[0m*\r\n",
      "-rwxrwxrwx 1 el_bardo el_bardo 8395200 May  4 14:21 \u001b[01;32mSZ_Lyn-0088_R.fit\u001b[0m*\r\n",
      "-rwxrwxrwx 1 el_bardo el_bardo 8395200 May  4 14:21 \u001b[01;32mSZ_Lyn-0088_V.fit\u001b[0m*\r\n",
      "-rwxrwxrwx 1 el_bardo el_bardo 8395200 May  4 14:21 \u001b[01;32mSZ_Lyn-0088_luminance.fit\u001b[0m*\r\n",
      "-rwxrwxrwx 1 el_bardo el_bardo 8395200 May  4 14:21 \u001b[01;32mSZ_Lyn-0089_B.fit\u001b[0m*\r\n",
      "-rwxrwxrwx 1 el_bardo el_bardo 8395200 May  4 14:21 \u001b[01;32mSZ_Lyn-0089_R.fit\u001b[0m*\r\n",
      "-rwxrwxrwx 1 el_bardo el_bardo 8395200 May  4 14:21 \u001b[01;32mSZ_Lyn-0089_V.fit\u001b[0m*\r\n",
      "-rwxrwxrwx 1 el_bardo el_bardo 8395200 May  4 14:21 \u001b[01;32mSZ_Lyn-0089_luminance.fit\u001b[0m*\r\n",
      "-rwxrwxrwx 1 el_bardo el_bardo 8395200 May  4 14:21 \u001b[01;32mSZ_Lyn-0090_B.fit\u001b[0m*\r\n",
      "-rwxrwxrwx 1 el_bardo el_bardo 8395200 May  4 14:21 \u001b[01;32mSZ_Lyn-0090_R.fit\u001b[0m*\r\n",
      "-rwxrwxrwx 1 el_bardo el_bardo 8395200 May  4 14:21 \u001b[01;32mSZ_Lyn-0090_V.fit\u001b[0m*\r\n",
      "-rwxrwxrwx 1 el_bardo el_bardo 8395200 May  4 14:21 \u001b[01;32mSZ_Lyn-0090_luminance.fit\u001b[0m*\r\n",
      "-rwxrwxrwx 1 el_bardo el_bardo 8395200 May  4 14:21 \u001b[01;32mSZ_Lyn-0091_B.fit\u001b[0m*\r\n",
      "-rwxrwxrwx 1 el_bardo el_bardo 8395200 May  4 14:21 \u001b[01;32mSZ_Lyn-0091_R.fit\u001b[0m*\r\n",
      "-rwxrwxrwx 1 el_bardo el_bardo 8395200 May  4 14:21 \u001b[01;32mSZ_Lyn-0091_V.fit\u001b[0m*\r\n",
      "-rwxrwxrwx 1 el_bardo el_bardo 8395200 May  4 14:21 \u001b[01;32mSZ_Lyn-0091_luminance.fit\u001b[0m*\r\n",
      "-rwxrwxrwx 1 el_bardo el_bardo 8395200 May  4 14:21 \u001b[01;32mSZ_Lyn-0092_B.fit\u001b[0m*\r\n",
      "-rwxrwxrwx 1 el_bardo el_bardo 8395200 May  4 14:21 \u001b[01;32mSZ_Lyn-0092_R.fit\u001b[0m*\r\n",
      "-rwxrwxrwx 1 el_bardo el_bardo 8395200 May  4 14:21 \u001b[01;32mSZ_Lyn-0092_V.fit\u001b[0m*\r\n",
      "-rwxrwxrwx 1 el_bardo el_bardo 8395200 May  4 14:21 \u001b[01;32mSZ_Lyn-0092_luminance.fit\u001b[0m*\r\n",
      "-rwxrwxrwx 1 el_bardo el_bardo 8395200 May  4 14:21 \u001b[01;32mSZ_Lyn-0093_B.fit\u001b[0m*\r\n",
      "-rwxrwxrwx 1 el_bardo el_bardo 8395200 May  4 14:21 \u001b[01;32mSZ_Lyn-0093_R.fit\u001b[0m*\r\n",
      "-rwxrwxrwx 1 el_bardo el_bardo 8395200 May  4 14:21 \u001b[01;32mSZ_Lyn-0093_V.fit\u001b[0m*\r\n",
      "-rwxrwxrwx 1 el_bardo el_bardo 8395200 May  4 14:21 \u001b[01;32mSZ_Lyn-0093_luminance.fit\u001b[0m*\r\n",
      "-rwxrwxrwx 1 el_bardo el_bardo 8395200 May  4 14:21 \u001b[01;32mSZ_Lyn-0094_B.fit\u001b[0m*\r\n",
      "-rwxrwxrwx 1 el_bardo el_bardo 8395200 May  4 14:19 \u001b[01;32mSZ_Lyn-0094_R.fit\u001b[0m*\r\n",
      "-rwxrwxrwx 1 el_bardo el_bardo 8395200 May  4 14:21 \u001b[01;32mSZ_Lyn-0094_V.fit\u001b[0m*\r\n",
      "-rwxrwxrwx 1 el_bardo el_bardo 8395200 May  4 14:21 \u001b[01;32mSZ_Lyn-0094_luminance.fit\u001b[0m*\r\n",
      "-rwxrwxrwx 1 el_bardo el_bardo 8395200 May  4 14:21 \u001b[01;32mSZ_Lyn-0095_B.fit\u001b[0m*\r\n",
      "-rwxrwxrwx 1 el_bardo el_bardo 8395200 May  4 14:21 \u001b[01;32mSZ_Lyn-0095_R.fit\u001b[0m*\r\n",
      "-rwxrwxrwx 1 el_bardo el_bardo 8395200 May  4 14:21 \u001b[01;32mSZ_Lyn-0095_V.fit\u001b[0m*\r\n",
      "-rwxrwxrwx 1 el_bardo el_bardo 8395200 May  4 14:21 \u001b[01;32mSZ_Lyn-0095_luminance.fit\u001b[0m*\r\n",
      "-rwxrwxrwx 1 el_bardo el_bardo 8395200 May  4 14:21 \u001b[01;32mSZ_Lyn-0096_B.fit\u001b[0m*\r\n",
      "-rwxrwxrwx 1 el_bardo el_bardo 8395200 May  4 14:21 \u001b[01;32mSZ_Lyn-0096_R.fit\u001b[0m*\r\n",
      "-rwxrwxrwx 1 el_bardo el_bardo 8395200 May  4 14:21 \u001b[01;32mSZ_Lyn-0096_V.fit\u001b[0m*\r\n",
      "-rwxrwxrwx 1 el_bardo el_bardo 8395200 May  4 14:21 \u001b[01;32mSZ_Lyn-0096_luminance.fit\u001b[0m*\r\n",
      "-rwxrwxrwx 1 el_bardo el_bardo 8395200 May  4 14:21 \u001b[01;32mSZ_Lyn-0097_B.fit\u001b[0m*\r\n",
      "-rwxrwxrwx 1 el_bardo el_bardo 8395200 May  4 14:21 \u001b[01;32mSZ_Lyn-0097_R.fit\u001b[0m*\r\n",
      "-rwxrwxrwx 1 el_bardo el_bardo 8395200 May  4 14:21 \u001b[01;32mSZ_Lyn-0097_V.fit\u001b[0m*\r\n",
      "-rwxrwxrwx 1 el_bardo el_bardo 8395200 May  4 14:21 \u001b[01;32mSZ_Lyn-0097_luminance.fit\u001b[0m*\r\n",
      "-rwxrwxrwx 1 el_bardo el_bardo 8395200 May  4 14:21 \u001b[01;32mSZ_Lyn-0098_B.fit\u001b[0m*\r\n",
      "-rwxrwxrwx 1 el_bardo el_bardo 8395200 May  4 14:21 \u001b[01;32mSZ_Lyn-0098_R.fit\u001b[0m*\r\n",
      "-rwxrwxrwx 1 el_bardo el_bardo 8395200 May  4 14:20 \u001b[01;32mSZ_Lyn-0098_V.fit\u001b[0m*\r\n",
      "-rwxrwxrwx 1 el_bardo el_bardo 8395200 May  4 14:20 \u001b[01;32mSZ_Lyn-0098_luminance.fit\u001b[0m*\r\n",
      "-rwxrwxrwx 1 el_bardo el_bardo 8395200 May  4 14:21 \u001b[01;32mSZ_Lyn-0099_B.fit\u001b[0m*\r\n",
      "-rwxrwxrwx 1 el_bardo el_bardo 8395200 May  4 14:21 \u001b[01;32mSZ_Lyn-0099_R.fit\u001b[0m*\r\n",
      "-rwxrwxrwx 1 el_bardo el_bardo 8395200 May  4 14:21 \u001b[01;32mSZ_Lyn-0099_V.fit\u001b[0m*\r\n",
      "-rwxrwxrwx 1 el_bardo el_bardo 8395200 May  4 14:20 \u001b[01;32mSZ_Lyn-0099_luminance.fit\u001b[0m*\r\n",
      "-rwxrwxrwx 1 el_bardo el_bardo 8395200 May  4 14:21 \u001b[01;32mSZ_Lyn-0100_B.fit\u001b[0m*\r\n",
      "-rwxrwxrwx 1 el_bardo el_bardo 8395200 May  4 14:21 \u001b[01;32mSZ_Lyn-0100_R.fit\u001b[0m*\r\n",
      "-rwxrwxrwx 1 el_bardo el_bardo 8395200 May  4 14:19 \u001b[01;32mSZ_Lyn-0100_V.fit\u001b[0m*\r\n",
      "-rwxrwxrwx 1 el_bardo el_bardo 8395200 May  4 14:21 \u001b[01;32mSZ_Lyn-0100_luminance.fit\u001b[0m*\r\n",
      "-rwxrwxrwx 1 el_bardo el_bardo 8395200 May  4 14:19 \u001b[01;32mSZ_Lyn-0101_B.fit\u001b[0m*\r\n",
      "-rwxrwxrwx 1 el_bardo el_bardo 8395200 May  4 14:21 \u001b[01;32mSZ_Lyn-0101_R.fit\u001b[0m*\r\n",
      "-rwxrwxrwx 1 el_bardo el_bardo 8395200 May  4 14:20 \u001b[01;32mSZ_Lyn-0101_V.fit\u001b[0m*\r\n",
      "-rwxrwxrwx 1 el_bardo el_bardo 8395200 May  4 14:19 \u001b[01;32mSZ_Lyn-0101_luminance.fit\u001b[0m*\r\n",
      "-rwxrwxrwx 1 el_bardo el_bardo 8395200 May  4 14:19 \u001b[01;32mSZ_Lyn-0102_B.fit\u001b[0m*\r\n",
      "-rwxrwxrwx 1 el_bardo el_bardo 8395200 May  4 14:21 \u001b[01;32mSZ_Lyn-0102_R.fit\u001b[0m*\r\n",
      "-rwxrwxrwx 1 el_bardo el_bardo 8395200 May  4 14:19 \u001b[01;32mSZ_Lyn-0102_V.fit\u001b[0m*\r\n",
      "-rwxrwxrwx 1 el_bardo el_bardo 8395200 May  4 14:19 \u001b[01;32mSZ_Lyn-0102_luminance.fit\u001b[0m*\r\n",
      "-rwxrwxrwx 1 el_bardo el_bardo 8395200 May  4 14:19 \u001b[01;32mSZ_Lyn-0103_B.fit\u001b[0m*\r\n",
      "-rwxrwxrwx 1 el_bardo el_bardo 8395200 May  4 14:19 \u001b[01;32mSZ_Lyn-0103_R.fit\u001b[0m*\r\n",
      "-rwxrwxrwx 1 el_bardo el_bardo 8395200 May  4 14:21 \u001b[01;32mSZ_Lyn-0103_V.fit\u001b[0m*\r\n",
      "-rwxrwxrwx 1 el_bardo el_bardo 8395200 May  4 14:19 \u001b[01;32mSZ_Lyn-0103_luminance.fit\u001b[0m*\r\n",
      "-rwxrwxrwx 1 el_bardo el_bardo 8395200 May  4 14:19 \u001b[01;32mSZ_Lyn-0104_B.fit\u001b[0m*\r\n",
      "-rwxrwxrwx 1 el_bardo el_bardo 8395200 May  4 14:19 \u001b[01;32mSZ_Lyn-0104_R.fit\u001b[0m*\r\n",
      "-rwxrwxrwx 1 el_bardo el_bardo 8395200 May  4 14:19 \u001b[01;32mSZ_Lyn-0104_V.fit\u001b[0m*\r\n",
      "-rwxrwxrwx 1 el_bardo el_bardo 8395200 May  4 14:19 \u001b[01;32mSZ_Lyn-0104_luminance.fit\u001b[0m*\r\n",
      "-rwxrwxrwx 1 el_bardo el_bardo 8395200 May  4 14:19 \u001b[01;32mSZ_Lyn-0105_B.fit\u001b[0m*\r\n",
      "-rwxrwxrwx 1 el_bardo el_bardo 8395200 May  4 14:19 \u001b[01;32mSZ_Lyn-0105_R.fit\u001b[0m*\r\n",
      "-rwxrwxrwx 1 el_bardo el_bardo 8395200 May  4 14:19 \u001b[01;32mSZ_Lyn-0105_V.fit\u001b[0m*\r\n",
      "-rwxrwxrwx 1 el_bardo el_bardo 8395200 May  4 14:19 \u001b[01;32mSZ_Lyn-0105_luminance.fit\u001b[0m*\r\n",
      "-rwxrwxrwx 1 el_bardo el_bardo 8395200 May  4 14:19 \u001b[01;32mSZ_Lyn-0106_B.fit\u001b[0m*\r\n",
      "-rwxrwxrwx 1 el_bardo el_bardo 8395200 May  4 14:19 \u001b[01;32mSZ_Lyn-0106_R.fit\u001b[0m*\r\n",
      "-rwxrwxrwx 1 el_bardo el_bardo 8395200 May  4 14:19 \u001b[01;32mSZ_Lyn-0106_V.fit\u001b[0m*\r\n",
      "-rwxrwxrwx 1 el_bardo el_bardo 8395200 May  4 14:19 \u001b[01;32mSZ_Lyn-0106_luminance.fit\u001b[0m*\r\n",
      "-rwxrwxrwx 1 el_bardo el_bardo 8395200 May  4 14:19 \u001b[01;32mSZ_Lyn-0107_B.fit\u001b[0m*\r\n",
      "-rwxrwxrwx 1 el_bardo el_bardo 8395200 May  4 14:20 \u001b[01;32mSZ_Lyn-0107_R.fit\u001b[0m*\r\n",
      "-rwxrwxrwx 1 el_bardo el_bardo 8395200 May  4 14:19 \u001b[01;32mSZ_Lyn-0107_V.fit\u001b[0m*\r\n",
      "-rwxrwxrwx 1 el_bardo el_bardo 8395200 May  4 14:19 \u001b[01;32mSZ_Lyn-0107_luminance.fit\u001b[0m*\r\n",
      "-rwxrwxrwx 1 el_bardo el_bardo 8395200 May  4 14:19 \u001b[01;32mSZ_Lyn-0108_B.fit\u001b[0m*\r\n",
      "-rwxrwxrwx 1 el_bardo el_bardo 8395200 May  4 14:19 \u001b[01;32mSZ_Lyn-0108_R.fit\u001b[0m*\r\n",
      "-rwxrwxrwx 1 el_bardo el_bardo 8395200 May  4 14:19 \u001b[01;32mSZ_Lyn-0108_V.fit\u001b[0m*\r\n",
      "-rwxrwxrwx 1 el_bardo el_bardo 8395200 May  4 14:19 \u001b[01;32mSZ_Lyn-0108_luminance.fit\u001b[0m*\r\n",
      "-rwxrwxrwx 1 el_bardo el_bardo 8395200 May  4 14:19 \u001b[01;32mSZ_Lyn-0109_B.fit\u001b[0m*\r\n",
      "-rwxrwxrwx 1 el_bardo el_bardo 8395200 May  4 14:19 \u001b[01;32mSZ_Lyn-0109_R.fit\u001b[0m*\r\n",
      "-rwxrwxrwx 1 el_bardo el_bardo 8395200 May  4 14:19 \u001b[01;32mSZ_Lyn-0109_V.fit\u001b[0m*\r\n",
      "-rwxrwxrwx 1 el_bardo el_bardo 8395200 May  4 14:19 \u001b[01;32mSZ_Lyn-0109_luminance.fit\u001b[0m*\r\n",
      "-rwxrwxrwx 1 el_bardo el_bardo 8395200 May  4 14:19 \u001b[01;32mSZ_Lyn-0110_B.fit\u001b[0m*\r\n",
      "-rwxrwxrwx 1 el_bardo el_bardo 8395200 May  4 14:19 \u001b[01;32mSZ_Lyn-0110_R.fit\u001b[0m*\r\n",
      "-rwxrwxrwx 1 el_bardo el_bardo 8395200 May  4 14:19 \u001b[01;32mSZ_Lyn-0110_V.fit\u001b[0m*\r\n",
      "-rwxrwxrwx 1 el_bardo el_bardo 8395200 May  4 14:19 \u001b[01;32mSZ_Lyn-0110_luminance.fit\u001b[0m*\r\n",
      "-rwxrwxrwx 1 el_bardo el_bardo 8395200 May  4 14:19 \u001b[01;32mSZ_Lyn-0111_B.fit\u001b[0m*\r\n",
      "-rwxrwxrwx 1 el_bardo el_bardo 8395200 May  4 14:19 \u001b[01;32mSZ_Lyn-0111_R.fit\u001b[0m*\r\n",
      "-rwxrwxrwx 1 el_bardo el_bardo 8395200 May  4 14:19 \u001b[01;32mSZ_Lyn-0111_V.fit\u001b[0m*\r\n",
      "-rwxrwxrwx 1 el_bardo el_bardo 8395200 May  4 14:19 \u001b[01;32mSZ_Lyn-0111_luminance.fit\u001b[0m*\r\n",
      "-rwxrwxrwx 1 el_bardo el_bardo 8395200 May  4 14:19 \u001b[01;32mSZ_Lyn-0112_B.fit\u001b[0m*\r\n",
      "-rwxrwxrwx 1 el_bardo el_bardo 8395200 May  4 14:19 \u001b[01;32mSZ_Lyn-0112_R.fit\u001b[0m*\r\n",
      "-rwxrwxrwx 1 el_bardo el_bardo 8395200 May  4 14:19 \u001b[01;32mSZ_Lyn-0112_V.fit\u001b[0m*\r\n",
      "-rwxrwxrwx 1 el_bardo el_bardo 8395200 May  4 14:19 \u001b[01;32mSZ_Lyn-0112_luminance.fit\u001b[0m*\r\n",
      "-rwxrwxrwx 1 el_bardo el_bardo 8395200 May  4 14:19 \u001b[01;32mSZ_Lyn-0113_B.fit\u001b[0m*\r\n",
      "-rwxrwxrwx 1 el_bardo el_bardo 8395200 May  4 14:21 \u001b[01;32mSZ_Lyn-0113_R.fit\u001b[0m*\r\n",
      "-rwxrwxrwx 1 el_bardo el_bardo 8395200 May  4 14:21 \u001b[01;32mSZ_Lyn-0113_V.fit\u001b[0m*\r\n",
      "-rwxrwxrwx 1 el_bardo el_bardo 8395200 May  4 14:19 \u001b[01;32mSZ_Lyn-0113_luminance.fit\u001b[0m*\r\n",
      "-rwxrwxrwx 1 el_bardo el_bardo 8395200 May  4 14:21 \u001b[01;32mSZ_Lyn-0114_B.fit\u001b[0m*\r\n",
      "-rwxrwxrwx 1 el_bardo el_bardo 8395200 May  4 14:21 \u001b[01;32mSZ_Lyn-0114_R.fit\u001b[0m*\r\n",
      "-rwxrwxrwx 1 el_bardo el_bardo 8395200 May  4 14:19 \u001b[01;32mSZ_Lyn-0114_V.fit\u001b[0m*\r\n",
      "-rwxrwxrwx 1 el_bardo el_bardo 8395200 May  4 14:19 \u001b[01;32mSZ_Lyn-0114_luminance.fit\u001b[0m*\r\n",
      "-rwxrwxrwx 1 el_bardo el_bardo 8395200 May  4 14:21 \u001b[01;32mSZ_Lyn-0115_B.fit\u001b[0m*\r\n",
      "-rwxrwxrwx 1 el_bardo el_bardo 8395200 May  4 14:21 \u001b[01;32mSZ_Lyn-0115_R.fit\u001b[0m*\r\n",
      "-rwxrwxrwx 1 el_bardo el_bardo 8395200 May  4 14:21 \u001b[01;32mSZ_Lyn-0115_V.fit\u001b[0m*\r\n",
      "-rwxrwxrwx 1 el_bardo el_bardo 8395200 May  4 14:19 \u001b[01;32mSZ_Lyn-0115_luminance.fit\u001b[0m*\r\n",
      "-rwxrwxrwx 1 el_bardo el_bardo 8395200 May  4 14:21 \u001b[01;32mSZ_Lyn-0116_B.fit\u001b[0m*\r\n",
      "-rwxrwxrwx 1 el_bardo el_bardo 8395200 May  4 14:21 \u001b[01;32mSZ_Lyn-0116_R.fit\u001b[0m*\r\n",
      "-rwxrwxrwx 1 el_bardo el_bardo 8395200 May  4 14:21 \u001b[01;32mSZ_Lyn-0116_V.fit\u001b[0m*\r\n",
      "-rwxrwxrwx 1 el_bardo el_bardo 8395200 May  4 14:21 \u001b[01;32mSZ_Lyn-0116_luminance.fit\u001b[0m*\r\n",
      "-rwxrwxrwx 1 el_bardo el_bardo 8395200 May  4 14:21 \u001b[01;32mSZ_Lyn-0117_B.fit\u001b[0m*\r\n",
      "-rwxrwxrwx 1 el_bardo el_bardo 8395200 May  4 14:21 \u001b[01;32mSZ_Lyn-0117_R.fit\u001b[0m*\r\n",
      "-rwxrwxrwx 1 el_bardo el_bardo 8395200 May  4 14:21 \u001b[01;32mSZ_Lyn-0117_V.fit\u001b[0m*\r\n",
      "-rwxrwxrwx 1 el_bardo el_bardo 8395200 May  4 14:21 \u001b[01;32mSZ_Lyn-0117_luminance.fit\u001b[0m*\r\n",
      "-rwxrwxrwx 1 el_bardo el_bardo 8395200 May  4 14:21 \u001b[01;32mSZ_Lyn-0118_B.fit\u001b[0m*\r\n",
      "-rwxrwxrwx 1 el_bardo el_bardo 8395200 May  4 14:21 \u001b[01;32mSZ_Lyn-0118_R.fit\u001b[0m*\r\n",
      "-rwxrwxrwx 1 el_bardo el_bardo 8395200 May  4 14:21 \u001b[01;32mSZ_Lyn-0118_V.fit\u001b[0m*\r\n",
      "-rwxrwxrwx 1 el_bardo el_bardo 8395200 May  4 14:21 \u001b[01;32mSZ_Lyn-0118_luminance.fit\u001b[0m*\r\n",
      "-rwxrwxrwx 1 el_bardo el_bardo 8395200 May  4 14:21 \u001b[01;32mSZ_Lyn-0119_B.fit\u001b[0m*\r\n",
      "-rwxrwxrwx 1 el_bardo el_bardo 8395200 May  4 14:21 \u001b[01;32mSZ_Lyn-0119_R.fit\u001b[0m*\r\n",
      "-rwxrwxrwx 1 el_bardo el_bardo 8395200 May  4 14:21 \u001b[01;32mSZ_Lyn-0119_V.fit\u001b[0m*\r\n",
      "-rwxrwxrwx 1 el_bardo el_bardo 8395200 May  4 14:21 \u001b[01;32mSZ_Lyn-0119_luminance.fit\u001b[0m*\r\n",
      "-rwxrwxrwx 1 el_bardo el_bardo 8395200 May  4 14:21 \u001b[01;32mSZ_Lyn-0120_B.fit\u001b[0m*\r\n",
      "-rwxrwxrwx 1 el_bardo el_bardo 8395200 May  4 14:21 \u001b[01;32mSZ_Lyn-0120_R.fit\u001b[0m*\r\n",
      "-rwxrwxrwx 1 el_bardo el_bardo 8395200 May  4 14:21 \u001b[01;32mSZ_Lyn-0120_V.fit\u001b[0m*\r\n",
      "-rwxrwxrwx 1 el_bardo el_bardo 8395200 May  4 14:21 \u001b[01;32mSZ_Lyn-0120_luminance.fit\u001b[0m*\r\n",
      "-rwxrwxrwx 1 el_bardo el_bardo 8395200 May  4 14:20 \u001b[01;32mSZ_Lyn-0121_B.fit\u001b[0m*\r\n",
      "-rwxrwxrwx 1 el_bardo el_bardo 8395200 May  4 14:20 \u001b[01;32mSZ_Lyn-0121_R.fit\u001b[0m*\r\n",
      "-rwxrwxrwx 1 el_bardo el_bardo 8395200 May  4 14:20 \u001b[01;32mSZ_Lyn-0121_V.fit\u001b[0m*\r\n",
      "-rwxrwxrwx 1 el_bardo el_bardo 8395200 May  4 14:20 \u001b[01;32mSZ_Lyn-0121_luminance.fit\u001b[0m*\r\n",
      "-rwxrwxrwx 1 el_bardo el_bardo 8395200 May  4 14:20 \u001b[01;32mSZ_Lyn-0122_B.fit\u001b[0m*\r\n",
      "-rwxrwxrwx 1 el_bardo el_bardo 8395200 May  4 14:20 \u001b[01;32mSZ_Lyn-0122_R.fit\u001b[0m*\r\n",
      "-rwxrwxrwx 1 el_bardo el_bardo 8395200 May  4 14:20 \u001b[01;32mSZ_Lyn-0122_V.fit\u001b[0m*\r\n",
      "-rwxrwxrwx 1 el_bardo el_bardo 8395200 May  4 14:20 \u001b[01;32mSZ_Lyn-0122_luminance.fit\u001b[0m*\r\n",
      "-rwxrwxrwx 1 el_bardo el_bardo 8395200 May  4 14:20 \u001b[01;32mSZ_Lyn-0123_B.fit\u001b[0m*\r\n",
      "-rwxrwxrwx 1 el_bardo el_bardo 8395200 May  4 14:20 \u001b[01;32mSZ_Lyn-0123_R.fit\u001b[0m*\r\n",
      "-rwxrwxrwx 1 el_bardo el_bardo 8395200 May  4 14:20 \u001b[01;32mSZ_Lyn-0123_V.fit\u001b[0m*\r\n",
      "-rwxrwxrwx 1 el_bardo el_bardo 8395200 May  4 14:20 \u001b[01;32mSZ_Lyn-0123_luminance.fit\u001b[0m*\r\n",
      "-rwxrwxrwx 1 el_bardo el_bardo 8395200 May  4 14:20 \u001b[01;32mSZ_Lyn-0124_B.fit\u001b[0m*\r\n",
      "-rwxrwxrwx 1 el_bardo el_bardo 8395200 May  4 14:20 \u001b[01;32mSZ_Lyn-0124_R.fit\u001b[0m*\r\n",
      "-rwxrwxrwx 1 el_bardo el_bardo 8395200 May  4 14:20 \u001b[01;32mSZ_Lyn-0124_V.fit\u001b[0m*\r\n",
      "-rwxrwxrwx 1 el_bardo el_bardo 8395200 May  4 14:20 \u001b[01;32mSZ_Lyn-0124_luminance.fit\u001b[0m*\r\n",
      "-rwxrwxrwx 1 el_bardo el_bardo 8395200 May  4 14:20 \u001b[01;32mSZ_Lyn-0125_B.fit\u001b[0m*\r\n",
      "-rwxrwxrwx 1 el_bardo el_bardo 8395200 May  4 14:20 \u001b[01;32mSZ_Lyn-0125_R.fit\u001b[0m*\r\n",
      "-rwxrwxrwx 1 el_bardo el_bardo 8395200 May  4 14:20 \u001b[01;32mSZ_Lyn-0125_V.fit\u001b[0m*\r\n",
      "-rwxrwxrwx 1 el_bardo el_bardo 8395200 May  4 14:20 \u001b[01;32mSZ_Lyn-0125_luminance.fit\u001b[0m*\r\n",
      "-rwxrwxrwx 1 el_bardo el_bardo 8395200 May  4 14:20 \u001b[01;32mSZ_Lyn-0126_B.fit\u001b[0m*\r\n",
      "-rwxrwxrwx 1 el_bardo el_bardo 8395200 May  4 14:20 \u001b[01;32mSZ_Lyn-0126_R.fit\u001b[0m*\r\n",
      "-rwxrwxrwx 1 el_bardo el_bardo 8395200 May  4 14:20 \u001b[01;32mSZ_Lyn-0126_V.fit\u001b[0m*\r\n",
      "-rwxrwxrwx 1 el_bardo el_bardo 8395200 May  4 14:20 \u001b[01;32mSZ_Lyn-0126_luminance.fit\u001b[0m*\r\n",
      "-rwxrwxrwx 1 el_bardo el_bardo 8395200 May  4 14:21 \u001b[01;32mSZ_Lyn-0127_B.fit\u001b[0m*\r\n",
      "-rwxrwxrwx 1 el_bardo el_bardo 8395200 May  4 14:21 \u001b[01;32mSZ_Lyn-0127_R.fit\u001b[0m*\r\n",
      "-rwxrwxrwx 1 el_bardo el_bardo 8395200 May  4 14:21 \u001b[01;32mSZ_Lyn-0127_V.fit\u001b[0m*\r\n",
      "-rwxrwxrwx 1 el_bardo el_bardo 8395200 May  4 14:20 \u001b[01;32mSZ_Lyn-0127_luminance.fit\u001b[0m*\r\n",
      "-rwxrwxrwx 1 el_bardo el_bardo 8395200 May  4 14:21 \u001b[01;32mSZ_Lyn-0128_B.fit\u001b[0m*\r\n",
      "-rwxrwxrwx 1 el_bardo el_bardo 8395200 May  4 14:21 \u001b[01;32mSZ_Lyn-0128_R.fit\u001b[0m*\r\n",
      "-rwxrwxrwx 1 el_bardo el_bardo 8395200 May  4 14:21 \u001b[01;32mSZ_Lyn-0128_V.fit\u001b[0m*\r\n",
      "-rwxrwxrwx 1 el_bardo el_bardo 8395200 May  4 14:21 \u001b[01;32mSZ_Lyn-0128_luminance.fit\u001b[0m*\r\n",
      "-rwxrwxrwx 1 el_bardo el_bardo 8395200 May  4 14:21 \u001b[01;32mSZ_Lyn-0129_B.fit\u001b[0m*\r\n",
      "-rwxrwxrwx 1 el_bardo el_bardo 8395200 May  4 14:21 \u001b[01;32mSZ_Lyn-0129_R.fit\u001b[0m*\r\n",
      "-rwxrwxrwx 1 el_bardo el_bardo 8395200 May  4 14:21 \u001b[01;32mSZ_Lyn-0129_V.fit\u001b[0m*\r\n",
      "-rwxrwxrwx 1 el_bardo el_bardo 8395200 May  4 14:21 \u001b[01;32mSZ_Lyn-0129_luminance.fit\u001b[0m*\r\n",
      "-rwxrwxrwx 1 el_bardo el_bardo 8395200 May  4 14:21 \u001b[01;32mSZ_Lyn-0130_B.fit\u001b[0m*\r\n",
      "-rwxrwxrwx 1 el_bardo el_bardo 8395200 May  4 14:21 \u001b[01;32mSZ_Lyn-0130_R.fit\u001b[0m*\r\n",
      "-rwxrwxrwx 1 el_bardo el_bardo 8395200 May  4 14:21 \u001b[01;32mSZ_Lyn-0130_V.fit\u001b[0m*\r\n",
      "-rwxrwxrwx 1 el_bardo el_bardo 8395200 May  4 14:21 \u001b[01;32mSZ_Lyn-0130_luminance.fit\u001b[0m*\r\n",
      "-rwxrwxrwx 1 el_bardo el_bardo 8395200 May  4 14:21 \u001b[01;32mSZ_Lyn-0131_B.fit\u001b[0m*\r\n",
      "-rwxrwxrwx 1 el_bardo el_bardo 8395200 May  4 14:21 \u001b[01;32mSZ_Lyn-0131_R.fit\u001b[0m*\r\n",
      "-rwxrwxrwx 1 el_bardo el_bardo 8395200 May  4 14:21 \u001b[01;32mSZ_Lyn-0131_V.fit\u001b[0m*\r\n",
      "-rwxrwxrwx 1 el_bardo el_bardo 8395200 May  4 14:21 \u001b[01;32mSZ_Lyn-0131_luminance.fit\u001b[0m*\r\n",
      "-rwxrwxrwx 1 el_bardo el_bardo 8395200 May  4 14:21 \u001b[01;32mSZ_Lyn-0132_B.fit\u001b[0m*\r\n",
      "-rwxrwxrwx 1 el_bardo el_bardo 8395200 May  4 14:21 \u001b[01;32mSZ_Lyn-0132_R.fit\u001b[0m*\r\n",
      "-rwxrwxrwx 1 el_bardo el_bardo 8395200 May  4 14:21 \u001b[01;32mSZ_Lyn-0132_V.fit\u001b[0m*\r\n",
      "-rwxrwxrwx 1 el_bardo el_bardo 8395200 May  4 14:21 \u001b[01;32mSZ_Lyn-0132_luminance.fit\u001b[0m*\r\n",
      "-rwxrwxrwx 1 el_bardo el_bardo 8395200 May  4 14:21 \u001b[01;32mSZ_Lyn-0133_B.fit\u001b[0m*\r\n",
      "-rwxrwxrwx 1 el_bardo el_bardo 8395200 May  4 14:21 \u001b[01;32mSZ_Lyn-0133_R.fit\u001b[0m*\r\n",
      "-rwxrwxrwx 1 el_bardo el_bardo 8395200 May  4 14:21 \u001b[01;32mSZ_Lyn-0133_V.fit\u001b[0m*\r\n",
      "-rwxrwxrwx 1 el_bardo el_bardo 8395200 May  4 14:21 \u001b[01;32mSZ_Lyn-0133_luminance.fit\u001b[0m*\r\n",
      "-rwxrwxrwx 1 el_bardo el_bardo 8395200 May  4 14:21 \u001b[01;32mSZ_Lyn-0134_B.fit\u001b[0m*\r\n",
      "-rwxrwxrwx 1 el_bardo el_bardo 8395200 May  4 14:21 \u001b[01;32mSZ_Lyn-0134_R.fit\u001b[0m*\r\n",
      "-rwxrwxrwx 1 el_bardo el_bardo 8395200 May  4 14:21 \u001b[01;32mSZ_Lyn-0134_V.fit\u001b[0m*\r\n",
      "-rwxrwxrwx 1 el_bardo el_bardo 8395200 May  4 14:21 \u001b[01;32mSZ_Lyn-0134_luminance.fit\u001b[0m*\r\n",
      "-rwxrwxrwx 1 el_bardo el_bardo 8395200 May  4 14:21 \u001b[01;32mSZ_Lyn-0135_B.fit\u001b[0m*\r\n",
      "-rwxrwxrwx 1 el_bardo el_bardo 8395200 May  4 14:21 \u001b[01;32mSZ_Lyn-0135_R.fit\u001b[0m*\r\n",
      "-rwxrwxrwx 1 el_bardo el_bardo 8395200 May  4 14:21 \u001b[01;32mSZ_Lyn-0135_V.fit\u001b[0m*\r\n",
      "-rwxrwxrwx 1 el_bardo el_bardo 8395200 May  4 14:21 \u001b[01;32mSZ_Lyn-0135_luminance.fit\u001b[0m*\r\n",
      "-rwxrwxrwx 1 el_bardo el_bardo 8395200 May  4 14:21 \u001b[01;32mSZ_Lyn-0136_B.fit\u001b[0m*\r\n",
      "-rwxrwxrwx 1 el_bardo el_bardo 8395200 May  4 14:21 \u001b[01;32mSZ_Lyn-0136_R.fit\u001b[0m*\r\n",
      "-rwxrwxrwx 1 el_bardo el_bardo 8395200 May  4 14:21 \u001b[01;32mSZ_Lyn-0136_V.fit\u001b[0m*\r\n",
      "-rwxrwxrwx 1 el_bardo el_bardo 8395200 May  4 14:21 \u001b[01;32mSZ_Lyn-0136_luminance.fit\u001b[0m*\r\n",
      "-rwxrwxrwx 1 el_bardo el_bardo 8395200 May  4 14:21 \u001b[01;32mSZ_Lyn-0137_B.fit\u001b[0m*\r\n",
      "-rwxrwxrwx 1 el_bardo el_bardo 8395200 May  4 14:21 \u001b[01;32mSZ_Lyn-0137_R.fit\u001b[0m*\r\n",
      "-rwxrwxrwx 1 el_bardo el_bardo 8395200 May  4 14:21 \u001b[01;32mSZ_Lyn-0137_V.fit\u001b[0m*\r\n",
      "-rwxrwxrwx 1 el_bardo el_bardo 8395200 May  4 14:21 \u001b[01;32mSZ_Lyn-0137_luminance.fit\u001b[0m*\r\n",
      "-rwxrwxrwx 1 el_bardo el_bardo 8395200 May  4 14:21 \u001b[01;32mSZ_Lyn-0138_B.fit\u001b[0m*\r\n",
      "-rwxrwxrwx 1 el_bardo el_bardo 8395200 May  4 14:21 \u001b[01;32mSZ_Lyn-0138_R.fit\u001b[0m*\r\n",
      "-rwxrwxrwx 1 el_bardo el_bardo 8395200 May  4 14:21 \u001b[01;32mSZ_Lyn-0138_V.fit\u001b[0m*\r\n",
      "-rwxrwxrwx 1 el_bardo el_bardo 8395200 May  4 14:21 \u001b[01;32mSZ_Lyn-0138_luminance.fit\u001b[0m*\r\n",
      "-rwxrwxrwx 1 el_bardo el_bardo 8395200 May  4 14:21 \u001b[01;32mSZ_Lyn-0139_B.fit\u001b[0m*\r\n",
      "-rwxrwxrwx 1 el_bardo el_bardo 8395200 May  4 14:21 \u001b[01;32mSZ_Lyn-0139_R.fit\u001b[0m*\r\n",
      "-rwxrwxrwx 1 el_bardo el_bardo 8395200 May  4 14:21 \u001b[01;32mSZ_Lyn-0139_V.fit\u001b[0m*\r\n",
      "-rwxrwxrwx 1 el_bardo el_bardo 8395200 May  4 14:21 \u001b[01;32mSZ_Lyn-0139_luminance.fit\u001b[0m*\r\n",
      "-rwxrwxrwx 1 el_bardo el_bardo 8395200 May  4 14:21 \u001b[01;32mSZ_Lyn-0140_B.fit\u001b[0m*\r\n",
      "-rwxrwxrwx 1 el_bardo el_bardo 8395200 May  4 14:21 \u001b[01;32mSZ_Lyn-0140_R.fit\u001b[0m*\r\n",
      "-rwxrwxrwx 1 el_bardo el_bardo 8395200 May  4 14:21 \u001b[01;32mSZ_Lyn-0140_V.fit\u001b[0m*\r\n",
      "-rwxrwxrwx 1 el_bardo el_bardo 8395200 May  4 14:21 \u001b[01;32mSZ_Lyn-0140_luminance.fit\u001b[0m*\r\n",
      "-rwxrwxrwx 1 el_bardo el_bardo 8395200 May  4 14:21 \u001b[01;32mSZ_Lyn-0141_B.fit\u001b[0m*\r\n",
      "-rwxrwxrwx 1 el_bardo el_bardo 8395200 May  4 14:21 \u001b[01;32mSZ_Lyn-0141_R.fit\u001b[0m*\r\n",
      "-rwxrwxrwx 1 el_bardo el_bardo 8395200 May  4 14:21 \u001b[01;32mSZ_Lyn-0141_V.fit\u001b[0m*\r\n",
      "-rwxrwxrwx 1 el_bardo el_bardo 8395200 May  4 14:21 \u001b[01;32mSZ_Lyn-0141_luminance.fit\u001b[0m*\r\n",
      "-rwxrwxrwx 1 el_bardo el_bardo 8395200 May  4 14:21 \u001b[01;32mSZ_Lyn-0142_B.fit\u001b[0m*\r\n",
      "-rwxrwxrwx 1 el_bardo el_bardo 8395200 May  4 14:21 \u001b[01;32mSZ_Lyn-0142_R.fit\u001b[0m*\r\n",
      "-rwxrwxrwx 1 el_bardo el_bardo 8395200 May  4 14:21 \u001b[01;32mSZ_Lyn-0142_V.fit\u001b[0m*\r\n",
      "-rwxrwxrwx 1 el_bardo el_bardo 8395200 May  4 14:21 \u001b[01;32mSZ_Lyn-0142_luminance.fit\u001b[0m*\r\n",
      "-rwxrwxrwx 1 el_bardo el_bardo 8395200 May  4 14:21 \u001b[01;32mSZ_Lyn-0143_B.fit\u001b[0m*\r\n",
      "-rwxrwxrwx 1 el_bardo el_bardo 8395200 May  4 14:21 \u001b[01;32mSZ_Lyn-0143_R.fit\u001b[0m*\r\n",
      "-rwxrwxrwx 1 el_bardo el_bardo 8395200 May  4 14:21 \u001b[01;32mSZ_Lyn-0143_V.fit\u001b[0m*\r\n",
      "-rwxrwxrwx 1 el_bardo el_bardo 8395200 May  4 14:21 \u001b[01;32mSZ_Lyn-0143_luminance.fit\u001b[0m*\r\n",
      "-rwxrwxrwx 1 el_bardo el_bardo 8395200 May  4 14:21 \u001b[01;32mSZ_Lyn-0144_B.fit\u001b[0m*\r\n",
      "-rwxrwxrwx 1 el_bardo el_bardo 8395200 May  4 14:21 \u001b[01;32mSZ_Lyn-0144_R.fit\u001b[0m*\r\n",
      "-rwxrwxrwx 1 el_bardo el_bardo 8395200 May  4 14:21 \u001b[01;32mSZ_Lyn-0144_V.fit\u001b[0m*\r\n",
      "-rwxrwxrwx 1 el_bardo el_bardo 8395200 May  4 14:21 \u001b[01;32mSZ_Lyn-0144_luminance.fit\u001b[0m*\r\n",
      "-rwxrwxrwx 1 el_bardo el_bardo 8395200 May  4 14:21 \u001b[01;32mSZ_Lyn-0145_B.fit\u001b[0m*\r\n",
      "-rwxrwxrwx 1 el_bardo el_bardo 8395200 May  4 14:21 \u001b[01;32mSZ_Lyn-0145_R.fit\u001b[0m*\r\n",
      "-rwxrwxrwx 1 el_bardo el_bardo 8395200 May  4 14:21 \u001b[01;32mSZ_Lyn-0145_V.fit\u001b[0m*\r\n",
      "-rwxrwxrwx 1 el_bardo el_bardo 8395200 May  4 14:21 \u001b[01;32mSZ_Lyn-0145_luminance.fit\u001b[0m*\r\n",
      "-rwxrwxrwx 1 el_bardo el_bardo 8395200 May  4 14:21 \u001b[01;32mSZ_Lyn-0146_B.fit\u001b[0m*\r\n",
      "-rwxrwxrwx 1 el_bardo el_bardo 8395200 May  4 14:21 \u001b[01;32mSZ_Lyn-0146_R.fit\u001b[0m*\r\n",
      "-rwxrwxrwx 1 el_bardo el_bardo 8395200 May  4 14:21 \u001b[01;32mSZ_Lyn-0146_V.fit\u001b[0m*\r\n",
      "-rwxrwxrwx 1 el_bardo el_bardo 8395200 May  4 14:21 \u001b[01;32mSZ_Lyn-0146_luminance.fit\u001b[0m*\r\n",
      "-rwxrwxrwx 1 el_bardo el_bardo 8395200 May  4 14:21 \u001b[01;32mSZ_Lyn-0147_B.fit\u001b[0m*\r\n",
      "-rwxrwxrwx 1 el_bardo el_bardo 8395200 May  4 14:21 \u001b[01;32mSZ_Lyn-0147_R.fit\u001b[0m*\r\n",
      "-rwxrwxrwx 1 el_bardo el_bardo 8395200 May  4 14:21 \u001b[01;32mSZ_Lyn-0147_V.fit\u001b[0m*\r\n",
      "-rwxrwxrwx 1 el_bardo el_bardo 8395200 May  4 14:21 \u001b[01;32mSZ_Lyn-0147_luminance.fit\u001b[0m*\r\n",
      "-rwxrwxrwx 1 el_bardo el_bardo 8395200 May  4 14:21 \u001b[01;32mSZ_Lyn-0148_B.fit\u001b[0m*\r\n",
      "-rwxrwxrwx 1 el_bardo el_bardo 8395200 May  4 14:21 \u001b[01;32mSZ_Lyn-0148_R.fit\u001b[0m*\r\n",
      "-rwxrwxrwx 1 el_bardo el_bardo 8395200 May  4 14:21 \u001b[01;32mSZ_Lyn-0148_V.fit\u001b[0m*\r\n",
      "-rwxrwxrwx 1 el_bardo el_bardo 8395200 May  4 14:21 \u001b[01;32mSZ_Lyn-0148_luminance.fit\u001b[0m*\r\n",
      "-rwxrwxrwx 1 el_bardo el_bardo 8395200 May  4 14:21 \u001b[01;32mSZ_Lyn-0149_B.fit\u001b[0m*\r\n",
      "-rwxrwxrwx 1 el_bardo el_bardo 8395200 May  4 14:21 \u001b[01;32mSZ_Lyn-0149_R.fit\u001b[0m*\r\n",
      "-rwxrwxrwx 1 el_bardo el_bardo 8395200 May  4 14:21 \u001b[01;32mSZ_Lyn-0149_V.fit\u001b[0m*\r\n",
      "-rwxrwxrwx 1 el_bardo el_bardo 8395200 May  4 14:21 \u001b[01;32mSZ_Lyn-0149_luminance.fit\u001b[0m*\r\n",
      "-rwxrwxrwx 1 el_bardo el_bardo 8395200 May  4 14:19 \u001b[01;32mSZ_Lyn-0150_B.fit\u001b[0m*\r\n",
      "-rwxrwxrwx 1 el_bardo el_bardo 8395200 May  4 14:19 \u001b[01;32mSZ_Lyn-0150_R.fit\u001b[0m*\r\n",
      "-rwxrwxrwx 1 el_bardo el_bardo 8395200 May  4 14:19 \u001b[01;32mSZ_Lyn-0150_V.fit\u001b[0m*\r\n",
      "-rwxrwxrwx 1 el_bardo el_bardo 8395200 May  4 14:21 \u001b[01;32mSZ_Lyn-0150_luminance.fit\u001b[0m*\r\n",
      "-rwxrwxrwx 1 el_bardo el_bardo 8395200 May  4 14:19 \u001b[01;32mSZ_Lyn-0151_B.fit\u001b[0m*\r\n",
      "-rwxrwxrwx 1 el_bardo el_bardo 8395200 May  4 14:19 \u001b[01;32mSZ_Lyn-0151_R.fit\u001b[0m*\r\n",
      "-rwxrwxrwx 1 el_bardo el_bardo 8395200 May  4 14:19 \u001b[01;32mSZ_Lyn-0151_V.fit\u001b[0m*\r\n",
      "-rwxrwxrwx 1 el_bardo el_bardo 8395200 May  4 14:19 \u001b[01;32mSZ_Lyn-0151_luminance.fit\u001b[0m*\r\n",
      "-rwxrwxrwx 1 el_bardo el_bardo 8395200 May  4 14:19 \u001b[01;32mSZ_Lyn-0152_B.fit\u001b[0m*\r\n",
      "-rwxrwxrwx 1 el_bardo el_bardo 8395200 May  4 14:19 \u001b[01;32mSZ_Lyn-0152_R.fit\u001b[0m*\r\n",
      "-rwxrwxrwx 1 el_bardo el_bardo 8395200 May  4 14:19 \u001b[01;32mSZ_Lyn-0152_V.fit\u001b[0m*\r\n",
      "-rwxrwxrwx 1 el_bardo el_bardo 8395200 May  4 14:19 \u001b[01;32mSZ_Lyn-0152_luminance.fit\u001b[0m*\r\n",
      "-rwxrwxrwx 1 el_bardo el_bardo 8395200 May  4 14:19 \u001b[01;32mSZ_Lyn-0153_B.fit\u001b[0m*\r\n",
      "-rwxrwxrwx 1 el_bardo el_bardo 8395200 May  4 14:19 \u001b[01;32mSZ_Lyn-0153_R.fit\u001b[0m*\r\n",
      "-rwxrwxrwx 1 el_bardo el_bardo 8395200 May  4 14:19 \u001b[01;32mSZ_Lyn-0153_V.fit\u001b[0m*\r\n",
      "-rwxrwxrwx 1 el_bardo el_bardo 8395200 May  4 14:19 \u001b[01;32mSZ_Lyn-0153_luminance.fit\u001b[0m*\r\n",
      "-rwxrwxrwx 1 el_bardo el_bardo 8395200 May  4 14:19 \u001b[01;32mSZ_Lyn-0154_B.fit\u001b[0m*\r\n",
      "-rwxrwxrwx 1 el_bardo el_bardo 8395200 May  4 14:21 \u001b[01;32mSZ_Lyn-0154_R.fit\u001b[0m*\r\n",
      "-rwxrwxrwx 1 el_bardo el_bardo 8395200 May  4 14:19 \u001b[01;32mSZ_Lyn-0154_V.fit\u001b[0m*\r\n",
      "-rwxrwxrwx 1 el_bardo el_bardo 8395200 May  4 14:19 \u001b[01;32mSZ_Lyn-0154_luminance.fit\u001b[0m*\r\n",
      "-rwxrwxrwx 1 el_bardo el_bardo 8395200 May  4 14:19 \u001b[01;32mSZ_Lyn-0155_B.fit\u001b[0m*\r\n",
      "-rwxrwxrwx 1 el_bardo el_bardo 8395200 May  4 14:19 \u001b[01;32mSZ_Lyn-0155_R.fit\u001b[0m*\r\n",
      "-rwxrwxrwx 1 el_bardo el_bardo 8395200 May  4 14:19 \u001b[01;32mSZ_Lyn-0155_V.fit\u001b[0m*\r\n",
      "-rwxrwxrwx 1 el_bardo el_bardo 8395200 May  4 14:21 \u001b[01;32mSZ_Lyn-0155_luminance.fit\u001b[0m*\r\n",
      "-rwxrwxrwx 1 el_bardo el_bardo 8395200 May  4 14:19 \u001b[01;32mSZ_Lyn-0156_B.fit\u001b[0m*\r\n",
      "-rwxrwxrwx 1 el_bardo el_bardo 8395200 May  4 14:21 \u001b[01;32mSZ_Lyn-0156_R.fit\u001b[0m*\r\n",
      "-rwxrwxrwx 1 el_bardo el_bardo 8395200 May  4 14:21 \u001b[01;32mSZ_Lyn-0156_V.fit\u001b[0m*\r\n",
      "-rwxrwxrwx 1 el_bardo el_bardo 8395200 May  4 14:21 \u001b[01;32mSZ_Lyn-0156_luminance.fit\u001b[0m*\r\n",
      "-rwxrwxrwx 1 el_bardo el_bardo 8395200 May  4 14:21 \u001b[01;32mSZ_Lyn-0157_B.fit\u001b[0m*\r\n",
      "-rwxrwxrwx 1 el_bardo el_bardo 8395200 May  4 14:21 \u001b[01;32mSZ_Lyn-0157_R.fit\u001b[0m*\r\n",
      "-rwxrwxrwx 1 el_bardo el_bardo 8395200 May  4 14:21 \u001b[01;32mSZ_Lyn-0157_V.fit\u001b[0m*\r\n",
      "-rwxrwxrwx 1 el_bardo el_bardo 8395200 May  4 14:21 \u001b[01;32mSZ_Lyn-0157_luminance.fit\u001b[0m*\r\n",
      "-rwxrwxrwx 1 el_bardo el_bardo 8395200 May  4 14:21 \u001b[01;32mSZ_Lyn-0158_B.fit\u001b[0m*\r\n",
      "-rwxrwxrwx 1 el_bardo el_bardo 8395200 May  4 14:21 \u001b[01;32mSZ_Lyn-0158_R.fit\u001b[0m*\r\n",
      "-rwxrwxrwx 1 el_bardo el_bardo 8395200 May  4 14:21 \u001b[01;32mSZ_Lyn-0158_V.fit\u001b[0m*\r\n",
      "-rwxrwxrwx 1 el_bardo el_bardo 8395200 May  4 14:21 \u001b[01;32mSZ_Lyn-0158_luminance.fit\u001b[0m*\r\n",
      "-rwxrwxrwx 1 el_bardo el_bardo 8395200 May  4 14:21 \u001b[01;32mSZ_Lyn-0159_B.fit\u001b[0m*\r\n",
      "-rwxrwxrwx 1 el_bardo el_bardo 8395200 May  4 14:21 \u001b[01;32mSZ_Lyn-0159_R.fit\u001b[0m*\r\n",
      "-rwxrwxrwx 1 el_bardo el_bardo 8395200 May  4 14:21 \u001b[01;32mSZ_Lyn-0159_V.fit\u001b[0m*\r\n",
      "-rwxrwxrwx 1 el_bardo el_bardo 8395200 May  4 14:21 \u001b[01;32mSZ_Lyn-0159_luminance.fit\u001b[0m*\r\n",
      "-rwxrwxrwx 1 el_bardo el_bardo 8395200 May  4 14:21 \u001b[01;32mSZ_Lyn-0160_B.fit\u001b[0m*\r\n",
      "-rwxrwxrwx 1 el_bardo el_bardo 8395200 May  4 14:21 \u001b[01;32mSZ_Lyn-0160_R.fit\u001b[0m*\r\n",
      "-rwxrwxrwx 1 el_bardo el_bardo 8395200 May  4 14:21 \u001b[01;32mSZ_Lyn-0160_V.fit\u001b[0m*\r\n",
      "-rwxrwxrwx 1 el_bardo el_bardo 8395200 May  4 14:21 \u001b[01;32mSZ_Lyn-0160_luminance.fit\u001b[0m*\r\n",
      "-rwxrwxrwx 1 el_bardo el_bardo 8395200 May  4 14:21 \u001b[01;32mSZ_Lyn-0161_B.fit\u001b[0m*\r\n",
      "-rwxrwxrwx 1 el_bardo el_bardo 8395200 May  4 14:21 \u001b[01;32mSZ_Lyn-0161_R.fit\u001b[0m*\r\n",
      "-rwxrwxrwx 1 el_bardo el_bardo 8395200 May  4 14:21 \u001b[01;32mSZ_Lyn-0161_V.fit\u001b[0m*\r\n",
      "-rwxrwxrwx 1 el_bardo el_bardo 8395200 May  4 14:21 \u001b[01;32mSZ_Lyn-0161_luminance.fit\u001b[0m*\r\n",
      "-rwxrwxrwx 1 el_bardo el_bardo 8395200 May  4 14:21 \u001b[01;32mSZ_Lyn-0162_B.fit\u001b[0m*\r\n",
      "-rwxrwxrwx 1 el_bardo el_bardo 8395200 May  4 14:21 \u001b[01;32mSZ_Lyn-0162_R.fit\u001b[0m*\r\n",
      "-rwxrwxrwx 1 el_bardo el_bardo 8395200 May  4 14:21 \u001b[01;32mSZ_Lyn-0162_V.fit\u001b[0m*\r\n",
      "-rwxrwxrwx 1 el_bardo el_bardo 8395200 May  4 14:21 \u001b[01;32mSZ_Lyn-0162_luminance.fit\u001b[0m*\r\n",
      "-rwxrwxrwx 1 el_bardo el_bardo 8395200 May  4 14:21 \u001b[01;32mSZ_Lyn-0163_B.fit\u001b[0m*\r\n",
      "-rwxrwxrwx 1 el_bardo el_bardo 8395200 May  4 14:21 \u001b[01;32mSZ_Lyn-0163_R.fit\u001b[0m*\r\n",
      "-rwxrwxrwx 1 el_bardo el_bardo 8395200 May  4 14:21 \u001b[01;32mSZ_Lyn-0163_V.fit\u001b[0m*\r\n",
      "-rwxrwxrwx 1 el_bardo el_bardo 8395200 May  4 14:21 \u001b[01;32mSZ_Lyn-0163_luminance.fit\u001b[0m*\r\n",
      "-rwxrwxrwx 1 el_bardo el_bardo 8395200 May  4 14:21 \u001b[01;32mSZ_Lyn-0164_B.fit\u001b[0m*\r\n",
      "-rwxrwxrwx 1 el_bardo el_bardo 8395200 May  4 14:21 \u001b[01;32mSZ_Lyn-0164_R.fit\u001b[0m*\r\n",
      "-rwxrwxrwx 1 el_bardo el_bardo 8395200 May  4 14:21 \u001b[01;32mSZ_Lyn-0164_V.fit\u001b[0m*\r\n",
      "-rwxrwxrwx 1 el_bardo el_bardo 8395200 May  4 14:21 \u001b[01;32mSZ_Lyn-0164_luminance.fit\u001b[0m*\r\n",
      "-rwxrwxrwx 1 el_bardo el_bardo 8395200 May  4 14:21 \u001b[01;32mSZ_Lyn-0165_B.fit\u001b[0m*\r\n",
      "-rwxrwxrwx 1 el_bardo el_bardo 8395200 May  4 14:21 \u001b[01;32mSZ_Lyn-0165_R.fit\u001b[0m*\r\n",
      "-rwxrwxrwx 1 el_bardo el_bardo 8395200 May  4 14:21 \u001b[01;32mSZ_Lyn-0165_V.fit\u001b[0m*\r\n",
      "-rwxrwxrwx 1 el_bardo el_bardo 8395200 May  4 14:21 \u001b[01;32mSZ_Lyn-0165_luminance.fit\u001b[0m*\r\n",
      "-rwxrwxrwx 1 el_bardo el_bardo 8395200 May  4 14:21 \u001b[01;32mSZ_Lyn-0166_B.fit\u001b[0m*\r\n",
      "-rwxrwxrwx 1 el_bardo el_bardo 8395200 May  4 14:21 \u001b[01;32mSZ_Lyn-0166_R.fit\u001b[0m*\r\n",
      "-rwxrwxrwx 1 el_bardo el_bardo 8395200 May  4 14:21 \u001b[01;32mSZ_Lyn-0166_V.fit\u001b[0m*\r\n",
      "-rwxrwxrwx 1 el_bardo el_bardo 8395200 May  4 14:21 \u001b[01;32mSZ_Lyn-0166_luminance.fit\u001b[0m*\r\n",
      "-rwxrwxrwx 1 el_bardo el_bardo 8395200 May  4 14:21 \u001b[01;32mSZ_Lyn-0167_B.fit\u001b[0m*\r\n",
      "-rwxrwxrwx 1 el_bardo el_bardo 8395200 May  4 14:21 \u001b[01;32mSZ_Lyn-0167_R.fit\u001b[0m*\r\n",
      "-rwxrwxrwx 1 el_bardo el_bardo 8395200 May  4 14:21 \u001b[01;32mSZ_Lyn-0167_V.fit\u001b[0m*\r\n",
      "-rwxrwxrwx 1 el_bardo el_bardo 8395200 May  4 14:21 \u001b[01;32mSZ_Lyn-0167_luminance.fit\u001b[0m*\r\n",
      "-rwxrwxrwx 1 el_bardo el_bardo 8395200 May  4 14:21 \u001b[01;32mSZ_Lyn-0168_B.fit\u001b[0m*\r\n",
      "-rwxrwxrwx 1 el_bardo el_bardo 8395200 May  4 14:21 \u001b[01;32mSZ_Lyn-0168_R.fit\u001b[0m*\r\n",
      "-rwxrwxrwx 1 el_bardo el_bardo 8395200 May  4 14:21 \u001b[01;32mSZ_Lyn-0168_V.fit\u001b[0m*\r\n",
      "-rwxrwxrwx 1 el_bardo el_bardo 8395200 May  4 14:21 \u001b[01;32mSZ_Lyn-0168_luminance.fit\u001b[0m*\r\n",
      "-rwxrwxrwx 1 el_bardo el_bardo 8395200 May  4 14:21 \u001b[01;32mSZ_Lyn-0169_B.fit\u001b[0m*\r\n",
      "-rwxrwxrwx 1 el_bardo el_bardo 8395200 May  4 14:21 \u001b[01;32mSZ_Lyn-0169_R.fit\u001b[0m*\r\n",
      "-rwxrwxrwx 1 el_bardo el_bardo 8395200 May  4 14:21 \u001b[01;32mSZ_Lyn-0169_V.fit\u001b[0m*\r\n",
      "-rwxrwxrwx 1 el_bardo el_bardo 8395200 May  4 14:21 \u001b[01;32mSZ_Lyn-0169_luminance.fit\u001b[0m*\r\n",
      "-rwxrwxrwx 1 el_bardo el_bardo 8395200 May  4 14:21 \u001b[01;32mSZ_Lyn-0170_B.fit\u001b[0m*\r\n",
      "-rwxrwxrwx 1 el_bardo el_bardo 8395200 May  4 14:21 \u001b[01;32mSZ_Lyn-0170_R.fit\u001b[0m*\r\n",
      "-rwxrwxrwx 1 el_bardo el_bardo 8395200 May  4 14:21 \u001b[01;32mSZ_Lyn-0170_V.fit\u001b[0m*\r\n",
      "-rwxrwxrwx 1 el_bardo el_bardo 8395200 May  4 14:21 \u001b[01;32mSZ_Lyn-0170_luminance.fit\u001b[0m*\r\n",
      "-rwxrwxrwx 1 el_bardo el_bardo 8395200 May  4 14:21 \u001b[01;32mSZ_Lyn-0171_B.fit\u001b[0m*\r\n",
      "-rwxrwxrwx 1 el_bardo el_bardo 8395200 May  4 14:21 \u001b[01;32mSZ_Lyn-0171_R.fit\u001b[0m*\r\n",
      "-rwxrwxrwx 1 el_bardo el_bardo 8395200 May  4 14:21 \u001b[01;32mSZ_Lyn-0171_V.fit\u001b[0m*\r\n",
      "-rwxrwxrwx 1 el_bardo el_bardo 8395200 May  4 14:21 \u001b[01;32mSZ_Lyn-0171_luminance.fit\u001b[0m*\r\n",
      "-rwxrwxrwx 1 el_bardo el_bardo 8395200 May  4 14:21 \u001b[01;32mSZ_Lyn-0172_B.fit\u001b[0m*\r\n",
      "-rwxrwxrwx 1 el_bardo el_bardo 8395200 May  4 14:21 \u001b[01;32mSZ_Lyn-0172_R.fit\u001b[0m*\r\n",
      "-rwxrwxrwx 1 el_bardo el_bardo 8395200 May  4 14:21 \u001b[01;32mSZ_Lyn-0172_V.fit\u001b[0m*\r\n",
      "-rwxrwxrwx 1 el_bardo el_bardo 8395200 May  4 14:21 \u001b[01;32mSZ_Lyn-0172_luminance.fit\u001b[0m*\r\n",
      "-rwxrwxrwx 1 el_bardo el_bardo 8395200 May  4 14:21 \u001b[01;32mSZ_Lyn-0173_B.fit\u001b[0m*\r\n",
      "-rwxrwxrwx 1 el_bardo el_bardo 8395200 May  4 14:21 \u001b[01;32mSZ_Lyn-0173_R.fit\u001b[0m*\r\n",
      "-rwxrwxrwx 1 el_bardo el_bardo 8395200 May  4 14:21 \u001b[01;32mSZ_Lyn-0173_V.fit\u001b[0m*\r\n",
      "-rwxrwxrwx 1 el_bardo el_bardo 8395200 May  4 14:21 \u001b[01;32mSZ_Lyn-0173_luminance.fit\u001b[0m*\r\n",
      "-rwxrwxrwx 1 el_bardo el_bardo 8395200 May  4 14:21 \u001b[01;32mSZ_Lyn-0174_B.fit\u001b[0m*\r\n",
      "-rwxrwxrwx 1 el_bardo el_bardo 8395200 May  4 14:21 \u001b[01;32mSZ_Lyn-0174_R.fit\u001b[0m*\r\n",
      "-rwxrwxrwx 1 el_bardo el_bardo 8395200 May  4 14:21 \u001b[01;32mSZ_Lyn-0174_V.fit\u001b[0m*\r\n",
      "-rwxrwxrwx 1 el_bardo el_bardo 8395200 May  4 14:21 \u001b[01;32mSZ_Lyn-0174_luminance.fit\u001b[0m*\r\n",
      "-rwxrwxrwx 1 el_bardo el_bardo 8395200 May  4 14:21 \u001b[01;32mSZ_Lyn-0175_B.fit\u001b[0m*\r\n",
      "-rwxrwxrwx 1 el_bardo el_bardo 8395200 May  4 14:21 \u001b[01;32mSZ_Lyn-0175_R.fit\u001b[0m*\r\n",
      "-rwxrwxrwx 1 el_bardo el_bardo 8395200 May  4 14:20 \u001b[01;32mSZ_Lyn-0175_V.fit\u001b[0m*\r\n",
      "-rwxrwxrwx 1 el_bardo el_bardo 8395200 May  4 14:21 \u001b[01;32mSZ_Lyn-0175_luminance.fit\u001b[0m*\r\n",
      "-rwxrwxrwx 1 el_bardo el_bardo 8395200 May  4 14:20 \u001b[01;32mSZ_Lyn-0176_B.fit\u001b[0m*\r\n",
      "-rwxrwxrwx 1 el_bardo el_bardo 8395200 May  4 14:20 \u001b[01;32mSZ_Lyn-0176_R.fit\u001b[0m*\r\n",
      "-rwxrwxrwx 1 el_bardo el_bardo 8395200 May  4 14:21 \u001b[01;32mSZ_Lyn-0176_V.fit\u001b[0m*\r\n",
      "-rwxrwxrwx 1 el_bardo el_bardo 8395200 May  4 14:21 \u001b[01;32mSZ_Lyn-0176_luminance.fit\u001b[0m*\r\n",
      "-rwxrwxrwx 1 el_bardo el_bardo 8395200 May  4 14:21 \u001b[01;32mSZ_Lyn-0177_B.fit\u001b[0m*\r\n",
      "-rwxrwxrwx 1 el_bardo el_bardo 8395200 May  4 14:21 \u001b[01;32mSZ_Lyn-0177_R.fit\u001b[0m*\r\n",
      "-rwxrwxrwx 1 el_bardo el_bardo 8395200 May  4 14:21 \u001b[01;32mSZ_Lyn-0177_V.fit\u001b[0m*\r\n",
      "-rwxrwxrwx 1 el_bardo el_bardo 8395200 May  4 14:21 \u001b[01;32mSZ_Lyn-0177_luminance.fit\u001b[0m*\r\n",
      "-rwxrwxrwx 1 el_bardo el_bardo 8395200 May  4 14:21 \u001b[01;32mSZ_Lyn-0178_B.fit\u001b[0m*\r\n",
      "-rwxrwxrwx 1 el_bardo el_bardo 8395200 May  4 14:21 \u001b[01;32mSZ_Lyn-0178_R.fit\u001b[0m*\r\n",
      "-rwxrwxrwx 1 el_bardo el_bardo 8395200 May  4 14:21 \u001b[01;32mSZ_Lyn-0178_V.fit\u001b[0m*\r\n",
      "-rwxrwxrwx 1 el_bardo el_bardo 8395200 May  4 14:21 \u001b[01;32mSZ_Lyn-0178_luminance.fit\u001b[0m*\r\n",
      "-rwxrwxrwx 1 el_bardo el_bardo 8395200 May  4 14:21 \u001b[01;32mSZ_Lyn-0179_B.fit\u001b[0m*\r\n",
      "-rwxrwxrwx 1 el_bardo el_bardo 8395200 May  4 14:21 \u001b[01;32mSZ_Lyn-0179_R.fit\u001b[0m*\r\n",
      "-rwxrwxrwx 1 el_bardo el_bardo 8395200 May  4 14:21 \u001b[01;32mSZ_Lyn-0179_V.fit\u001b[0m*\r\n",
      "-rwxrwxrwx 1 el_bardo el_bardo 8395200 May  4 14:21 \u001b[01;32mSZ_Lyn-0179_luminance.fit\u001b[0m*\r\n",
      "-rwxrwxrwx 1 el_bardo el_bardo 8395200 May  4 14:21 \u001b[01;32mSZ_Lyn-0180_B.fit\u001b[0m*\r\n",
      "-rwxrwxrwx 1 el_bardo el_bardo 8395200 May  4 14:21 \u001b[01;32mSZ_Lyn-0180_R.fit\u001b[0m*\r\n",
      "-rwxrwxrwx 1 el_bardo el_bardo 8395200 May  4 14:21 \u001b[01;32mSZ_Lyn-0180_V.fit\u001b[0m*\r\n",
      "-rwxrwxrwx 1 el_bardo el_bardo 8395200 May  4 14:21 \u001b[01;32mSZ_Lyn-0180_luminance.fit\u001b[0m*\r\n",
      "-rwxrwxrwx 1 el_bardo el_bardo 8395200 May  4 14:21 \u001b[01;32mSZ_Lyn-0181_B.fit\u001b[0m*\r\n",
      "-rwxrwxrwx 1 el_bardo el_bardo 8395200 May  4 14:21 \u001b[01;32mSZ_Lyn-0181_R.fit\u001b[0m*\r\n",
      "-rwxrwxrwx 1 el_bardo el_bardo 8395200 May  4 14:21 \u001b[01;32mSZ_Lyn-0181_V.fit\u001b[0m*\r\n",
      "-rwxrwxrwx 1 el_bardo el_bardo 8395200 May  4 14:21 \u001b[01;32mSZ_Lyn-0181_luminance.fit\u001b[0m*\r\n",
      "-rwxrwxrwx 1 el_bardo el_bardo 8395200 May  4 14:21 \u001b[01;32mSZ_Lyn-0182_B.fit\u001b[0m*\r\n",
      "-rwxrwxrwx 1 el_bardo el_bardo 8395200 May  4 14:21 \u001b[01;32mSZ_Lyn-0182_R.fit\u001b[0m*\r\n",
      "-rwxrwxrwx 1 el_bardo el_bardo 8395200 May  4 14:21 \u001b[01;32mSZ_Lyn-0182_V.fit\u001b[0m*\r\n",
      "-rwxrwxrwx 1 el_bardo el_bardo 8395200 May  4 14:21 \u001b[01;32mSZ_Lyn-0182_luminance.fit\u001b[0m*\r\n",
      "-rwxrwxrwx 1 el_bardo el_bardo 8395200 May  4 14:21 \u001b[01;32mSZ_Lyn-0183_B.fit\u001b[0m*\r\n",
      "-rwxrwxrwx 1 el_bardo el_bardo 8395200 May  4 14:21 \u001b[01;32mSZ_Lyn-0183_R.fit\u001b[0m*\r\n",
      "-rwxrwxrwx 1 el_bardo el_bardo 8395200 May  4 14:21 \u001b[01;32mSZ_Lyn-0183_V.fit\u001b[0m*\r\n",
      "-rwxrwxrwx 1 el_bardo el_bardo 8395200 May  4 14:21 \u001b[01;32mSZ_Lyn-0183_luminance.fit\u001b[0m*\r\n",
      "-rwxrwxrwx 1 el_bardo el_bardo 8395200 May  4 14:21 \u001b[01;32mSZ_Lyn-0184_B.fit\u001b[0m*\r\n",
      "-rwxrwxrwx 1 el_bardo el_bardo 8395200 May  4 14:21 \u001b[01;32mSZ_Lyn-0184_R.fit\u001b[0m*\r\n",
      "-rwxrwxrwx 1 el_bardo el_bardo 8395200 May  4 14:21 \u001b[01;32mSZ_Lyn-0184_V.fit\u001b[0m*\r\n",
      "-rwxrwxrwx 1 el_bardo el_bardo 8395200 May  4 14:21 \u001b[01;32mSZ_Lyn-0184_luminance.fit\u001b[0m*\r\n",
      "-rwxrwxrwx 1 el_bardo el_bardo 8395200 May  4 14:21 \u001b[01;32mSZ_Lyn-0185_B.fit\u001b[0m*\r\n",
      "-rwxrwxrwx 1 el_bardo el_bardo 8395200 May  4 14:21 \u001b[01;32mSZ_Lyn-0185_R.fit\u001b[0m*\r\n",
      "-rwxrwxrwx 1 el_bardo el_bardo 8395200 May  4 14:21 \u001b[01;32mSZ_Lyn-0185_V.fit\u001b[0m*\r\n",
      "-rwxrwxrwx 1 el_bardo el_bardo 8395200 May  4 14:21 \u001b[01;32mSZ_Lyn-0185_luminance.fit\u001b[0m*\r\n",
      "-rwxrwxrwx 1 el_bardo el_bardo 8395200 May  4 14:21 \u001b[01;32mSZ_Lyn-0186_B.fit\u001b[0m*\r\n",
      "-rwxrwxrwx 1 el_bardo el_bardo 8395200 May  4 14:21 \u001b[01;32mSZ_Lyn-0186_R.fit\u001b[0m*\r\n",
      "-rwxrwxrwx 1 el_bardo el_bardo 8395200 May  4 14:21 \u001b[01;32mSZ_Lyn-0186_V.fit\u001b[0m*\r\n",
      "-rwxrwxrwx 1 el_bardo el_bardo 8395200 May  4 14:21 \u001b[01;32mSZ_Lyn-0186_luminance.fit\u001b[0m*\r\n",
      "-rwxrwxrwx 1 el_bardo el_bardo 8395200 May  4 14:21 \u001b[01;32mSZ_Lyn-0187_B.fit\u001b[0m*\r\n",
      "-rwxrwxrwx 1 el_bardo el_bardo 8395200 May  4 14:21 \u001b[01;32mSZ_Lyn-0187_R.fit\u001b[0m*\r\n",
      "-rwxrwxrwx 1 el_bardo el_bardo 8395200 May  4 14:21 \u001b[01;32mSZ_Lyn-0187_V.fit\u001b[0m*\r\n",
      "-rwxrwxrwx 1 el_bardo el_bardo 8395200 May  4 14:21 \u001b[01;32mSZ_Lyn-0187_luminance.fit\u001b[0m*\r\n",
      "-rwxrwxrwx 1 el_bardo el_bardo 8395200 May  4 14:21 \u001b[01;32mSZ_Lyn-0188_B.fit\u001b[0m*\r\n",
      "-rwxrwxrwx 1 el_bardo el_bardo 8395200 May  4 14:21 \u001b[01;32mSZ_Lyn-0188_R.fit\u001b[0m*\r\n",
      "-rwxrwxrwx 1 el_bardo el_bardo 8395200 May  4 14:21 \u001b[01;32mSZ_Lyn-0188_V.fit\u001b[0m*\r\n",
      "-rwxrwxrwx 1 el_bardo el_bardo 8395200 May  4 14:21 \u001b[01;32mSZ_Lyn-0188_luminance.fit\u001b[0m*\r\n",
      "-rwxrwxrwx 1 el_bardo el_bardo 8395200 May  4 14:21 \u001b[01;32mSZ_Lyn-0189_B.fit\u001b[0m*\r\n",
      "-rwxrwxrwx 1 el_bardo el_bardo 8395200 May  4 14:21 \u001b[01;32mSZ_Lyn-0189_R.fit\u001b[0m*\r\n",
      "-rwxrwxrwx 1 el_bardo el_bardo 8395200 May  4 14:21 \u001b[01;32mSZ_Lyn-0189_V.fit\u001b[0m*\r\n",
      "-rwxrwxrwx 1 el_bardo el_bardo 8395200 May  4 14:21 \u001b[01;32mSZ_Lyn-0189_luminance.fit\u001b[0m*\r\n",
      "-rwxrwxrwx 1 el_bardo el_bardo 8395200 May  4 14:21 \u001b[01;32mSZ_Lyn-0190_B.fit\u001b[0m*\r\n",
      "-rwxrwxrwx 1 el_bardo el_bardo 8395200 May  4 14:21 \u001b[01;32mSZ_Lyn-0190_R.fit\u001b[0m*\r\n",
      "-rwxrwxrwx 1 el_bardo el_bardo 8395200 May  4 14:21 \u001b[01;32mSZ_Lyn-0190_V.fit\u001b[0m*\r\n",
      "-rwxrwxrwx 1 el_bardo el_bardo 8395200 May  4 14:21 \u001b[01;32mSZ_Lyn-0190_luminance.fit\u001b[0m*\r\n",
      "-rwxrwxrwx 1 el_bardo el_bardo 8395200 May  4 14:21 \u001b[01;32mSZ_Lyn-0191_B.fit\u001b[0m*\r\n",
      "-rwxrwxrwx 1 el_bardo el_bardo 8395200 May  4 14:21 \u001b[01;32mSZ_Lyn-0191_R.fit\u001b[0m*\r\n",
      "-rwxrwxrwx 1 el_bardo el_bardo 8395200 May  4 14:21 \u001b[01;32mSZ_Lyn-0191_V.fit\u001b[0m*\r\n",
      "-rwxrwxrwx 1 el_bardo el_bardo 8395200 May  4 14:21 \u001b[01;32mSZ_Lyn-0191_luminance.fit\u001b[0m*\r\n",
      "-rwxrwxrwx 1 el_bardo el_bardo 8395200 May  4 14:21 \u001b[01;32mSZ_Lyn-0192_B.fit\u001b[0m*\r\n",
      "-rwxrwxrwx 1 el_bardo el_bardo 8395200 May  4 14:21 \u001b[01;32mSZ_Lyn-0192_R.fit\u001b[0m*\r\n",
      "-rwxrwxrwx 1 el_bardo el_bardo 8395200 May  4 14:21 \u001b[01;32mSZ_Lyn-0192_V.fit\u001b[0m*\r\n",
      "-rwxrwxrwx 1 el_bardo el_bardo 8395200 May  4 14:21 \u001b[01;32mSZ_Lyn-0192_luminance.fit\u001b[0m*\r\n",
      "-rwxrwxrwx 1 el_bardo el_bardo 8395200 May  4 14:21 \u001b[01;32mSZ_Lyn-0193_B.fit\u001b[0m*\r\n",
      "-rwxrwxrwx 1 el_bardo el_bardo 8395200 May  4 14:21 \u001b[01;32mSZ_Lyn-0193_R.fit\u001b[0m*\r\n",
      "-rwxrwxrwx 1 el_bardo el_bardo 8395200 May  4 14:21 \u001b[01;32mSZ_Lyn-0193_V.fit\u001b[0m*\r\n",
      "-rwxrwxrwx 1 el_bardo el_bardo 8395200 May  4 14:21 \u001b[01;32mSZ_Lyn-0193_luminance.fit\u001b[0m*\r\n",
      "-rwxrwxrwx 1 el_bardo el_bardo 8395200 May  4 14:21 \u001b[01;32mSZ_Lyn-0194_B.fit\u001b[0m*\r\n",
      "-rwxrwxrwx 1 el_bardo el_bardo 8395200 May  4 14:21 \u001b[01;32mSZ_Lyn-0194_R.fit\u001b[0m*\r\n",
      "-rwxrwxrwx 1 el_bardo el_bardo 8395200 May  4 14:21 \u001b[01;32mSZ_Lyn-0194_V.fit\u001b[0m*\r\n",
      "-rwxrwxrwx 1 el_bardo el_bardo 8395200 May  4 14:21 \u001b[01;32mSZ_Lyn-0194_luminance.fit\u001b[0m*\r\n",
      "-rwxrwxrwx 1 el_bardo el_bardo 8395200 May  4 14:21 \u001b[01;32mSZ_Lyn-0195_B.fit\u001b[0m*\r\n",
      "-rwxrwxrwx 1 el_bardo el_bardo 8395200 May  4 14:21 \u001b[01;32mSZ_Lyn-0195_R.fit\u001b[0m*\r\n",
      "-rwxrwxrwx 1 el_bardo el_bardo 8395200 May  4 14:21 \u001b[01;32mSZ_Lyn-0195_V.fit\u001b[0m*\r\n",
      "-rwxrwxrwx 1 el_bardo el_bardo 8395200 May  4 14:21 \u001b[01;32mSZ_Lyn-0195_luminance.fit\u001b[0m*\r\n",
      "-rwxrwxrwx 1 el_bardo el_bardo 8395200 May  4 14:21 \u001b[01;32mSZ_Lyn-0196_B.fit\u001b[0m*\r\n",
      "-rwxrwxrwx 1 el_bardo el_bardo 8395200 May  4 14:21 \u001b[01;32mSZ_Lyn-0196_R.fit\u001b[0m*\r\n",
      "-rwxrwxrwx 1 el_bardo el_bardo 8395200 May  4 14:21 \u001b[01;32mSZ_Lyn-0196_V.fit\u001b[0m*\r\n",
      "-rwxrwxrwx 1 el_bardo el_bardo 8395200 May  4 14:19 \u001b[01;32mSZ_Lyn-0196_luminance.fit\u001b[0m*\r\n",
      "-rwxrwxrwx 1 el_bardo el_bardo 8395200 May  4 14:21 \u001b[01;32mSZ_Lyn-0197_B.fit\u001b[0m*\r\n",
      "-rwxrwxrwx 1 el_bardo el_bardo 8395200 May  4 14:21 \u001b[01;32mSZ_Lyn-0197_R.fit\u001b[0m*\r\n",
      "-rwxrwxrwx 1 el_bardo el_bardo 8395200 May  4 14:21 \u001b[01;32mSZ_Lyn-0197_V.fit\u001b[0m*\r\n",
      "-rwxrwxrwx 1 el_bardo el_bardo 8395200 May  4 14:21 \u001b[01;32mSZ_Lyn-0197_luminance.fit\u001b[0m*\r\n",
      "-rwxrwxrwx 1 el_bardo el_bardo 8395200 May  4 14:21 \u001b[01;32mSZ_Lyn-0198_B.fit\u001b[0m*\r\n",
      "-rwxrwxrwx 1 el_bardo el_bardo 8395200 May  4 14:21 \u001b[01;32mSZ_Lyn-0198_R.fit\u001b[0m*\r\n",
      "-rwxrwxrwx 1 el_bardo el_bardo 8395200 May  4 14:21 \u001b[01;32mSZ_Lyn-0198_V.fit\u001b[0m*\r\n",
      "-rwxrwxrwx 1 el_bardo el_bardo 8395200 May  4 14:21 \u001b[01;32mSZ_Lyn-0198_luminance.fit\u001b[0m*\r\n",
      "-rwxrwxrwx 1 el_bardo el_bardo 8395200 May  4 14:21 \u001b[01;32mSZ_Lyn-0199_B.fit\u001b[0m*\r\n",
      "-rwxrwxrwx 1 el_bardo el_bardo 8395200 May  4 14:21 \u001b[01;32mSZ_Lyn-0199_R.fit\u001b[0m*\r\n",
      "-rwxrwxrwx 1 el_bardo el_bardo 8395200 May  4 14:21 \u001b[01;32mSZ_Lyn-0199_V.fit\u001b[0m*\r\n",
      "-rwxrwxrwx 1 el_bardo el_bardo 8395200 May  4 14:21 \u001b[01;32mSZ_Lyn-0199_luminance.fit\u001b[0m*\r\n",
      "-rwxrwxrwx 1 el_bardo el_bardo 8395200 May  4 14:21 \u001b[01;32mSZ_Lyn-0200_B.fit\u001b[0m*\r\n",
      "-rwxrwxrwx 1 el_bardo el_bardo 8395200 May  4 14:21 \u001b[01;32mSZ_Lyn-0200_R.fit\u001b[0m*\r\n",
      "-rwxrwxrwx 1 el_bardo el_bardo 8395200 May  4 14:21 \u001b[01;32mSZ_Lyn-0200_V.fit\u001b[0m*\r\n",
      "-rwxrwxrwx 1 el_bardo el_bardo 8395200 May  4 14:21 \u001b[01;32mSZ_Lyn-0200_luminance.fit\u001b[0m*\r\n",
      "-rwxrwxrwx 1 el_bardo el_bardo 8395200 May  4 14:21 \u001b[01;32mSZ_Lyn-0201_B.fit\u001b[0m*\r\n",
      "-rwxrwxrwx 1 el_bardo el_bardo 8395200 May  4 14:21 \u001b[01;32mSZ_Lyn-0201_R.fit\u001b[0m*\r\n",
      "-rwxrwxrwx 1 el_bardo el_bardo 8395200 May  4 14:21 \u001b[01;32mSZ_Lyn-0201_V.fit\u001b[0m*\r\n",
      "-rwxrwxrwx 1 el_bardo el_bardo 8395200 May  4 14:21 \u001b[01;32mSZ_Lyn-0201_luminance.fit\u001b[0m*\r\n",
      "-rwxrwxrwx 1 el_bardo el_bardo 8395200 May  4 14:21 \u001b[01;32mSZ_Lyn-0202_B.fit\u001b[0m*\r\n",
      "-rwxrwxrwx 1 el_bardo el_bardo 8395200 May  4 14:21 \u001b[01;32mSZ_Lyn-0202_R.fit\u001b[0m*\r\n",
      "-rwxrwxrwx 1 el_bardo el_bardo 8395200 May  4 14:21 \u001b[01;32mSZ_Lyn-0202_V.fit\u001b[0m*\r\n",
      "-rwxrwxrwx 1 el_bardo el_bardo 8395200 May  4 14:21 \u001b[01;32mSZ_Lyn-0202_luminance.fit\u001b[0m*\r\n",
      "-rwxrwxrwx 1 el_bardo el_bardo 8395200 May  4 14:21 \u001b[01;32mSZ_Lyn-0203_B.fit\u001b[0m*\r\n",
      "-rwxrwxrwx 1 el_bardo el_bardo 8395200 May  4 14:21 \u001b[01;32mSZ_Lyn-0203_R.fit\u001b[0m*\r\n",
      "-rwxrwxrwx 1 el_bardo el_bardo 8395200 May  4 14:21 \u001b[01;32mSZ_Lyn-0203_V.fit\u001b[0m*\r\n",
      "-rwxrwxrwx 1 el_bardo el_bardo 8395200 May  4 14:21 \u001b[01;32mSZ_Lyn-0203_luminance.fit\u001b[0m*\r\n",
      "-rwxrwxrwx 1 el_bardo el_bardo 8395200 May  4 14:21 \u001b[01;32mSZ_Lyn-0204_B.fit\u001b[0m*\r\n",
      "-rwxrwxrwx 1 el_bardo el_bardo 8395200 May  4 14:21 \u001b[01;32mSZ_Lyn-0204_R.fit\u001b[0m*\r\n",
      "-rwxrwxrwx 1 el_bardo el_bardo 8395200 May  4 14:21 \u001b[01;32mSZ_Lyn-0204_V.fit\u001b[0m*\r\n",
      "-rwxrwxrwx 1 el_bardo el_bardo 8395200 May  4 14:21 \u001b[01;32mSZ_Lyn-0204_luminance.fit\u001b[0m*\r\n",
      "-rwxrwxrwx 1 el_bardo el_bardo 8395200 May  4 14:21 \u001b[01;32mSZ_Lyn-0205_B.fit\u001b[0m*\r\n",
      "-rwxrwxrwx 1 el_bardo el_bardo 8395200 May  4 14:21 \u001b[01;32mSZ_Lyn-0205_R.fit\u001b[0m*\r\n",
      "-rwxrwxrwx 1 el_bardo el_bardo 8395200 May  4 14:21 \u001b[01;32mSZ_Lyn-0205_V.fit\u001b[0m*\r\n",
      "-rwxrwxrwx 1 el_bardo el_bardo 8395200 May  4 14:21 \u001b[01;32mSZ_Lyn-0205_luminance.fit\u001b[0m*\r\n",
      "-rwxrwxrwx 1 el_bardo el_bardo 8395200 May  4 14:21 \u001b[01;32mSZ_Lyn-0206_B.fit\u001b[0m*\r\n",
      "-rwxrwxrwx 1 el_bardo el_bardo 8395200 May  4 14:21 \u001b[01;32mSZ_Lyn-0206_R.fit\u001b[0m*\r\n",
      "-rwxrwxrwx 1 el_bardo el_bardo 8395200 May  4 14:21 \u001b[01;32mSZ_Lyn-0206_V.fit\u001b[0m*\r\n",
      "-rwxrwxrwx 1 el_bardo el_bardo 8395200 May  4 14:21 \u001b[01;32mSZ_Lyn-0206_luminance.fit\u001b[0m*\r\n",
      "-rwxrwxrwx 1 el_bardo el_bardo 8395200 May  4 14:21 \u001b[01;32mSZ_Lyn-0207_B.fit\u001b[0m*\r\n",
      "-rwxrwxrwx 1 el_bardo el_bardo 8395200 May  4 14:21 \u001b[01;32mSZ_Lyn-0207_R.fit\u001b[0m*\r\n",
      "-rwxrwxrwx 1 el_bardo el_bardo 8395200 May  4 14:21 \u001b[01;32mSZ_Lyn-0207_V.fit\u001b[0m*\r\n",
      "-rwxrwxrwx 1 el_bardo el_bardo 8395200 May  4 14:21 \u001b[01;32mSZ_Lyn-0207_luminance.fit\u001b[0m*\r\n",
      "-rwxrwxrwx 1 el_bardo el_bardo 8395200 May  4 14:21 \u001b[01;32mSZ_Lyn-0208_B.fit\u001b[0m*\r\n",
      "-rwxrwxrwx 1 el_bardo el_bardo 8395200 May  4 14:21 \u001b[01;32mSZ_Lyn-0208_R.fit\u001b[0m*\r\n",
      "-rwxrwxrwx 1 el_bardo el_bardo 8395200 May  4 14:21 \u001b[01;32mSZ_Lyn-0208_V.fit\u001b[0m*\r\n",
      "-rwxrwxrwx 1 el_bardo el_bardo 8395200 May  4 14:21 \u001b[01;32mSZ_Lyn-0208_luminance.fit\u001b[0m*\r\n",
      "-rwxrwxrwx 1 el_bardo el_bardo 8395200 May  4 14:21 \u001b[01;32mSZ_Lyn-0209_B.fit\u001b[0m*\r\n",
      "-rwxrwxrwx 1 el_bardo el_bardo 8395200 May  4 14:21 \u001b[01;32mSZ_Lyn-0209_R.fit\u001b[0m*\r\n",
      "-rwxrwxrwx 1 el_bardo el_bardo 8395200 May  4 14:21 \u001b[01;32mSZ_Lyn-0209_V.fit\u001b[0m*\r\n",
      "-rwxrwxrwx 1 el_bardo el_bardo 8395200 May  4 14:21 \u001b[01;32mSZ_Lyn-0209_luminance.fit\u001b[0m*\r\n",
      "-rwxrwxrwx 1 el_bardo el_bardo 8395200 May  4 14:21 \u001b[01;32mSZ_Lyn-0210_B.fit\u001b[0m*\r\n",
      "-rwxrwxrwx 1 el_bardo el_bardo 8395200 May  4 14:21 \u001b[01;32mSZ_Lyn-0210_R.fit\u001b[0m*\r\n",
      "-rwxrwxrwx 1 el_bardo el_bardo 8395200 May  4 14:21 \u001b[01;32mSZ_Lyn-0210_V.fit\u001b[0m*\r\n",
      "-rwxrwxrwx 1 el_bardo el_bardo 8395200 May  4 14:21 \u001b[01;32mSZ_Lyn-0210_luminance.fit\u001b[0m*\r\n",
      "-rwxrwxrwx 1 el_bardo el_bardo 8395200 May  4 14:21 \u001b[01;32mSZ_Lyn-0211_B.fit\u001b[0m*\r\n",
      "-rwxrwxrwx 1 el_bardo el_bardo 8395200 May  4 14:21 \u001b[01;32mSZ_Lyn-0211_R.fit\u001b[0m*\r\n",
      "-rwxrwxrwx 1 el_bardo el_bardo 8395200 May  4 14:21 \u001b[01;32mSZ_Lyn-0211_V.fit\u001b[0m*\r\n",
      "-rwxrwxrwx 1 el_bardo el_bardo 8395200 May  4 14:21 \u001b[01;32mSZ_Lyn-0211_luminance.fit\u001b[0m*\r\n",
      "-rwxrwxrwx 1 el_bardo el_bardo 8395200 May  4 14:21 \u001b[01;32mSZ_Lyn-0212_B.fit\u001b[0m*\r\n",
      "-rwxrwxrwx 1 el_bardo el_bardo 8395200 May  4 14:21 \u001b[01;32mSZ_Lyn-0212_R.fit\u001b[0m*\r\n",
      "-rwxrwxrwx 1 el_bardo el_bardo 8395200 May  4 14:21 \u001b[01;32mSZ_Lyn-0212_V.fit\u001b[0m*\r\n",
      "-rwxrwxrwx 1 el_bardo el_bardo 8395200 May  4 14:21 \u001b[01;32mSZ_Lyn-0212_luminance.fit\u001b[0m*\r\n",
      "-rwxrwxrwx 1 el_bardo el_bardo 8395200 May  4 14:21 \u001b[01;32mSZ_Lyn-0213_B.fit\u001b[0m*\r\n",
      "-rwxrwxrwx 1 el_bardo el_bardo 8395200 May  4 14:21 \u001b[01;32mSZ_Lyn-0213_R.fit\u001b[0m*\r\n",
      "-rwxrwxrwx 1 el_bardo el_bardo 8395200 May  4 14:21 \u001b[01;32mSZ_Lyn-0213_V.fit\u001b[0m*\r\n",
      "-rwxrwxrwx 1 el_bardo el_bardo 8395200 May  4 14:21 \u001b[01;32mSZ_Lyn-0213_luminance.fit\u001b[0m*\r\n",
      "-rwxrwxrwx 1 el_bardo el_bardo 8395200 May  4 14:21 \u001b[01;32mSZ_Lyn-0214_B.fit\u001b[0m*\r\n",
      "-rwxrwxrwx 1 el_bardo el_bardo 8395200 May  4 14:21 \u001b[01;32mSZ_Lyn-0214_R.fit\u001b[0m*\r\n",
      "-rwxrwxrwx 1 el_bardo el_bardo 8395200 May  4 14:21 \u001b[01;32mSZ_Lyn-0214_V.fit\u001b[0m*\r\n",
      "-rwxrwxrwx 1 el_bardo el_bardo 8395200 May  4 14:21 \u001b[01;32mSZ_Lyn-0214_luminance.fit\u001b[0m*\r\n",
      "-rwxrwxrwx 1 el_bardo el_bardo 8395200 May  4 14:21 \u001b[01;32mSZ_Lyn-0215_B.fit\u001b[0m*\r\n",
      "-rwxrwxrwx 1 el_bardo el_bardo 8395200 May  4 14:21 \u001b[01;32mSZ_Lyn-0215_R.fit\u001b[0m*\r\n",
      "-rwxrwxrwx 1 el_bardo el_bardo 8395200 May  4 14:21 \u001b[01;32mSZ_Lyn-0215_V.fit\u001b[0m*\r\n",
      "-rwxrwxrwx 1 el_bardo el_bardo 8395200 May  4 14:21 \u001b[01;32mSZ_Lyn-0215_luminance.fit\u001b[0m*\r\n",
      "-rwxrwxrwx 1 el_bardo el_bardo 8395200 May  4 14:21 \u001b[01;32mSZ_Lyn-0216_B.fit\u001b[0m*\r\n",
      "-rwxrwxrwx 1 el_bardo el_bardo 8395200 May  4 14:21 \u001b[01;32mSZ_Lyn-0216_R.fit\u001b[0m*\r\n",
      "-rwxrwxrwx 1 el_bardo el_bardo 8395200 May  4 14:21 \u001b[01;32mSZ_Lyn-0216_V.fit\u001b[0m*\r\n",
      "-rwxrwxrwx 1 el_bardo el_bardo 8395200 May  4 14:21 \u001b[01;32mSZ_Lyn-0216_luminance.fit\u001b[0m*\r\n",
      "-rwxrwxrwx 1 el_bardo el_bardo 8395200 May  4 14:21 \u001b[01;32mSZ_Lyn-0217_B.fit\u001b[0m*\r\n",
      "-rwxrwxrwx 1 el_bardo el_bardo 8395200 May  4 14:21 \u001b[01;32mSZ_Lyn-0217_R.fit\u001b[0m*\r\n",
      "-rwxrwxrwx 1 el_bardo el_bardo 8395200 May  4 14:21 \u001b[01;32mSZ_Lyn-0217_V.fit\u001b[0m*\r\n",
      "-rwxrwxrwx 1 el_bardo el_bardo 8395200 May  4 14:21 \u001b[01;32mSZ_Lyn-0217_luminance.fit\u001b[0m*\r\n",
      "-rwxrwxrwx 1 el_bardo el_bardo 8395200 May  4 14:21 \u001b[01;32mSZ_Lyn-0218_B.fit\u001b[0m*\r\n",
      "-rwxrwxrwx 1 el_bardo el_bardo 8395200 May  4 14:21 \u001b[01;32mSZ_Lyn-0218_R.fit\u001b[0m*\r\n",
      "-rwxrwxrwx 1 el_bardo el_bardo 8395200 May  4 14:21 \u001b[01;32mSZ_Lyn-0218_V.fit\u001b[0m*\r\n",
      "-rwxrwxrwx 1 el_bardo el_bardo 8395200 May  4 14:21 \u001b[01;32mSZ_Lyn-0218_luminance.fit\u001b[0m*\r\n",
      "-rwxrwxrwx 1 el_bardo el_bardo 8395200 May  4 14:21 \u001b[01;32mSZ_Lyn-0219_B.fit\u001b[0m*\r\n",
      "-rwxrwxrwx 1 el_bardo el_bardo 8395200 May  4 14:21 \u001b[01;32mSZ_Lyn-0219_R.fit\u001b[0m*\r\n",
      "-rwxrwxrwx 1 el_bardo el_bardo 8395200 May  4 14:21 \u001b[01;32mSZ_Lyn-0219_V.fit\u001b[0m*\r\n",
      "-rwxrwxrwx 1 el_bardo el_bardo 8395200 May  4 14:21 \u001b[01;32mSZ_Lyn-0219_luminance.fit\u001b[0m*\r\n",
      "-rwxrwxrwx 1 el_bardo el_bardo 8395200 May  4 14:21 \u001b[01;32mSZ_Lyn-0220_B.fit\u001b[0m*\r\n",
      "-rwxrwxrwx 1 el_bardo el_bardo 8395200 May  4 14:21 \u001b[01;32mSZ_Lyn-0220_R.fit\u001b[0m*\r\n",
      "-rwxrwxrwx 1 el_bardo el_bardo 8395200 May  4 14:21 \u001b[01;32mSZ_Lyn-0220_V.fit\u001b[0m*\r\n",
      "-rwxrwxrwx 1 el_bardo el_bardo 8395200 May  4 14:21 \u001b[01;32mSZ_Lyn-0220_luminance.fit\u001b[0m*\r\n",
      "-rwxrwxrwx 1 el_bardo el_bardo 8395200 May  4 14:21 \u001b[01;32mSZ_Lyn-0221_B.fit\u001b[0m*\r\n",
      "-rwxrwxrwx 1 el_bardo el_bardo 8395200 May  4 14:21 \u001b[01;32mSZ_Lyn-0221_R.fit\u001b[0m*\r\n",
      "-rwxrwxrwx 1 el_bardo el_bardo 8395200 May  4 14:21 \u001b[01;32mSZ_Lyn-0221_V.fit\u001b[0m*\r\n",
      "-rwxrwxrwx 1 el_bardo el_bardo 8395200 May  4 14:21 \u001b[01;32mSZ_Lyn-0221_luminance.fit\u001b[0m*\r\n",
      "-rwxrwxrwx 1 el_bardo el_bardo 8395200 May  4 14:21 \u001b[01;32mSZ_Lyn-0222_B.fit\u001b[0m*\r\n",
      "-rwxrwxrwx 1 el_bardo el_bardo 8395200 May  4 14:21 \u001b[01;32mSZ_Lyn-0222_R.fit\u001b[0m*\r\n",
      "-rwxrwxrwx 1 el_bardo el_bardo 8395200 May  4 14:21 \u001b[01;32mSZ_Lyn-0222_V.fit\u001b[0m*\r\n",
      "-rwxrwxrwx 1 el_bardo el_bardo 8395200 May  4 14:21 \u001b[01;32mSZ_Lyn-0222_luminance.fit\u001b[0m*\r\n",
      "-rwxrwxrwx 1 el_bardo el_bardo 8395200 May  4 14:21 \u001b[01;32mSZ_Lyn-0223_B.fit\u001b[0m*\r\n",
      "-rwxrwxrwx 1 el_bardo el_bardo 8395200 May  4 14:21 \u001b[01;32mSZ_Lyn-0223_R.fit\u001b[0m*\r\n",
      "-rwxrwxrwx 1 el_bardo el_bardo 8395200 May  4 14:21 \u001b[01;32mSZ_Lyn-0223_V.fit\u001b[0m*\r\n",
      "-rwxrwxrwx 1 el_bardo el_bardo 8395200 May  4 14:21 \u001b[01;32mSZ_Lyn-0223_luminance.fit\u001b[0m*\r\n",
      "-rwxrwxrwx 1 el_bardo el_bardo 8395200 May  4 14:21 \u001b[01;32mSZ_Lyn-0224_B.fit\u001b[0m*\r\n",
      "-rwxrwxrwx 1 el_bardo el_bardo 8395200 May  4 14:21 \u001b[01;32mSZ_Lyn-0224_R.fit\u001b[0m*\r\n",
      "-rwxrwxrwx 1 el_bardo el_bardo 8395200 May  4 14:21 \u001b[01;32mSZ_Lyn-0224_V.fit\u001b[0m*\r\n",
      "-rwxrwxrwx 1 el_bardo el_bardo 8395200 May  4 14:21 \u001b[01;32mSZ_Lyn-0224_luminance.fit\u001b[0m*\r\n",
      "-rwxrwxrwx 1 el_bardo el_bardo 8395200 May  4 14:21 \u001b[01;32mSZ_Lyn-0225_B.fit\u001b[0m*\r\n",
      "-rwxrwxrwx 1 el_bardo el_bardo 8395200 May  4 14:21 \u001b[01;32mSZ_Lyn-0225_R.fit\u001b[0m*\r\n",
      "-rwxrwxrwx 1 el_bardo el_bardo 8395200 May  4 14:21 \u001b[01;32mSZ_Lyn-0225_V.fit\u001b[0m*\r\n",
      "-rwxrwxrwx 1 el_bardo el_bardo 8395200 May  4 14:21 \u001b[01;32mSZ_Lyn-0225_luminance.fit\u001b[0m*\r\n",
      "-rwxrwxrwx 1 el_bardo el_bardo 8395200 May  4 14:21 \u001b[01;32mSZ_Lyn-0226_B.fit\u001b[0m*\r\n",
      "-rwxrwxrwx 1 el_bardo el_bardo 8395200 May  4 14:21 \u001b[01;32mSZ_Lyn-0226_R.fit\u001b[0m*\r\n",
      "-rwxrwxrwx 1 el_bardo el_bardo 8395200 May  4 14:21 \u001b[01;32mSZ_Lyn-0226_V.fit\u001b[0m*\r\n",
      "-rwxrwxrwx 1 el_bardo el_bardo 8395200 May  4 14:21 \u001b[01;32mSZ_Lyn-0226_luminance.fit\u001b[0m*\r\n",
      "-rwxrwxrwx 1 el_bardo el_bardo 8395200 May  4 14:21 \u001b[01;32mSZ_Lyn-0227_B.fit\u001b[0m*\r\n",
      "-rwxrwxrwx 1 el_bardo el_bardo 8395200 May  4 14:21 \u001b[01;32mSZ_Lyn-0227_R.fit\u001b[0m*\r\n",
      "-rwxrwxrwx 1 el_bardo el_bardo 8395200 May  4 14:21 \u001b[01;32mSZ_Lyn-0227_V.fit\u001b[0m*\r\n",
      "-rwxrwxrwx 1 el_bardo el_bardo 8395200 May  4 14:21 \u001b[01;32mSZ_Lyn-0227_luminance.fit\u001b[0m*\r\n",
      "-rwxrwxrwx 1 el_bardo el_bardo 8395200 May  4 14:21 \u001b[01;32mSZ_Lyn-0228_B.fit\u001b[0m*\r\n",
      "-rwxrwxrwx 1 el_bardo el_bardo 8395200 May  4 14:21 \u001b[01;32mSZ_Lyn-0228_R.fit\u001b[0m*\r\n",
      "-rwxrwxrwx 1 el_bardo el_bardo 8395200 May  4 14:21 \u001b[01;32mSZ_Lyn-0228_V.fit\u001b[0m*\r\n",
      "-rwxrwxrwx 1 el_bardo el_bardo 8395200 May  4 14:21 \u001b[01;32mSZ_Lyn-0228_luminance.fit\u001b[0m*\r\n",
      "-rwxrwxrwx 1 el_bardo el_bardo 8395200 May  4 14:21 \u001b[01;32mSZ_Lyn-0229_B.fit\u001b[0m*\r\n",
      "-rwxrwxrwx 1 el_bardo el_bardo 8395200 May  4 14:21 \u001b[01;32mSZ_Lyn-0229_R.fit\u001b[0m*\r\n",
      "-rwxrwxrwx 1 el_bardo el_bardo 8395200 May  4 14:21 \u001b[01;32mSZ_Lyn-0229_V.fit\u001b[0m*\r\n",
      "-rwxrwxrwx 1 el_bardo el_bardo 8395200 May  4 14:21 \u001b[01;32mSZ_Lyn-0229_luminance.fit\u001b[0m*\r\n",
      "-rwxrwxrwx 1 el_bardo el_bardo 8395200 May  4 14:21 \u001b[01;32mSZ_Lyn-0230_B.fit\u001b[0m*\r\n",
      "-rwxrwxrwx 1 el_bardo el_bardo 8395200 May  4 14:21 \u001b[01;32mSZ_Lyn-0230_R.fit\u001b[0m*\r\n",
      "-rwxrwxrwx 1 el_bardo el_bardo 8395200 May  4 14:21 \u001b[01;32mSZ_Lyn-0230_V.fit\u001b[0m*\r\n",
      "-rwxrwxrwx 1 el_bardo el_bardo 8395200 May  4 14:21 \u001b[01;32mSZ_Lyn-0230_luminance.fit\u001b[0m*\r\n",
      "-rwxrwxrwx 1 el_bardo el_bardo 8395200 May  4 14:21 \u001b[01;32mSZ_Lyn-0231_B.fit\u001b[0m*\r\n",
      "-rwxrwxrwx 1 el_bardo el_bardo 8395200 May  4 14:21 \u001b[01;32mSZ_Lyn-0231_R.fit\u001b[0m*\r\n",
      "-rwxrwxrwx 1 el_bardo el_bardo 8395200 May  4 14:21 \u001b[01;32mSZ_Lyn-0231_V.fit\u001b[0m*\r\n",
      "-rwxrwxrwx 1 el_bardo el_bardo 8395200 May  4 14:21 \u001b[01;32mSZ_Lyn-0231_luminance.fit\u001b[0m*\r\n",
      "-rwxrwxrwx 1 el_bardo el_bardo 8395200 May  4 14:21 \u001b[01;32mSZ_Lyn-0232_B.fit\u001b[0m*\r\n",
      "-rwxrwxrwx 1 el_bardo el_bardo 8395200 May  4 14:21 \u001b[01;32mSZ_Lyn-0232_R.fit\u001b[0m*\r\n",
      "-rwxrwxrwx 1 el_bardo el_bardo 8395200 May  4 14:21 \u001b[01;32mSZ_Lyn-0232_V.fit\u001b[0m*\r\n",
      "-rwxrwxrwx 1 el_bardo el_bardo 8395200 May  4 14:21 \u001b[01;32mSZ_Lyn-0232_luminance.fit\u001b[0m*\r\n",
      "-rwxrwxrwx 1 el_bardo el_bardo 8395200 May  4 14:21 \u001b[01;32mSZ_Lyn-0233_B.fit\u001b[0m*\r\n",
      "-rwxrwxrwx 1 el_bardo el_bardo 8395200 May  4 14:21 \u001b[01;32mSZ_Lyn-0233_R.fit\u001b[0m*\r\n",
      "-rwxrwxrwx 1 el_bardo el_bardo 8395200 May  4 14:21 \u001b[01;32mSZ_Lyn-0233_V.fit\u001b[0m*\r\n",
      "-rwxrwxrwx 1 el_bardo el_bardo 8395200 May  4 14:21 \u001b[01;32mSZ_Lyn-0233_luminance.fit\u001b[0m*\r\n",
      "-rwxrwxrwx 1 el_bardo el_bardo 8395200 May  4 14:21 \u001b[01;32mSZ_Lyn-0234_B.fit\u001b[0m*\r\n",
      "-rwxrwxrwx 1 el_bardo el_bardo 8395200 May  4 14:21 \u001b[01;32mSZ_Lyn-0234_R.fit\u001b[0m*\r\n",
      "-rwxrwxrwx 1 el_bardo el_bardo 8395200 May  4 14:21 \u001b[01;32mSZ_Lyn-0234_V.fit\u001b[0m*\r\n",
      "-rwxrwxrwx 1 el_bardo el_bardo 8395200 May  4 14:21 \u001b[01;32mSZ_Lyn-0234_luminance.fit\u001b[0m*\r\n",
      "-rwxrwxrwx 1 el_bardo el_bardo 8395200 May  4 14:21 \u001b[01;32mSZ_Lyn-0235_B.fit\u001b[0m*\r\n",
      "-rwxrwxrwx 1 el_bardo el_bardo 8395200 May  4 14:21 \u001b[01;32mSZ_Lyn-0235_R.fit\u001b[0m*\r\n",
      "-rwxrwxrwx 1 el_bardo el_bardo 8395200 May  4 14:21 \u001b[01;32mSZ_Lyn-0235_V.fit\u001b[0m*\r\n",
      "-rwxrwxrwx 1 el_bardo el_bardo 8395200 May  4 14:21 \u001b[01;32mSZ_Lyn-0235_luminance.fit\u001b[0m*\r\n",
      "-rwxrwxrwx 1 el_bardo el_bardo 8395200 May  4 14:21 \u001b[01;32mSZ_Lyn-0236_B.fit\u001b[0m*\r\n",
      "-rwxrwxrwx 1 el_bardo el_bardo 8395200 May  4 14:21 \u001b[01;32mSZ_Lyn-0236_R.fit\u001b[0m*\r\n",
      "-rwxrwxrwx 1 el_bardo el_bardo 8395200 May  4 14:21 \u001b[01;32mSZ_Lyn-0236_V.fit\u001b[0m*\r\n",
      "-rwxrwxrwx 1 el_bardo el_bardo 8395200 May  4 14:21 \u001b[01;32mSZ_Lyn-0236_luminance.fit\u001b[0m*\r\n",
      "-rwxrwxrwx 1 el_bardo el_bardo 8395200 May  4 14:21 \u001b[01;32mSZ_Lyn-0237_B.fit\u001b[0m*\r\n",
      "-rwxrwxrwx 1 el_bardo el_bardo 8395200 May  4 14:21 \u001b[01;32mSZ_Lyn-0237_R.fit\u001b[0m*\r\n",
      "-rwxrwxrwx 1 el_bardo el_bardo 8395200 May  4 14:21 \u001b[01;32mSZ_Lyn-0237_V.fit\u001b[0m*\r\n",
      "-rwxrwxrwx 1 el_bardo el_bardo 8395200 May  4 14:21 \u001b[01;32mSZ_Lyn-0237_luminance.fit\u001b[0m*\r\n",
      "-rwxrwxrwx 1 el_bardo el_bardo 8395200 May  4 14:21 \u001b[01;32mSZ_Lyn-0238_B.fit\u001b[0m*\r\n",
      "-rwxrwxrwx 1 el_bardo el_bardo 8395200 May  4 14:21 \u001b[01;32mSZ_Lyn-0238_R.fit\u001b[0m*\r\n",
      "-rwxrwxrwx 1 el_bardo el_bardo 8395200 May  4 14:21 \u001b[01;32mSZ_Lyn-0238_V.fit\u001b[0m*\r\n",
      "-rwxrwxrwx 1 el_bardo el_bardo 8395200 May  4 14:21 \u001b[01;32mSZ_Lyn-0238_luminance.fit\u001b[0m*\r\n",
      "-rwxrwxrwx 1 el_bardo el_bardo 8395200 May  4 14:21 \u001b[01;32mSZ_Lyn-0239_B.fit\u001b[0m*\r\n",
      "-rwxrwxrwx 1 el_bardo el_bardo 8395200 May  4 14:21 \u001b[01;32mSZ_Lyn-0239_R.fit\u001b[0m*\r\n",
      "-rwxrwxrwx 1 el_bardo el_bardo 8395200 May  4 14:21 \u001b[01;32mSZ_Lyn-0239_V.fit\u001b[0m*\r\n",
      "-rwxrwxrwx 1 el_bardo el_bardo 8395200 May  4 14:21 \u001b[01;32mSZ_Lyn-0239_luminance.fit\u001b[0m*\r\n",
      "-rwxrwxrwx 1 el_bardo el_bardo 8395200 May  4 14:21 \u001b[01;32mSZ_Lyn-0240_B.fit\u001b[0m*\r\n",
      "-rwxrwxrwx 1 el_bardo el_bardo 8395200 May  4 14:21 \u001b[01;32mSZ_Lyn-0240_R.fit\u001b[0m*\r\n",
      "-rwxrwxrwx 1 el_bardo el_bardo 8395200 May  4 14:21 \u001b[01;32mSZ_Lyn-0240_V.fit\u001b[0m*\r\n",
      "-rwxrwxrwx 1 el_bardo el_bardo 8395200 May  4 14:21 \u001b[01;32mSZ_Lyn-0240_luminance.fit\u001b[0m*\r\n",
      "-rwxrwxrwx 1 el_bardo el_bardo 8395200 May  4 14:21 \u001b[01;32mSZ_Lyn-0241_B.fit\u001b[0m*\r\n",
      "-rwxrwxrwx 1 el_bardo el_bardo 8395200 May  4 14:21 \u001b[01;32mSZ_Lyn-0241_R.fit\u001b[0m*\r\n",
      "-rwxrwxrwx 1 el_bardo el_bardo 8395200 May  4 14:21 \u001b[01;32mSZ_Lyn-0241_V.fit\u001b[0m*\r\n",
      "-rwxrwxrwx 1 el_bardo el_bardo 8395200 May  4 14:21 \u001b[01;32mSZ_Lyn-0241_luminance.fit\u001b[0m*\r\n",
      "-rwxrwxrwx 1 el_bardo el_bardo 8395200 May  4 14:21 \u001b[01;32mSZ_Lyn-0242_B.fit\u001b[0m*\r\n",
      "-rwxrwxrwx 1 el_bardo el_bardo 8395200 May  4 14:21 \u001b[01;32mSZ_Lyn-0242_R.fit\u001b[0m*\r\n",
      "-rwxrwxrwx 1 el_bardo el_bardo 8395200 May  4 14:21 \u001b[01;32mSZ_Lyn-0242_V.fit\u001b[0m*\r\n",
      "-rwxrwxrwx 1 el_bardo el_bardo 8395200 May  4 14:21 \u001b[01;32mSZ_Lyn-0242_luminance.fit\u001b[0m*\r\n",
      "-rwxrwxrwx 1 el_bardo el_bardo 8395200 May  4 14:21 \u001b[01;32mSZ_Lyn-0243_B.fit\u001b[0m*\r\n",
      "-rwxrwxrwx 1 el_bardo el_bardo 8395200 May  4 14:21 \u001b[01;32mSZ_Lyn-0243_R.fit\u001b[0m*\r\n",
      "-rwxrwxrwx 1 el_bardo el_bardo 8395200 May  4 14:21 \u001b[01;32mSZ_Lyn-0243_V.fit\u001b[0m*\r\n",
      "-rwxrwxrwx 1 el_bardo el_bardo 8395200 May  4 14:21 \u001b[01;32mSZ_Lyn-0243_luminance.fit\u001b[0m*\r\n",
      "-rwxrwxrwx 1 el_bardo el_bardo 8395200 May  4 14:21 \u001b[01;32mSZ_Lyn-0244_B.fit\u001b[0m*\r\n",
      "-rwxrwxrwx 1 el_bardo el_bardo 8395200 May  4 14:21 \u001b[01;32mSZ_Lyn-0244_R.fit\u001b[0m*\r\n",
      "-rwxrwxrwx 1 el_bardo el_bardo 8395200 May  4 14:21 \u001b[01;32mSZ_Lyn-0244_V.fit\u001b[0m*\r\n",
      "-rwxrwxrwx 1 el_bardo el_bardo 8395200 May  4 14:21 \u001b[01;32mSZ_Lyn-0244_luminance.fit\u001b[0m*\r\n",
      "-rwxrwxrwx 1 el_bardo el_bardo 8395200 May  4 14:21 \u001b[01;32mSZ_Lyn-0245_B.fit\u001b[0m*\r\n",
      "-rwxrwxrwx 1 el_bardo el_bardo 8395200 May  4 14:21 \u001b[01;32mSZ_Lyn-0245_R.fit\u001b[0m*\r\n",
      "-rwxrwxrwx 1 el_bardo el_bardo 8395200 May  4 14:21 \u001b[01;32mSZ_Lyn-0245_V.fit\u001b[0m*\r\n",
      "-rwxrwxrwx 1 el_bardo el_bardo 8395200 May  4 14:21 \u001b[01;32mSZ_Lyn-0245_luminance.fit\u001b[0m*\r\n",
      "drwxrwxrwx 1 el_bardo el_bardo     512 May 11 14:25 \u001b[34;42mciao\u001b[0m/\r\n"
     ]
    }
   ],
   "source": [
    "ls -l"
   ]
  },
  {
   "cell_type": "code",
   "execution_count": 50,
   "id": "da12d447",
   "metadata": {},
   "outputs": [
    {
     "name": "stdout",
     "output_type": "stream",
     "text": [
      "mkdir: cannot create directory ‘ciao’: File exists\r\n"
     ]
    }
   ],
   "source": [
    "mkdir ciao"
   ]
  },
  {
   "cell_type": "code",
   "execution_count": 51,
   "id": "0e4a1719",
   "metadata": {},
   "outputs": [
    {
     "data": {
      "text/plain": [
       "'/mnt/c/Users/giuse/onedrive/desktop/cupani_folder/sci_total/science'"
      ]
     },
     "execution_count": 51,
     "metadata": {},
     "output_type": "execute_result"
    }
   ],
   "source": [
    "pwd"
   ]
  },
  {
   "cell_type": "code",
   "execution_count": 52,
   "id": "21e0ac89",
   "metadata": {},
   "outputs": [
    {
     "name": "stdout",
     "output_type": "stream",
     "text": [
      "/mnt/c/Users/giuse/onedrive/desktop/cupani_folder/sci_total\n"
     ]
    }
   ],
   "source": [
    "cd ..\n"
   ]
  },
  {
   "cell_type": "code",
   "execution_count": 53,
   "id": "0cb5314a",
   "metadata": {},
   "outputs": [],
   "source": [
    "from astropy.io import fits\n"
   ]
  },
  {
   "cell_type": "code",
   "execution_count": 54,
   "id": "e97d3775",
   "metadata": {},
   "outputs": [],
   "source": [
    "sci=fits.open('reduced/SZ_Lyn-0001_R.fit')[0]"
   ]
  },
  {
   "cell_type": "raw",
   "id": "acccf5c9",
   "metadata": {},
   "source": [
    "reg=np.s_[800:920,500:670]\n"
   ]
  },
  {
   "cell_type": "code",
   "execution_count": 14,
   "id": "b8c671ab",
   "metadata": {},
   "outputs": [
    {
     "ename": "NameError",
     "evalue": "name 'reg' is not defined",
     "output_type": "error",
     "traceback": [
      "\u001b[0;31m---------------------------------------------------------------------------\u001b[0m",
      "\u001b[0;31mNameError\u001b[0m                                 Traceback (most recent call last)",
      "\u001b[0;32m<ipython-input-14-3542169be046>\u001b[0m in \u001b[0;36m<module>\u001b[0;34m\u001b[0m\n\u001b[0;32m----> 1\u001b[0;31m \u001b[0mreg\u001b[0m\u001b[0;34m\u001b[0m\u001b[0;34m\u001b[0m\u001b[0m\n\u001b[0m",
      "\u001b[0;31mNameError\u001b[0m: name 'reg' is not defined"
     ]
    }
   ],
   "source": []
  },
  {
   "cell_type": "code",
   "execution_count": 55,
   "id": "c09140e0",
   "metadata": {},
   "outputs": [],
   "source": [
    "import numpy as np"
   ]
  },
  {
   "cell_type": "code",
   "execution_count": 56,
   "id": "90dc1476",
   "metadata": {},
   "outputs": [],
   "source": [
    "reg=np.s_[800:920,550:670]"
   ]
  },
  {
   "cell_type": "code",
   "execution_count": 57,
   "id": "01ba7232",
   "metadata": {},
   "outputs": [
    {
     "data": {
      "text/plain": [
       "(slice(800, 920, None), slice(550, 670, None))"
      ]
     },
     "execution_count": 57,
     "metadata": {},
     "output_type": "execute_result"
    }
   ],
   "source": [
    "reg"
   ]
  },
  {
   "cell_type": "code",
   "execution_count": 58,
   "id": "ebb529a8",
   "metadata": {},
   "outputs": [],
   "source": [
    "sub_img=sci.data[reg]"
   ]
  },
  {
   "cell_type": "code",
   "execution_count": 59,
   "id": "e95a6e41",
   "metadata": {},
   "outputs": [],
   "source": [
    "import matplotlib.pyplot as plt"
   ]
  },
  {
   "cell_type": "code",
   "execution_count": 60,
   "id": "1555e1c1",
   "metadata": {},
   "outputs": [
    {
     "data": {
      "text/plain": [
       "<matplotlib.image.AxesImage at 0x7f85259ea9d0>"
      ]
     },
     "execution_count": 60,
     "metadata": {},
     "output_type": "execute_result"
    },
    {
     "data": {
      "image/png": "[encoded data removed]",
      "text/plain": [
       "<Figure size 432x288 with 1 Axes>"
      ]
     },
     "metadata": {
      "needs_background": "light"
     },
     "output_type": "display_data"
    }
   ],
   "source": [
    "plt.imshow(sub_img)"
   ]
  },
  {
   "cell_type": "code",
   "execution_count": 61,
   "id": "9351893f",
   "metadata": {},
   "outputs": [
    {
     "data": {
      "text/plain": [
       "6904"
      ]
     },
     "execution_count": 61,
     "metadata": {},
     "output_type": "execute_result"
    }
   ],
   "source": [
    "np.argmax(sub_img)"
   ]
  },
  {
   "cell_type": "code",
   "execution_count": 62,
   "id": "fc7fe9f4",
   "metadata": {},
   "outputs": [],
   "source": [
    "ymax, xmax=np.unravel_index(np.argmax(sub_img), sub_img.shape)"
   ]
  },
  {
   "cell_type": "code",
   "execution_count": 63,
   "id": "fb3d5fa0",
   "metadata": {},
   "outputs": [],
   "source": [
    "rows, cols=np.ogrid[-ymax:sub_img.shape[0]-ymax, -xmax:sub_img.shape[0]-xmax]"
   ]
  },
  {
   "cell_type": "code",
   "execution_count": 64,
   "id": "3b935b5d",
   "metadata": {},
   "outputs": [],
   "source": [
    "mask=np.logical_and(np.abs(rows)<15, np.abs(cols)<15)"
   ]
  },
  {
   "cell_type": "code",
   "execution_count": 65,
   "id": "751d28d9",
   "metadata": {},
   "outputs": [
    {
     "data": {
      "text/plain": [
       "array([[False, False, False, ..., False, False, False],\n",
       "       [False, False, False, ..., False, False, False],\n",
       "       [False, False, False, ..., False, False, False],\n",
       "       ...,\n",
       "       [False, False, False, ..., False, False, False],\n",
       "       [False, False, False, ..., False, False, False],\n",
       "       [False, False, False, ..., False, False, False]])"
      ]
     },
     "execution_count": 65,
     "metadata": {},
     "output_type": "execute_result"
    }
   ],
   "source": [
    "mask"
   ]
  },
  {
   "cell_type": "code",
   "execution_count": 66,
   "id": "7719fb70",
   "metadata": {},
   "outputs": [
    {
     "data": {
      "text/plain": [
       "(array([43, 43, 43, 43, 43, 43, 43, 43, 43, 43, 43, 43, 43, 43, 43, 43, 43,\n",
       "        43, 43, 43, 43, 43, 43, 43, 43, 43, 43, 43, 43, 44, 44, 44, 44, 44,\n",
       "        44, 44, 44, 44, 44, 44, 44, 44, 44, 44, 44, 44, 44, 44, 44, 44, 44,\n",
       "        44, 44, 44, 44, 44, 44, 44, 45, 45, 45, 45, 45, 45, 45, 45, 45, 45,\n",
       "        45, 45, 45, 45, 45, 45, 45, 45, 45, 45, 45, 45, 45, 45, 45, 45, 45,\n",
       "        45, 45, 46, 46, 46, 46, 46, 46, 46, 46, 46, 46, 46, 46, 46, 46, 46,\n",
       "        46, 46, 46, 46, 46, 46, 46, 46, 46, 46, 46, 46, 46, 46, 47, 47, 47,\n",
       "        47, 47, 47, 47, 47, 47, 47, 47, 47, 47, 47, 47, 47, 47, 47, 47, 47,\n",
       "        47, 47, 47, 47, 47, 47, 47, 47, 47, 48, 48, 48, 48, 48, 48, 48, 48,\n",
       "        48, 48, 48, 48, 48, 48, 48, 48, 48, 48, 48, 48, 48, 48, 48, 48, 48,\n",
       "        48, 48, 48, 48, 49, 49, 49, 49, 49, 49, 49, 49, 49, 49, 49, 49, 49,\n",
       "        49, 49, 49, 49, 49, 49, 49, 49, 49, 49, 49, 49, 49, 49, 49, 49, 50,\n",
       "        50, 50, 50, 50, 50, 50, 50, 50, 50, 50, 50, 50, 50, 50, 50, 50, 50,\n",
       "        50, 50, 50, 50, 50, 50, 50, 50, 50, 50, 50, 51, 51, 51, 51, 51, 51,\n",
       "        51, 51, 51, 51, 51, 51, 51, 51, 51, 51, 51, 51, 51, 51, 51, 51, 51,\n",
       "        51, 51, 51, 51, 51, 51, 52, 52, 52, 52, 52, 52, 52, 52, 52, 52, 52,\n",
       "        52, 52, 52, 52, 52, 52, 52, 52, 52, 52, 52, 52, 52, 52, 52, 52, 52,\n",
       "        52, 53, 53, 53, 53, 53, 53, 53, 53, 53, 53, 53, 53, 53, 53, 53, 53,\n",
       "        53, 53, 53, 53, 53, 53, 53, 53, 53, 53, 53, 53, 53, 54, 54, 54, 54,\n",
       "        54, 54, 54, 54, 54, 54, 54, 54, 54, 54, 54, 54, 54, 54, 54, 54, 54,\n",
       "        54, 54, 54, 54, 54, 54, 54, 54, 55, 55, 55, 55, 55, 55, 55, 55, 55,\n",
       "        55, 55, 55, 55, 55, 55, 55, 55, 55, 55, 55, 55, 55, 55, 55, 55, 55,\n",
       "        55, 55, 55, 56, 56, 56, 56, 56, 56, 56, 56, 56, 56, 56, 56, 56, 56,\n",
       "        56, 56, 56, 56, 56, 56, 56, 56, 56, 56, 56, 56, 56, 56, 56, 57, 57,\n",
       "        57, 57, 57, 57, 57, 57, 57, 57, 57, 57, 57, 57, 57, 57, 57, 57, 57,\n",
       "        57, 57, 57, 57, 57, 57, 57, 57, 57, 57, 58, 58, 58, 58, 58, 58, 58,\n",
       "        58, 58, 58, 58, 58, 58, 58, 58, 58, 58, 58, 58, 58, 58, 58, 58, 58,\n",
       "        58, 58, 58, 58, 58, 59, 59, 59, 59, 59, 59, 59, 59, 59, 59, 59, 59,\n",
       "        59, 59, 59, 59, 59, 59, 59, 59, 59, 59, 59, 59, 59, 59, 59, 59, 59,\n",
       "        60, 60, 60, 60, 60, 60, 60, 60, 60, 60, 60, 60, 60, 60, 60, 60, 60,\n",
       "        60, 60, 60, 60, 60, 60, 60, 60, 60, 60, 60, 60, 61, 61, 61, 61, 61,\n",
       "        61, 61, 61, 61, 61, 61, 61, 61, 61, 61, 61, 61, 61, 61, 61, 61, 61,\n",
       "        61, 61, 61, 61, 61, 61, 61, 62, 62, 62, 62, 62, 62, 62, 62, 62, 62,\n",
       "        62, 62, 62, 62, 62, 62, 62, 62, 62, 62, 62, 62, 62, 62, 62, 62, 62,\n",
       "        62, 62, 63, 63, 63, 63, 63, 63, 63, 63, 63, 63, 63, 63, 63, 63, 63,\n",
       "        63, 63, 63, 63, 63, 63, 63, 63, 63, 63, 63, 63, 63, 63, 64, 64, 64,\n",
       "        64, 64, 64, 64, 64, 64, 64, 64, 64, 64, 64, 64, 64, 64, 64, 64, 64,\n",
       "        64, 64, 64, 64, 64, 64, 64, 64, 64, 65, 65, 65, 65, 65, 65, 65, 65,\n",
       "        65, 65, 65, 65, 65, 65, 65, 65, 65, 65, 65, 65, 65, 65, 65, 65, 65,\n",
       "        65, 65, 65, 65, 66, 66, 66, 66, 66, 66, 66, 66, 66, 66, 66, 66, 66,\n",
       "        66, 66, 66, 66, 66, 66, 66, 66, 66, 66, 66, 66, 66, 66, 66, 66, 67,\n",
       "        67, 67, 67, 67, 67, 67, 67, 67, 67, 67, 67, 67, 67, 67, 67, 67, 67,\n",
       "        67, 67, 67, 67, 67, 67, 67, 67, 67, 67, 67, 68, 68, 68, 68, 68, 68,\n",
       "        68, 68, 68, 68, 68, 68, 68, 68, 68, 68, 68, 68, 68, 68, 68, 68, 68,\n",
       "        68, 68, 68, 68, 68, 68, 69, 69, 69, 69, 69, 69, 69, 69, 69, 69, 69,\n",
       "        69, 69, 69, 69, 69, 69, 69, 69, 69, 69, 69, 69, 69, 69, 69, 69, 69,\n",
       "        69, 70, 70, 70, 70, 70, 70, 70, 70, 70, 70, 70, 70, 70, 70, 70, 70,\n",
       "        70, 70, 70, 70, 70, 70, 70, 70, 70, 70, 70, 70, 70, 71, 71, 71, 71,\n",
       "        71, 71, 71, 71, 71, 71, 71, 71, 71, 71, 71, 71, 71, 71, 71, 71, 71,\n",
       "        71, 71, 71, 71, 71, 71, 71, 71]),\n",
       " array([50, 51, 52, 53, 54, 55, 56, 57, 58, 59, 60, 61, 62, 63, 64, 65, 66,\n",
       "        67, 68, 69, 70, 71, 72, 73, 74, 75, 76, 77, 78, 50, 51, 52, 53, 54,\n",
       "        55, 56, 57, 58, 59, 60, 61, 62, 63, 64, 65, 66, 67, 68, 69, 70, 71,\n",
       "        72, 73, 74, 75, 76, 77, 78, 50, 51, 52, 53, 54, 55, 56, 57, 58, 59,\n",
       "        60, 61, 62, 63, 64, 65, 66, 67, 68, 69, 70, 71, 72, 73, 74, 75, 76,\n",
       "        77, 78, 50, 51, 52, 53, 54, 55, 56, 57, 58, 59, 60, 61, 62, 63, 64,\n",
       "        65, 66, 67, 68, 69, 70, 71, 72, 73, 74, 75, 76, 77, 78, 50, 51, 52,\n",
       "        53, 54, 55, 56, 57, 58, 59, 60, 61, 62, 63, 64, 65, 66, 67, 68, 69,\n",
       "        70, 71, 72, 73, 74, 75, 76, 77, 78, 50, 51, 52, 53, 54, 55, 56, 57,\n",
       "        58, 59, 60, 61, 62, 63, 64, 65, 66, 67, 68, 69, 70, 71, 72, 73, 74,\n",
       "        75, 76, 77, 78, 50, 51, 52, 53, 54, 55, 56, 57, 58, 59, 60, 61, 62,\n",
       "        63, 64, 65, 66, 67, 68, 69, 70, 71, 72, 73, 74, 75, 76, 77, 78, 50,\n",
       "        51, 52, 53, 54, 55, 56, 57, 58, 59, 60, 61, 62, 63, 64, 65, 66, 67,\n",
       "        68, 69, 70, 71, 72, 73, 74, 75, 76, 77, 78, 50, 51, 52, 53, 54, 55,\n",
       "        56, 57, 58, 59, 60, 61, 62, 63, 64, 65, 66, 67, 68, 69, 70, 71, 72,\n",
       "        73, 74, 75, 76, 77, 78, 50, 51, 52, 53, 54, 55, 56, 57, 58, 59, 60,\n",
       "        61, 62, 63, 64, 65, 66, 67, 68, 69, 70, 71, 72, 73, 74, 75, 76, 77,\n",
       "        78, 50, 51, 52, 53, 54, 55, 56, 57, 58, 59, 60, 61, 62, 63, 64, 65,\n",
       "        66, 67, 68, 69, 70, 71, 72, 73, 74, 75, 76, 77, 78, 50, 51, 52, 53,\n",
       "        54, 55, 56, 57, 58, 59, 60, 61, 62, 63, 64, 65, 66, 67, 68, 69, 70,\n",
       "        71, 72, 73, 74, 75, 76, 77, 78, 50, 51, 52, 53, 54, 55, 56, 57, 58,\n",
       "        59, 60, 61, 62, 63, 64, 65, 66, 67, 68, 69, 70, 71, 72, 73, 74, 75,\n",
       "        76, 77, 78, 50, 51, 52, 53, 54, 55, 56, 57, 58, 59, 60, 61, 62, 63,\n",
       "        64, 65, 66, 67, 68, 69, 70, 71, 72, 73, 74, 75, 76, 77, 78, 50, 51,\n",
       "        52, 53, 54, 55, 56, 57, 58, 59, 60, 61, 62, 63, 64, 65, 66, 67, 68,\n",
       "        69, 70, 71, 72, 73, 74, 75, 76, 77, 78, 50, 51, 52, 53, 54, 55, 56,\n",
       "        57, 58, 59, 60, 61, 62, 63, 64, 65, 66, 67, 68, 69, 70, 71, 72, 73,\n",
       "        74, 75, 76, 77, 78, 50, 51, 52, 53, 54, 55, 56, 57, 58, 59, 60, 61,\n",
       "        62, 63, 64, 65, 66, 67, 68, 69, 70, 71, 72, 73, 74, 75, 76, 77, 78,\n",
       "        50, 51, 52, 53, 54, 55, 56, 57, 58, 59, 60, 61, 62, 63, 64, 65, 66,\n",
       "        67, 68, 69, 70, 71, 72, 73, 74, 75, 76, 77, 78, 50, 51, 52, 53, 54,\n",
       "        55, 56, 57, 58, 59, 60, 61, 62, 63, 64, 65, 66, 67, 68, 69, 70, 71,\n",
       "        72, 73, 74, 75, 76, 77, 78, 50, 51, 52, 53, 54, 55, 56, 57, 58, 59,\n",
       "        60, 61, 62, 63, 64, 65, 66, 67, 68, 69, 70, 71, 72, 73, 74, 75, 76,\n",
       "        77, 78, 50, 51, 52, 53, 54, 55, 56, 57, 58, 59, 60, 61, 62, 63, 64,\n",
       "        65, 66, 67, 68, 69, 70, 71, 72, 73, 74, 75, 76, 77, 78, 50, 51, 52,\n",
       "        53, 54, 55, 56, 57, 58, 59, 60, 61, 62, 63, 64, 65, 66, 67, 68, 69,\n",
       "        70, 71, 72, 73, 74, 75, 76, 77, 78, 50, 51, 52, 53, 54, 55, 56, 57,\n",
       "        58, 59, 60, 61, 62, 63, 64, 65, 66, 67, 68, 69, 70, 71, 72, 73, 74,\n",
       "        75, 76, 77, 78, 50, 51, 52, 53, 54, 55, 56, 57, 58, 59, 60, 61, 62,\n",
       "        63, 64, 65, 66, 67, 68, 69, 70, 71, 72, 73, 74, 75, 76, 77, 78, 50,\n",
       "        51, 52, 53, 54, 55, 56, 57, 58, 59, 60, 61, 62, 63, 64, 65, 66, 67,\n",
       "        68, 69, 70, 71, 72, 73, 74, 75, 76, 77, 78, 50, 51, 52, 53, 54, 55,\n",
       "        56, 57, 58, 59, 60, 61, 62, 63, 64, 65, 66, 67, 68, 69, 70, 71, 72,\n",
       "        73, 74, 75, 76, 77, 78, 50, 51, 52, 53, 54, 55, 56, 57, 58, 59, 60,\n",
       "        61, 62, 63, 64, 65, 66, 67, 68, 69, 70, 71, 72, 73, 74, 75, 76, 77,\n",
       "        78, 50, 51, 52, 53, 54, 55, 56, 57, 58, 59, 60, 61, 62, 63, 64, 65,\n",
       "        66, 67, 68, 69, 70, 71, 72, 73, 74, 75, 76, 77, 78, 50, 51, 52, 53,\n",
       "        54, 55, 56, 57, 58, 59, 60, 61, 62, 63, 64, 65, 66, 67, 68, 69, 70,\n",
       "        71, 72, 73, 74, 75, 76, 77, 78]))"
      ]
     },
     "execution_count": 66,
     "metadata": {},
     "output_type": "execute_result"
    }
   ],
   "source": [
    "np.where(mask==True)"
   ]
  },
  {
   "cell_type": "code",
   "execution_count": 67,
   "id": "3bbabfd8",
   "metadata": {},
   "outputs": [],
   "source": [
    "inside=np.copy(sub_img)"
   ]
  },
  {
   "cell_type": "code",
   "execution_count": 68,
   "id": "f384d367",
   "metadata": {},
   "outputs": [],
   "source": [
    "inside[~mask]=np.nan"
   ]
  },
  {
   "cell_type": "code",
   "execution_count": 69,
   "id": "b0ed2857",
   "metadata": {},
   "outputs": [
    {
     "data": {
      "text/plain": [
       "<matplotlib.image.AxesImage at 0x7f85250f5310>"
      ]
     },
     "execution_count": 69,
     "metadata": {},
     "output_type": "execute_result"
    },
    {
     "data": {
      "image/png": "[encoded data removed]",
      "text/plain": [
       "<Figure size 432x288 with 1 Axes>"
      ]
     },
     "metadata": {
      "needs_background": "light"
     },
     "output_type": "display_data"
    }
   ],
   "source": [
    "plt.imshow(inside)"
   ]
  },
  {
   "cell_type": "code",
   "execution_count": 70,
   "id": "b1eb8ae4",
   "metadata": {},
   "outputs": [],
   "source": [
    "outside=np.copy(sub_img)"
   ]
  },
  {
   "cell_type": "code",
   "execution_count": 71,
   "id": "712cd969",
   "metadata": {},
   "outputs": [],
   "source": [
    "outside[mask]=np.nan"
   ]
  },
  {
   "cell_type": "code",
   "execution_count": 72,
   "id": "217967f2",
   "metadata": {},
   "outputs": [
    {
     "data": {
      "text/plain": [
       "<matplotlib.image.AxesImage at 0x7f85250d3130>"
      ]
     },
     "execution_count": 72,
     "metadata": {},
     "output_type": "execute_result"
    },
    {
     "data": {
      "image/png": "[encoded data removed]",
      "text/plain": [
       "<Figure size 432x288 with 1 Axes>"
      ]
     },
     "metadata": {
      "needs_background": "light"
     },
     "output_type": "display_data"
    }
   ],
   "source": [
    "plt.imshow(outside)"
   ]
  },
  {
   "cell_type": "code",
   "execution_count": 73,
   "id": "78aecfc2",
   "metadata": {},
   "outputs": [
    {
     "data": {
      "text/plain": [
       "(array([454.,  92.,  46.,  23.,  18.,  10.,  12.,  13.,   8.,   5.,   5.,\n",
       "          7.,   4.,   6.,   8.,   6.,   3.,   4.,   1.,   3.,   7.,   1.,\n",
       "          6.,   2.,   2.,   2.,   4.,   7.,   1.,   3.,   4.,   2.,   2.,\n",
       "          2.,   2.,   4.,   2.,   1.,   2.,   1.,   1.,   3.,   0.,   1.,\n",
       "          1.,   0.,   5.,   2.,   1.,   3.,   0.,   4.,   1.,   1.,   1.,\n",
       "          0.,   2.,   0.,   1.,   1.,   2.,   2.,   0.,   0.,   3.,   3.,\n",
       "          1.,   0.,   0.,   1.,   2.,   1.,   0.,   1.,   2.,   0.,   0.,\n",
       "          0.,   0.,   0.,   1.,   0.,   1.,   0.,   0.,   0.,   0.,   0.,\n",
       "          0.,   1.,   1.,   0.,   2.,   2.,   0.,   0.,   0.,   1.,   0.,\n",
       "          1.]),\n",
       " array([32794.45479085, 32970.33415371, 33146.21351657, 33322.09287943,\n",
       "        33497.97224228, 33673.85160514, 33849.730968  , 34025.61033086,\n",
       "        34201.48969371, 34377.36905657, 34553.24841943, 34729.12778228,\n",
       "        34905.00714514, 35080.886508  , 35256.76587086, 35432.64523371,\n",
       "        35608.52459657, 35784.40395943, 35960.28332229, 36136.16268514,\n",
       "        36312.042048  , 36487.92141086, 36663.80077372, 36839.68013657,\n",
       "        37015.55949943, 37191.43886229, 37367.31822514, 37543.197588  ,\n",
       "        37719.07695086, 37894.95631372, 38070.83567657, 38246.71503943,\n",
       "        38422.59440229, 38598.47376515, 38774.353128  , 38950.23249086,\n",
       "        39126.11185372, 39301.99121657, 39477.87057943, 39653.74994229,\n",
       "        39829.62930515, 40005.508668  , 40181.38803086, 40357.26739372,\n",
       "        40533.14675658, 40709.02611943, 40884.90548229, 41060.78484515,\n",
       "        41236.664208  , 41412.54357086, 41588.42293372, 41764.30229658,\n",
       "        41940.18165943, 42116.06102229, 42291.94038515, 42467.81974801,\n",
       "        42643.69911086, 42819.57847372, 42995.45783658, 43171.33719944,\n",
       "        43347.21656229, 43523.09592515, 43698.97528801, 43874.85465086,\n",
       "        44050.73401372, 44226.61337658, 44402.49273944, 44578.37210229,\n",
       "        44754.25146515, 44930.13082801, 45106.01019087, 45281.88955372,\n",
       "        45457.76891658, 45633.64827944, 45809.52764229, 45985.40700515,\n",
       "        46161.28636801, 46337.16573087, 46513.04509372, 46688.92445658,\n",
       "        46864.80381944, 47040.6831823 , 47216.56254515, 47392.44190801,\n",
       "        47568.32127087, 47744.20063372, 47920.07999658, 48095.95935944,\n",
       "        48271.8387223 , 48447.71808515, 48623.59744801, 48799.47681087,\n",
       "        48975.35617373, 49151.23553658, 49327.11489944, 49502.9942623 ,\n",
       "        49678.87362516, 49854.75298801, 50030.63235087, 50206.51171373,\n",
       "        50382.39107658]),\n",
       " <BarContainer object of 100 artists>)"
      ]
     },
     "execution_count": 73,
     "metadata": {},
     "output_type": "execute_result"
    },
    {
     "data": {
      "image/png": "[encoded data removed]",
      "text/plain": [
       "<Figure size 432x288 with 1 Axes>"
      ]
     },
     "metadata": {
      "needs_background": "light"
     },
     "output_type": "display_data"
    }
   ],
   "source": [
    "plt.hist(np.ravel(inside[np.logical_not(np.isnan(inside))]), bins=100)"
   ]
  },
  {
   "cell_type": "code",
   "execution_count": 74,
   "id": "d86b4fbb",
   "metadata": {},
   "outputs": [
    {
     "data": {
      "text/plain": [
       "(array([  1.,   2.,   0.,   1.,   1.,   2.,   2.,   3.,   2.,   5.,   6.,\n",
       "          4.,   9.,   8.,   8.,  13.,  21.,  25.,  26.,  29.,  36.,  46.,\n",
       "         53.,  69.,  71.,  99., 107., 115., 137., 152., 196., 191., 196.,\n",
       "        250., 274., 249., 343., 310., 359., 351., 386., 460., 407., 406.,\n",
       "        431., 448., 442., 413., 454., 436., 423., 440., 392., 387., 382.,\n",
       "        353., 309., 303., 310., 245., 263., 197., 191., 156., 146., 141.,\n",
       "        117., 115.,  95.,  84.,  64.,  50.,  67.,  43.,  45.,  35.,  24.,\n",
       "         29.,  15.,  15.,  10.,  13.,  11.,   8.,   6.,   1.,   4.,   3.,\n",
       "          4.,   1.,   0.,   0.,   2.,   0.,   3.,   0.,   0.,   0.,   0.,\n",
       "          2.]),\n",
       " array([32776.40539305, 32777.60330265, 32778.80121225, 32779.99912185,\n",
       "        32781.19703145, 32782.39494106, 32783.59285066, 32784.79076026,\n",
       "        32785.98866986, 32787.18657946, 32788.38448906, 32789.58239866,\n",
       "        32790.78030826, 32791.97821786, 32793.17612746, 32794.37403706,\n",
       "        32795.57194666, 32796.76985627, 32797.96776587, 32799.16567547,\n",
       "        32800.36358507, 32801.56149467, 32802.75940427, 32803.95731387,\n",
       "        32805.15522347, 32806.35313307, 32807.55104267, 32808.74895227,\n",
       "        32809.94686188, 32811.14477148, 32812.34268108, 32813.54059068,\n",
       "        32814.73850028, 32815.93640988, 32817.13431948, 32818.33222908,\n",
       "        32819.53013868, 32820.72804828, 32821.92595788, 32823.12386749,\n",
       "        32824.32177709, 32825.51968669, 32826.71759629, 32827.91550589,\n",
       "        32829.11341549, 32830.31132509, 32831.50923469, 32832.70714429,\n",
       "        32833.90505389, 32835.10296349, 32836.30087309, 32837.4987827 ,\n",
       "        32838.6966923 , 32839.8946019 , 32841.0925115 , 32842.2904211 ,\n",
       "        32843.4883307 , 32844.6862403 , 32845.8841499 , 32847.0820595 ,\n",
       "        32848.2799691 , 32849.4778787 , 32850.67578831, 32851.87369791,\n",
       "        32853.07160751, 32854.26951711, 32855.46742671, 32856.66533631,\n",
       "        32857.86324591, 32859.06115551, 32860.25906511, 32861.45697471,\n",
       "        32862.65488431, 32863.85279392, 32865.05070352, 32866.24861312,\n",
       "        32867.44652272, 32868.64443232, 32869.84234192, 32871.04025152,\n",
       "        32872.23816112, 32873.43607072, 32874.63398032, 32875.83188992,\n",
       "        32877.02979952, 32878.22770913, 32879.42561873, 32880.62352833,\n",
       "        32881.82143793, 32883.01934753, 32884.21725713, 32885.41516673,\n",
       "        32886.61307633, 32887.81098593, 32889.00889553, 32890.20680513,\n",
       "        32891.40471474, 32892.60262434, 32893.80053394, 32894.99844354,\n",
       "        32896.19635314]),\n",
       " <BarContainer object of 100 artists>)"
      ]
     },
     "execution_count": 74,
     "metadata": {},
     "output_type": "execute_result"
    },
    {
     "data": {
      "image/png": "[encoded data removed]",
      "text/plain": [
       "<Figure size 432x288 with 1 Axes>"
      ]
     },
     "metadata": {
      "needs_background": "light"
     },
     "output_type": "display_data"
    }
   ],
   "source": [
    "plt.hist(np.ravel(outside[np.logical_not(np.isnan(outside))]), bins=100)"
   ]
  },
  {
   "cell_type": "code",
   "execution_count": 75,
   "id": "806b7390",
   "metadata": {},
   "outputs": [],
   "source": [
    "bkg=np.nanmean(outside)"
   ]
  },
  {
   "cell_type": "code",
   "execution_count": 76,
   "id": "46f6a6cf",
   "metadata": {},
   "outputs": [],
   "source": [
    "bkg_noise=np.nanstd(outside)"
   ]
  },
  {
   "cell_type": "code",
   "execution_count": 77,
   "id": "f9639114",
   "metadata": {},
   "outputs": [
    {
     "data": {
      "text/plain": [
       "14.693386970391598"
      ]
     },
     "execution_count": 77,
     "metadata": {},
     "output_type": "execute_result"
    }
   ],
   "source": [
    "bkg_noise"
   ]
  },
  {
   "cell_type": "code",
   "execution_count": 78,
   "id": "23f9ced2",
   "metadata": {},
   "outputs": [
    {
     "data": {
      "text/plain": [
       "32832.91760417462"
      ]
     },
     "execution_count": 78,
     "metadata": {},
     "output_type": "execute_result"
    }
   ],
   "source": [
    "bkg"
   ]
  },
  {
   "cell_type": "code",
   "execution_count": 79,
   "id": "d52765f3",
   "metadata": {},
   "outputs": [],
   "source": [
    "gain=0.82\n"
   ]
  },
  {
   "cell_type": "code",
   "execution_count": 80,
   "id": "07f7f61f",
   "metadata": {},
   "outputs": [],
   "source": [
    "bkg=bkg*gain\n"
   ]
  },
  {
   "cell_type": "code",
   "execution_count": 81,
   "id": "f792f24e",
   "metadata": {},
   "outputs": [],
   "source": [
    "bkg_noise=bkg_noise*gain"
   ]
  },
  {
   "cell_type": "code",
   "execution_count": 82,
   "id": "31e1b20e",
   "metadata": {},
   "outputs": [
    {
     "data": {
      "text/plain": [
       "26922.992435423184"
      ]
     },
     "execution_count": 82,
     "metadata": {},
     "output_type": "execute_result"
    }
   ],
   "source": [
    "bkg\n"
   ]
  },
  {
   "cell_type": "code",
   "execution_count": 83,
   "id": "0f4df93a",
   "metadata": {},
   "outputs": [
    {
     "data": {
      "text/plain": [
       "12.04857731572111"
      ]
     },
     "execution_count": 83,
     "metadata": {},
     "output_type": "execute_result"
    }
   ],
   "source": [
    "bkg_noise"
   ]
  },
  {
   "cell_type": "code",
   "execution_count": 84,
   "id": "ee9b43d3",
   "metadata": {},
   "outputs": [
    {
     "data": {
      "text/plain": [
       "<matplotlib.image.AxesImage at 0x7f8524d855e0>"
      ]
     },
     "execution_count": 84,
     "metadata": {},
     "output_type": "execute_result"
    },
    {
     "data": {
      "image/png": "[encoded data removed]",
      "text/plain": [
       "<Figure size 432x288 with 1 Axes>"
      ]
     },
     "metadata": {
      "needs_background": "light"
     },
     "output_type": "display_data"
    }
   ],
   "source": [
    "inside_bkgsub=inside*gain-bkg\n",
    "plt.imshow(inside_bkgsub)"
   ]
  },
  {
   "cell_type": "code",
   "execution_count": 85,
   "id": "a5aa0118",
   "metadata": {},
   "outputs": [],
   "source": [
    "error = np.sqrt(28.8**2 + 2*bkg_noise**2 + inside_bkgsub)"
   ]
  },
  {
   "cell_type": "code",
   "execution_count": 86,
   "id": "b30df4a8",
   "metadata": {},
   "outputs": [],
   "source": [
    "flux=inside_bkgsub"
   ]
  },
  {
   "cell_type": "code",
   "execution_count": 87,
   "id": "b02de028",
   "metadata": {},
   "outputs": [],
   "source": [
    "flux_total=np.nansum(flux)"
   ]
  },
  {
   "cell_type": "code",
   "execution_count": 88,
   "id": "6b22f04a",
   "metadata": {},
   "outputs": [],
   "source": [
    "error_total=np.sqrt(2*28.8**2 + 2*bkg_noise**2+np.nansum(flux))\n",
    "snr_total=flux_total/error_total"
   ]
  },
  {
   "cell_type": "code",
   "execution_count": 89,
   "id": "69ce3c8f",
   "metadata": {},
   "outputs": [
    {
     "data": {
      "text/plain": [
       "971.5377976432626"
      ]
     },
     "execution_count": 89,
     "metadata": {},
     "output_type": "execute_result"
    }
   ],
   "source": [
    "snr_total"
   ]
  },
  {
   "cell_type": "code",
   "execution_count": 90,
   "id": "304c0372",
   "metadata": {},
   "outputs": [],
   "source": [
    "bkg_subfact=np.sum(mask)/np.sum(np.logical_not(mask))"
   ]
  },
  {
   "cell_type": "code",
   "execution_count": 91,
   "id": "45ba2914",
   "metadata": {},
   "outputs": [
    {
     "data": {
      "text/plain": [
       "0.0620252230990486"
      ]
     },
     "execution_count": 91,
     "metadata": {},
     "output_type": "execute_result"
    }
   ],
   "source": [
    "bkg_subfact"
   ]
  },
  {
   "cell_type": "code",
   "execution_count": 92,
   "id": "8675bb06",
   "metadata": {},
   "outputs": [],
   "source": [
    "error_total=np.sqrt(2*28.8**2 + (1+bkg_subfact)*bkg_noise**2+np.nansum(flux))"
   ]
  },
  {
   "cell_type": "code",
   "execution_count": 93,
   "id": "5128a44d",
   "metadata": {},
   "outputs": [],
   "source": [
    "ron_subfact=np.sum(mask)/(500**2*7)"
   ]
  },
  {
   "cell_type": "code",
   "execution_count": 102,
   "id": "751c25ca",
   "metadata": {},
   "outputs": [],
   "source": [
    "error_total=np.sqrt( (1+bkg_subfact)*bkg_noise**2+np.nansum(flux))"
   ]
  },
  {
   "cell_type": "code",
   "execution_count": 103,
   "id": "b8c13bd3",
   "metadata": {},
   "outputs": [
    {
     "data": {
      "text/plain": [
       "972.4591265021566"
      ]
     },
     "execution_count": 103,
     "metadata": {},
     "output_type": "execute_result"
    }
   ],
   "source": [
    "snr_total=flux_total/error_total\n",
    "snr_total"
   ]
  },
  {
   "cell_type": "code",
   "execution_count": 104,
   "id": "c51d2bcd",
   "metadata": {},
   "outputs": [
    {
     "data": {
      "text/plain": [
       "(945830.8998973181, 972.6176392620041)"
      ]
     },
     "execution_count": 104,
     "metadata": {},
     "output_type": "execute_result"
    }
   ],
   "source": [
    "flux_total, error_total"
   ]
  },
  {
   "cell_type": "code",
   "execution_count": 105,
   "id": "91c8e826",
   "metadata": {},
   "outputs": [
    {
     "data": {
      "text/plain": [
       "'/mnt/c/Users/giuse/onedrive/desktop/cupani_folder/sci_total'"
      ]
     },
     "execution_count": 105,
     "metadata": {},
     "output_type": "execute_result"
    }
   ],
   "source": [
    "pwd"
   ]
  },
  {
   "cell_type": "code",
   "execution_count": null,
   "id": "17dddd38",
   "metadata": {},
   "outputs": [],
   "source": []
  }
 ],
 "metadata": {
  "kernelspec": {
   "display_name": "Python 3",
   "language": "python",
   "name": "python3"
  },
  "language_info": {
   "codemirror_mode": {
    "name": "ipython",
    "version": 3
   },
   "file_extension": ".py",
   "mimetype": "text/x-python",
   "name": "python",
   "nbconvert_exporter": "python",
   "pygments_lexer": "ipython3",
   "version": "3.8.8"
  }
 },
 "nbformat": 4,
 "nbformat_minor": 5
}
