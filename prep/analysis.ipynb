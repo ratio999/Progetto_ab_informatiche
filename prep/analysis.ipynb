{
 "cells": [
  {
   "cell_type": "markdown",
   "metadata": {},
   "source": [
    "## Analysis\n",
    "\n",
    "In this notebook, you will learn how to interpret the light curve of a start.\n",
    "\n",
    "Requisites:\n",
    "* a working Python 3.x environment, with **Astropy** (4.0), **Matplotlib** (3.1), **NumPy** (1.18), and **SciPy** (1.4) installed;\n",
    "* a ```utils.py``` file with useful functions;\n",
    "* a table with the magnitudes measured from a set of science frames (e.g. ```sci_2015/mags.fits```)."
   ]
  },
  {
   "cell_type": "markdown",
   "metadata": {},
   "source": [
    "### Let's make the light curve\n",
    "\n",
    "We can load up the magnitudes we have previously measured and format them as an Astropy table: "
   ]
  },
  {
   "cell_type": "code",
   "execution_count": 1,
   "metadata": {},
   "outputs": [
    {
     "name": "stdout",
     "output_type": "stream",
     "text": [
      "           file                   V                V_err        \n",
      "------------------------- ----------------- --------------------\n",
      "sci_2015/Reduced-001.fits  9.62112388244832 0.011462064286816733\n",
      "sci_2015/Reduced-002.fits 9.624103594453558 0.011462064286816733\n",
      "sci_2015/Reduced-003.fits 9.634745474104976 0.011462064286816733\n",
      "sci_2015/Reduced-004.fits 9.641587396822633 0.011462064286816733\n",
      "sci_2015/Reduced-005.fits 9.632890541512795 0.011462064286816733\n",
      "sci_2015/Reduced-006.fits 9.645089344833352 0.011462064286816733\n",
      "sci_2015/Reduced-007.fits  9.64470426369731 0.011462064286816733\n",
      "sci_2015/Reduced-008.fits 9.651745325799773 0.011462064286816733\n",
      "sci_2015/Reduced-009.fits  9.66310076573347 0.011462064286816733\n",
      "sci_2015/Reduced-010.fits  9.65175444171449 0.011462064286816733\n",
      "                      ...               ...                  ...\n",
      "sci_2015/Reduced-200.fits 9.606819909333453 0.011462064286816733\n",
      "sci_2015/Reduced-201.fits 9.586863156571056 0.011462064286816733\n",
      "sci_2015/Reduced-202.fits 9.583708582575131 0.011462064286816733\n",
      "sci_2015/Reduced-203.fits 9.560567267304686 0.011462064286816733\n",
      "sci_2015/Reduced-204.fits 9.538954769704716 0.011462064286816733\n",
      "sci_2015/Reduced-205.fits 9.527868074240523 0.011462064286816733\n",
      "sci_2015/Reduced-206.fits 9.527339685751143 0.011462064286816733\n",
      "sci_2015/Reduced-207.fits 9.489941272523495 0.011462064286816733\n",
      "sci_2015/Reduced-208.fits 9.476594504386155 0.011462064286816733\n",
      "sci_2015/Reduced-209.fits  9.46081002157091 0.011462064286816733\n",
      "sci_2015/Reduced-210.fits 9.434875118097995 0.011462064286816733\n",
      "Length = 210 rows\n"
     ]
    }
   ],
   "source": [
    "from astropy.io import fits\n",
    "from astropy.table import Table\n",
    "mags = Table(fits.open('sci_2015/mags.fits')[1].data)\n",
    "print(mags)"
   ]
  },
  {
   "cell_type": "markdown",
   "metadata": {},
   "source": [
    "We need to relate each magnitude value with the time of observation, which is provided in Julian Day format in the frame headers:"
   ]
  },
  {
   "cell_type": "code",
   "execution_count": 8,
   "metadata": {},
   "outputs": [],
   "source": [
    "import numpy as np\n",
    "\n",
    "jd = np.array([fits.open(f)[0].header['JD-HELIO'] for f in mags['file']])"
   ]
  },
  {
   "cell_type": "markdown",
   "metadata": {},
   "source": [
    "Now we can properly plot the light curve of the star and save it:"
   ]
  },
  {
   "cell_type": "code",
   "execution_count": 10,
   "metadata": {},
   "outputs": [
    {
     "data": {
      "image/png": "[encoded data removed]",
      "text/plain": [
       "<Figure size 864x576 with 1 Axes>"
      ]
     },
     "metadata": {
      "needs_background": "light"
     },
     "output_type": "display_data"
    }
   ],
   "source": [
    "import matplotlib.pyplot as plt\n",
    "from utils import plot_graph\n",
    "\n",
    "mag, mag_err = np.array(mags['V'], dtype=float), np.array(mags['V_err'], dtype=float)\n",
    "plot_graph(jd, mag, mode='errorbar', yerr=mag_err, fmt='o', xlabel='Julian day', ylabel='V mag')\n",
    "plt.ylim(9.8, 9.1)\n",
    "plt.show()\n",
    "\n",
    "t = Table([jd, mag, mag_err], names=['jd', 'V', 'V_err'])\n",
    "t.write('sci_2015/mags_jd.fits', format='fits', overwrite=True)"
   ]
  },
  {
   "cell_type": "markdown",
   "metadata": {},
   "source": [
    "## Timing the fluctuations\n",
    "\n",
    "A simple way to measure the period is to slide the light curve over itself along the time axis. We expect that the auto-correlation to be 1 at start (before sliding the curve) and to reach a maximum at some point, when the curve has been slid by exactly one period.\n",
    "\n",
    "We use ```pearson``` from SciPy to compute the Pearson correlation coefficient. Of course, when the curve is slid, the region where it overlaps with the original curve shrinks down, increasing the error on the correlation coefficient."
   ]
  },
  {
   "cell_type": "code",
   "execution_count": null,
   "metadata": {},
   "outputs": [],
   "source": [
    "from scipy.stats import pearsonr\n",
    "from utils import plot_graph, plot_refresh\n",
    "\n",
    "r = np.array([])\n",
    "dr = np.array([])\n",
    "\n",
    "td = jd-jd[0]  # Time since start [d]\n",
    "mag_norm = -2*(mag-0.5*(np.max(mag)+np.min(mag)))/(np.max(mag)-np.min(mag))  # Normalized V mag\n",
    "mag_norm2 = 0.5*(mag_norm+1)*(np.max(td)-np.min(td))\n",
    "\n",
    "for i in range(len(mag)):\n",
    "#for i in range(20):\n",
    "\n",
    "    if i>0 and len(mag[i:])>2:  # Cases accepted by pearsonr\n",
    "        rp, _ = pearsonr(mag[i:],mag[:-i])\n",
    "        r = np.append(r, rp)  # Pearson's correlation coefficient R\n",
    "        dr = np.append(dr, (1-rp**2)/np.sqrt(len(mag[i:])-2))  # Uncertainty on R \n",
    "        plot_graph(td, mag_norm, xlabel='Time since start [d]', ylabel='Norm. V mag / Corr. coeff.')\n",
    "        plot_graph(td[i:], mag_norm[:-i], new=False)\n",
    "        plot_graph(td[:i+1], r, new=False, c='C2')\n",
    "        plot_graph(mag_norm2[i:], mag_norm[:-i], mode='scatter', new=False, alpha=0.2)\n",
    "        plt.fill_between(td[:i+1], r-dr, r+dr, color='C2', alpha=0.5)\n",
    "        plot_refresh(i)\n",
    "        plt.show()\n",
    "    else:\n",
    "        r = np.append(r, np.nan)\n",
    "        dr = np.append(dr, np.nan)"
   ]
  },
  {
   "cell_type": "markdown",
   "metadata": {},
   "source": [
    "The period is somewhere around 0.122 days. To better estimate it, let's zoom into that region of the plot:"
   ]
  },
  {
   "cell_type": "code",
   "execution_count": null,
   "metadata": {},
   "outputs": [],
   "source": [
    "zoom = np.where(np.logical_and(td>0.115, td<0.13))\n",
    "\n",
    "plot_graph(td[zoom], r[zoom], c='C2')\n",
    "plt.fill_between(td[zoom], r[zoom]-dr[zoom], r[zoom]+dr[zoom], color='C2', alpha=0.5)\n",
    "plt.show()"
   ]
  },
  {
   "cell_type": "markdown",
   "metadata": {},
   "source": [
    "We can roughly take the maximum of ```r``` in this region as our estimate of the period, and the region where ```r+dr``` is greater than this value as the confidence interval for such estimate:"
   ]
  },
  {
   "cell_type": "code",
   "execution_count": null,
   "metadata": {},
   "outputs": [],
   "source": [
    "est = np.argmax(r[zoom])\n",
    "ci = np.where(r[zoom]+dr[zoom]>r[zoom])\n",
    "\n",
    "period = td[zoom][est]\n",
    "period_lo = td[zoom][ci][0] - period\n",
    "period_up = td[zoom][ci][-1] - period\n",
    "print('Period: %3.3f (%3.3f +%3.3f) d' % (period, period_lo, period_up))"
   ]
  },
  {
   "cell_type": "markdown",
   "metadata": {},
   "source": [
    "This is very well agreement with the current best estimate of 0.12053492 d, albeit a lot less precise. We could have modeled the peak of the correlation coefficient in a more sophisticated way, but the better way to improve the estimation is to observe the star through several periods instead of one."
   ]
  },
  {
   "cell_type": "markdown",
   "metadata": {},
   "source": [
    "### Fast, Fourier, Transform!\n",
    "\n",
    "Since the light curve is periodic, it makes sense to describe it in terms of frequencies, using the **Fourier transform**. This can be done with the Fast Fourier Transform (FFT) algorithm, included in SciPy. \n",
    "\n",
    "In our specific case, there are at least two caveats to be considered. Firstly, the FFT algorithm assumes that the time sampling is constant, which is only marginally true for our dataset: "
   ]
  },
  {
   "cell_type": "code",
   "execution_count": null,
   "metadata": {},
   "outputs": [],
   "source": [
    "td_step = (td[1:]-td[:-1]) * 86400\n",
    "td_med = np.median(td_step)\n",
    "\n",
    "plot_graph(td[1:], td_step, mode='scatter', xlabel='Time since start [d]', ylabel='Time step [s]')\n",
    "plt.axhline(td_med)\n",
    "plt.show()"
   ]
  },
  {
   "cell_type": "markdown",
   "metadata": {},
   "source": [
    "Secondly and most importantly, the time domain covered by our data is very limited. As a consequence, the frequency domain is severely undersampled, especially in the region where we expect to find the fundamental frequency of the oscillation, $f=1/p\\simeq 8$d$^{-1}$ (shaded in the plot):"
   ]
  },
  {
   "cell_type": "code",
   "execution_count": null,
   "metadata": {},
   "outputs": [],
   "source": [
    "from scipy import fftpack as fft\n",
    "\n",
    "n = len(mag)  # Length of light curve\n",
    "f = fft.rfftfreq(n, td_med/86400)  # Frequency domain, in d^-1\n",
    "mag_f = fft.rfft(mag)  # FFT of V mag\n",
    "mag_s = mag_f**2  # Spectrum of V mag\n",
    "\n",
    "print(f, len(mag_s))\n",
    "\n",
    "plot_graph(f, mag_s, mode='scatter', xlabel='Frequency [d^-1]', ylabel='Spectrum of V mag (abs. value)')\n",
    "plt.axvspan(1/0.116, 1/0.129, alpha=0.2, color='green')\n",
    "plt.xscale('log')\n",
    "plt.yscale('log')\n",
    "plt.xlim(1,1e3)\n",
    "plt.ylim(1e-6,1e3)\n",
    "plt.show()"
   ]
  },
  {
   "cell_type": "markdown",
   "metadata": {},
   "source": [
    "Just for demonstration purposes, we will artificially extend our time domain by cutting out a single period from the light curve and copy-pasting it onto itself several times. Of course, this is not a good alternative to acquiring more data!\n",
    "\n",
    "You can see than with 20 repeats the frequency space is much better sampled and a subset of frequencies becomes more relevant:"
   ]
  },
  {
   "cell_type": "code",
   "execution_count": null,
   "metadata": {},
   "outputs": [],
   "source": [
    "cut = 151  # This is where the period ends in our original time series\n",
    "repeat = 20\n",
    "magr = mag[:cut]\n",
    "for i in range(repeat):\n",
    "    magr = np.append(mag[:cut], magr)  # Extended light curve\n",
    "\n",
    "nr = len(magr)\n",
    "tdr = np.linspace(0, nr*td_med/86400, nr)  # Extended time domain, in d\n",
    "fr = fft.rfftfreq(nr, td_med/86400)\n",
    "magr_f = fft.rfft(magr)\n",
    "magr_s = magr_f**2\n",
    "\n",
    "plot_graph(tdr, magr)\n",
    "plot_graph(fr, magr_s, mode='scatter', xlabel='Frequency [d^-1]', ylabel='Spectrum of V mag (abs. value)')\n",
    "plt.axvspan(1/0.116, 1/0.129, alpha=0.2, color='green')\n",
    "plt.xscale('log')\n",
    "plt.yscale('log')\n",
    "plt.xlim(1,1e3)\n",
    "plt.ylim(1e-40,1e10)\n",
    "plt.show()"
   ]
  },
  {
   "cell_type": "markdown",
   "metadata": {},
   "source": [
    "By cutting off the irrrelevant frequencies and compute the inverse-FFT on the resulting spectrum, we can efficiently smooth the light curve:"
   ]
  },
  {
   "cell_type": "code",
   "execution_count": null,
   "metadata": {},
   "outputs": [],
   "source": [
    "import time\n",
    "\n",
    "for exp in np.arange(-5,-8,-0.5):\n",
    "    cutoff = 10**exp\n",
    "    cutoff_idx = magr_s < magr_s.max()*cutoff\n",
    "    magr_f_cut = np.copy(magr_f)\n",
    "    magr_s_cut = np.copy(magr_s)\n",
    "    magr_f_cut[cutoff_idx] = 0\n",
    "    magr_s_cut[cutoff_idx] = 0\n",
    "    magr_cut = fft.irfft(magr_f_cut, nr)\n",
    "    plot_graph(fr, magr_s, mode='scatter', xlabel='Frequency [d^-1]', ylabel='Spectrum of V mag (abs. value)')\n",
    "    plot_graph(fr, magr_s_cut, mode='scatter', new=False)\n",
    "    plt.xscale('log')\n",
    "    plt.yscale('log')\n",
    "    plt.xlim(1,1e3)\n",
    "    plt.ylim(1e-40,1e10)\n",
    "    plot_refresh()\n",
    "    plt.show()\n",
    "    \n",
    "    plot_graph(td, mag, xlabel='Time since start [d]', ylabel='V mag')\n",
    "    plot_graph(td, magr_cut[:len(mag)], new=False)\n",
    "    plt.ylim(9.8, 9.1)\n",
    "\n",
    "    time.sleep(3)\n",
    "    plot_refresh()\n",
    "    plt.show()"
   ]
  },
  {
   "cell_type": "markdown",
   "metadata": {},
   "source": [
    "## Folding our data\n",
    "\n",
    "An efficient technique to analize periodic data when the series is limited in time is to **fold** the time series onto itself, i.e. converting times into phases. If we don't know the period, we can try and compute different phase series for different test periods in a range, and see which folding gives a better alignment of the features of the phase series (not surprisingly, this happens for a period around 0.12 d in our case):"
   ]
  },
  {
   "cell_type": "code",
   "execution_count": null,
   "metadata": {},
   "outputs": [],
   "source": [
    "mag_ph = mag\n",
    "td_ph = td\n",
    "\n",
    "period_range = np.arange(0.01,0.175,0.01)  # Range of test periods\n",
    "period_chi2r = np.array([])\n",
    "\n",
    "for i,p in enumerate(period_range):\n",
    "    ph = 2*np.pi * td_ph/p % (2*np.pi)\n",
    "    plot_graph(ph, mag_ph, mode='scatter')\n",
    "    plot_refresh(\"Test period: %3.2f d\" % p)\n",
    "    time.sleep(0.5)\n",
    "    plt.show()"
   ]
  },
  {
   "cell_type": "markdown",
   "metadata": {},
   "source": [
    "We can refine our estimation of the period by scanning the range of test periods around the value that gives the best folding alignment, and computing the **reduced chi-squared** ($\\chi^2_r$) between the sections of the phase series that are folded onto each other. We see that $\\chi^2_r$ decreases, reaches a minimum very close to 1, and increases again, as the test periods moves through the range:"
   ]
  },
  {
   "cell_type": "code",
   "execution_count": null,
   "metadata": {},
   "outputs": [],
   "source": [
    "bins = 210\n",
    "\n",
    "def chi2r(obs, mod, err, npar=1):\n",
    "    chi2 = np.sum((obs-mod)**2/err**2)\n",
    "    return chi2 /(len(obs)-npar)\n",
    "\n",
    "period_range = np.arange(0.12,0.123,0.00005)  # Shorter and finer range of test periods\n",
    "period_chi2r = np.array([])\n",
    "\n",
    "for p in period_range:\n",
    "    ph = 2*np.pi * td_ph/p % (2*np.pi)\n",
    "    \n",
    "    l = min(np.sum(td_ph<p), np.sum(td_ph>p))\n",
    "    head = mag_ph[:l]\n",
    "    tail = np.interp(ph[:l], ph[-l:], mag_ph[-l:])\n",
    "    period_chi2r = np.append(period_chi2r, chi2r(head,tail,mag_err[:l]))\n",
    "    \n",
    "    plot_graph(ph, mag_ph, mode='scatter')\n",
    "    plot_refresh(r\"Test period: %3.5f; $\\chi_r^2$: %3.4f\" % (p, chi2r(head,tail,mag_err[:l])))\n",
    "    plt.show()"
   ]
  },
  {
   "cell_type": "markdown",
   "metadata": {},
   "source": [
    "The best-fit period is the one that gives the minimum $\\chi_r^2$ on the phase series, and its 1-$\\sigma$ uncertainty is defined by the region where the $\\chi_r^2$ is less than $\\chi_{r,\\mathrm{min}}^2+1$. You can see that with this method we obtain a much better precision than using the Pearson correlation coefficient, as we did before: "
   ]
  },
  {
   "cell_type": "code",
   "execution_count": null,
   "metadata": {},
   "outputs": [],
   "source": [
    "est = np.argmin(period_chi2r)\n",
    "ci = np.where(period_chi2r<period_chi2r[est]+1)\n",
    "\n",
    "chi2r_min = period_chi2r[est]\n",
    "period = period_range[est]\n",
    "period_lo = period_range[ci][0] - period\n",
    "period_up = period_range[ci][-1] - period\n",
    "\n",
    "plot_graph(period_range, period_chi2r)\n",
    "plot_graph(period, period_chi2r[est], mode='scatter', new=False)\n",
    "plt.axhline(chi2r_min, linestyle=':')\n",
    "plt.axhline(chi2r_min+1, linestyle=':')\n",
    "plt.axvline(0.12053492, linestyle='--', c='r')  # Best-fit period from literature \n",
    "plt.axvspan(period+period_lo, period+period_up, alpha=0.2, color='C0')\n",
    "plt.show()\n",
    "\n",
    "print('Period: %3.5f (%3.5f +%3.5f) d' % (period, period_lo, period_up))"
   ]
  }
 ],
 "metadata": {
  "kernelspec": {
   "display_name": "Python 3",
   "language": "python",
   "name": "python3"
  },
  "language_info": {
   "codemirror_mode": {
    "name": "ipython",
    "version": 3
   },
   "file_extension": ".py",
   "mimetype": "text/x-python",
   "name": "python",
   "nbconvert_exporter": "python",
   "pygments_lexer": "ipython3",
   "version": "3.8.8"
  }
 },
 "nbformat": 4,
 "nbformat_minor": 2
}
